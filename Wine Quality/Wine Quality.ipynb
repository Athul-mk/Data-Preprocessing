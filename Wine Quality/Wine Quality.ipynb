{
 "cells": [
  {
   "cell_type": "code",
   "execution_count": 1,
   "id": "7edaab9e",
   "metadata": {},
   "outputs": [],
   "source": [
    "import pandas as pd\n",
    "import numpy as np\n",
    "import matplotlib.pyplot as plt\n",
    "import seaborn as sns\n"
   ]
  },
  {
   "cell_type": "code",
   "execution_count": 2,
   "id": "02069647",
   "metadata": {},
   "outputs": [],
   "source": [
    "data=pd.read_csv('winequalityN.csv')"
   ]
  },
  {
   "cell_type": "code",
   "execution_count": 3,
   "id": "cbff6ca9",
   "metadata": {},
   "outputs": [
    {
     "data": {
      "text/html": [
       "<div>\n",
       "<style scoped>\n",
       "    .dataframe tbody tr th:only-of-type {\n",
       "        vertical-align: middle;\n",
       "    }\n",
       "\n",
       "    .dataframe tbody tr th {\n",
       "        vertical-align: top;\n",
       "    }\n",
       "\n",
       "    .dataframe thead th {\n",
       "        text-align: right;\n",
       "    }\n",
       "</style>\n",
       "<table border=\"1\" class=\"dataframe\">\n",
       "  <thead>\n",
       "    <tr style=\"text-align: right;\">\n",
       "      <th></th>\n",
       "      <th>type</th>\n",
       "      <th>fixed acidity</th>\n",
       "      <th>volatile acidity</th>\n",
       "      <th>citric acid</th>\n",
       "      <th>residual sugar</th>\n",
       "      <th>chlorides</th>\n",
       "      <th>free sulfur dioxide</th>\n",
       "      <th>total sulfur dioxide</th>\n",
       "      <th>density</th>\n",
       "      <th>pH</th>\n",
       "      <th>sulphates</th>\n",
       "      <th>alcohol</th>\n",
       "      <th>quality</th>\n",
       "    </tr>\n",
       "  </thead>\n",
       "  <tbody>\n",
       "    <tr>\n",
       "      <th>0</th>\n",
       "      <td>white</td>\n",
       "      <td>7.0</td>\n",
       "      <td>0.27</td>\n",
       "      <td>0.36</td>\n",
       "      <td>20.7</td>\n",
       "      <td>0.045</td>\n",
       "      <td>45.0</td>\n",
       "      <td>170.0</td>\n",
       "      <td>1.0010</td>\n",
       "      <td>3.00</td>\n",
       "      <td>0.45</td>\n",
       "      <td>8.8</td>\n",
       "      <td>6</td>\n",
       "    </tr>\n",
       "    <tr>\n",
       "      <th>1</th>\n",
       "      <td>white</td>\n",
       "      <td>6.3</td>\n",
       "      <td>0.30</td>\n",
       "      <td>0.34</td>\n",
       "      <td>1.6</td>\n",
       "      <td>0.049</td>\n",
       "      <td>14.0</td>\n",
       "      <td>132.0</td>\n",
       "      <td>0.9940</td>\n",
       "      <td>3.30</td>\n",
       "      <td>0.49</td>\n",
       "      <td>9.5</td>\n",
       "      <td>6</td>\n",
       "    </tr>\n",
       "    <tr>\n",
       "      <th>2</th>\n",
       "      <td>white</td>\n",
       "      <td>8.1</td>\n",
       "      <td>0.28</td>\n",
       "      <td>0.40</td>\n",
       "      <td>6.9</td>\n",
       "      <td>0.050</td>\n",
       "      <td>30.0</td>\n",
       "      <td>97.0</td>\n",
       "      <td>0.9951</td>\n",
       "      <td>3.26</td>\n",
       "      <td>0.44</td>\n",
       "      <td>10.1</td>\n",
       "      <td>6</td>\n",
       "    </tr>\n",
       "    <tr>\n",
       "      <th>3</th>\n",
       "      <td>white</td>\n",
       "      <td>7.2</td>\n",
       "      <td>0.23</td>\n",
       "      <td>0.32</td>\n",
       "      <td>8.5</td>\n",
       "      <td>0.058</td>\n",
       "      <td>47.0</td>\n",
       "      <td>186.0</td>\n",
       "      <td>0.9956</td>\n",
       "      <td>3.19</td>\n",
       "      <td>0.40</td>\n",
       "      <td>9.9</td>\n",
       "      <td>6</td>\n",
       "    </tr>\n",
       "    <tr>\n",
       "      <th>4</th>\n",
       "      <td>white</td>\n",
       "      <td>7.2</td>\n",
       "      <td>0.23</td>\n",
       "      <td>0.32</td>\n",
       "      <td>8.5</td>\n",
       "      <td>0.058</td>\n",
       "      <td>47.0</td>\n",
       "      <td>186.0</td>\n",
       "      <td>0.9956</td>\n",
       "      <td>3.19</td>\n",
       "      <td>0.40</td>\n",
       "      <td>9.9</td>\n",
       "      <td>6</td>\n",
       "    </tr>\n",
       "  </tbody>\n",
       "</table>\n",
       "</div>"
      ],
      "text/plain": [
       "    type  fixed acidity  volatile acidity  citric acid  residual sugar  \\\n",
       "0  white            7.0              0.27         0.36            20.7   \n",
       "1  white            6.3              0.30         0.34             1.6   \n",
       "2  white            8.1              0.28         0.40             6.9   \n",
       "3  white            7.2              0.23         0.32             8.5   \n",
       "4  white            7.2              0.23         0.32             8.5   \n",
       "\n",
       "   chlorides  free sulfur dioxide  total sulfur dioxide  density    pH  \\\n",
       "0      0.045                 45.0                 170.0   1.0010  3.00   \n",
       "1      0.049                 14.0                 132.0   0.9940  3.30   \n",
       "2      0.050                 30.0                  97.0   0.9951  3.26   \n",
       "3      0.058                 47.0                 186.0   0.9956  3.19   \n",
       "4      0.058                 47.0                 186.0   0.9956  3.19   \n",
       "\n",
       "   sulphates  alcohol  quality  \n",
       "0       0.45      8.8        6  \n",
       "1       0.49      9.5        6  \n",
       "2       0.44     10.1        6  \n",
       "3       0.40      9.9        6  \n",
       "4       0.40      9.9        6  "
      ]
     },
     "execution_count": 3,
     "metadata": {},
     "output_type": "execute_result"
    }
   ],
   "source": [
    "data.head()"
   ]
  },
  {
   "cell_type": "code",
   "execution_count": 4,
   "id": "bd7b80bf",
   "metadata": {},
   "outputs": [
    {
     "data": {
      "text/plain": [
       "(6497, 13)"
      ]
     },
     "execution_count": 4,
     "metadata": {},
     "output_type": "execute_result"
    }
   ],
   "source": [
    "data.shape"
   ]
  },
  {
   "cell_type": "code",
   "execution_count": 5,
   "id": "2bcebcd5",
   "metadata": {},
   "outputs": [
    {
     "name": "stdout",
     "output_type": "stream",
     "text": [
      "<class 'pandas.core.frame.DataFrame'>\n",
      "RangeIndex: 6497 entries, 0 to 6496\n",
      "Data columns (total 13 columns):\n",
      " #   Column                Non-Null Count  Dtype  \n",
      "---  ------                --------------  -----  \n",
      " 0   type                  6497 non-null   object \n",
      " 1   fixed acidity         6487 non-null   float64\n",
      " 2   volatile acidity      6489 non-null   float64\n",
      " 3   citric acid           6494 non-null   float64\n",
      " 4   residual sugar        6495 non-null   float64\n",
      " 5   chlorides             6495 non-null   float64\n",
      " 6   free sulfur dioxide   6497 non-null   float64\n",
      " 7   total sulfur dioxide  6497 non-null   float64\n",
      " 8   density               6497 non-null   float64\n",
      " 9   pH                    6488 non-null   float64\n",
      " 10  sulphates             6493 non-null   float64\n",
      " 11  alcohol               6497 non-null   float64\n",
      " 12  quality               6497 non-null   int64  \n",
      "dtypes: float64(11), int64(1), object(1)\n",
      "memory usage: 660.0+ KB\n"
     ]
    }
   ],
   "source": [
    "data.info()"
   ]
  },
  {
   "cell_type": "code",
   "execution_count": 6,
   "id": "bec2ea6f",
   "metadata": {},
   "outputs": [
    {
     "data": {
      "text/plain": [
       "type                     0\n",
       "fixed acidity           10\n",
       "volatile acidity         8\n",
       "citric acid              3\n",
       "residual sugar           2\n",
       "chlorides                2\n",
       "free sulfur dioxide      0\n",
       "total sulfur dioxide     0\n",
       "density                  0\n",
       "pH                       9\n",
       "sulphates                4\n",
       "alcohol                  0\n",
       "quality                  0\n",
       "dtype: int64"
      ]
     },
     "execution_count": 6,
     "metadata": {},
     "output_type": "execute_result"
    }
   ],
   "source": [
    "data.isna().sum()"
   ]
  },
  {
   "cell_type": "code",
   "execution_count": 7,
   "id": "08d42d6e",
   "metadata": {},
   "outputs": [
    {
     "data": {
      "text/plain": [
       "Index(['type', 'fixed acidity', 'volatile acidity', 'citric acid',\n",
       "       'residual sugar', 'chlorides', 'free sulfur dioxide',\n",
       "       'total sulfur dioxide', 'density', 'pH', 'sulphates', 'alcohol',\n",
       "       'quality'],\n",
       "      dtype='object')"
      ]
     },
     "execution_count": 7,
     "metadata": {},
     "output_type": "execute_result"
    }
   ],
   "source": [
    "data.columns"
   ]
  },
  {
   "cell_type": "code",
   "execution_count": 8,
   "id": "e7ba5ecb",
   "metadata": {},
   "outputs": [
    {
     "data": {
      "text/plain": [
       "type                     object\n",
       "fixed acidity           float64\n",
       "volatile acidity        float64\n",
       "citric acid             float64\n",
       "residual sugar          float64\n",
       "chlorides               float64\n",
       "free sulfur dioxide     float64\n",
       "total sulfur dioxide    float64\n",
       "density                 float64\n",
       "pH                      float64\n",
       "sulphates               float64\n",
       "alcohol                 float64\n",
       "quality                   int64\n",
       "dtype: object"
      ]
     },
     "execution_count": 8,
     "metadata": {},
     "output_type": "execute_result"
    }
   ],
   "source": [
    "data.dtypes"
   ]
  },
  {
   "cell_type": "code",
   "execution_count": 9,
   "id": "1834ee39",
   "metadata": {},
   "outputs": [
    {
     "data": {
      "image/png": "[encoded data removed]",
      "text/plain": [
       "<Figure size 2000x1500 with 12 Axes>"
      ]
     },
     "metadata": {},
     "output_type": "display_data"
    }
   ],
   "source": [
    "dgraph=data.select_dtypes(include=['float'])\n",
    "dgraph.hist(figsize=(20,15))\n",
    "plt.show()"
   ]
  },
  {
   "cell_type": "code",
   "execution_count": 10,
   "id": "44d8a206",
   "metadata": {},
   "outputs": [
    {
     "data": {
      "text/plain": [
       "type                    0\n",
       "fixed acidity           0\n",
       "volatile acidity        8\n",
       "citric acid             3\n",
       "residual sugar          2\n",
       "chlorides               2\n",
       "free sulfur dioxide     0\n",
       "total sulfur dioxide    0\n",
       "density                 0\n",
       "pH                      9\n",
       "sulphates               4\n",
       "alcohol                 0\n",
       "quality                 0\n",
       "dtype: int64"
      ]
     },
     "execution_count": 10,
     "metadata": {},
     "output_type": "execute_result"
    }
   ],
   "source": [
    "data['fixed acidity']=data['fixed acidity'].fillna(data['fixed acidity'].median())\n",
    "data.isna().sum()"
   ]
  },
  {
   "cell_type": "code",
   "execution_count": 11,
   "id": "da249fae",
   "metadata": {},
   "outputs": [
    {
     "data": {
      "text/plain": [
       "type                    0\n",
       "fixed acidity           0\n",
       "volatile acidity        0\n",
       "citric acid             0\n",
       "residual sugar          0\n",
       "chlorides               0\n",
       "free sulfur dioxide     0\n",
       "total sulfur dioxide    0\n",
       "density                 0\n",
       "pH                      0\n",
       "sulphates               0\n",
       "alcohol                 0\n",
       "quality                 0\n",
       "dtype: int64"
      ]
     },
     "execution_count": 11,
     "metadata": {},
     "output_type": "execute_result"
    }
   ],
   "source": [
    "for i in ['volatile acidity','citric acid','residual sugar','chlorides','pH','sulphates']:\n",
    "    data[i]=data[i].fillna(data[i].median())\n",
    "data.isna().sum()"
   ]
  },
  {
   "cell_type": "code",
   "execution_count": 12,
   "id": "8e04a204",
   "metadata": {},
   "outputs": [
    {
     "data": {
      "text/plain": [
       "type\n",
       "red      8.320450\n",
       "white    6.855768\n",
       "Name: fixed acidity, dtype: float64"
      ]
     },
     "execution_count": 12,
     "metadata": {},
     "output_type": "execute_result"
    }
   ],
   "source": [
    "data.groupby('type')['fixed acidity'].mean()"
   ]
  },
  {
   "cell_type": "code",
   "execution_count": 13,
   "id": "da99e321",
   "metadata": {},
   "outputs": [
    {
     "data": {
      "text/plain": [
       "2"
      ]
     },
     "execution_count": 13,
     "metadata": {},
     "output_type": "execute_result"
    }
   ],
   "source": [
    "data.type.nunique()"
   ]
  },
  {
   "cell_type": "code",
   "execution_count": 14,
   "id": "c02692a2",
   "metadata": {},
   "outputs": [
    {
     "data": {
      "text/plain": [
       "Text(0.5, 1.0, 'Box plot of fixed acidity')"
      ]
     },
     "execution_count": 14,
     "metadata": {},
     "output_type": "execute_result"
    },
    {
     "data": {
      "image/png": "[encoded data removed]",
      "text/plain": [
       "<Figure size 640x480 with 1 Axes>"
      ]
     },
     "metadata": {},
     "output_type": "display_data"
    }
   ],
   "source": [
    "plt.boxplot(data['fixed acidity'])\n",
    "plt.title('Box plot of fixed acidity')"
   ]
  },
  {
   "cell_type": "code",
   "execution_count": 15,
   "id": "b5d5e46a",
   "metadata": {},
   "outputs": [
    {
     "data": {
      "text/plain": [
       "Text(0.5, 1.0, 'Boxplot of volatile acidity')"
      ]
     },
     "execution_count": 15,
     "metadata": {},
     "output_type": "execute_result"
    },
    {
     "data": {
      "image/png": "[encoded data removed]",
      "text/plain": [
       "<Figure size 640x480 with 1 Axes>"
      ]
     },
     "metadata": {},
     "output_type": "display_data"
    }
   ],
   "source": [
    "plt.boxplot(data['volatile acidity'])\n",
    "plt.title('Boxplot of volatile acidity')"
   ]
  },
  {
   "cell_type": "code",
   "execution_count": 16,
   "id": "a2c9da54",
   "metadata": {},
   "outputs": [
    {
     "data": {
      "text/plain": [
       "Text(0.5, 1.0, 'Boxplot of citric acid ')"
      ]
     },
     "execution_count": 16,
     "metadata": {},
     "output_type": "execute_result"
    },
    {
     "data": {
      "image/png": "[encoded data removed]",
      "text/plain": [
       "<Figure size 640x480 with 1 Axes>"
      ]
     },
     "metadata": {},
     "output_type": "display_data"
    }
   ],
   "source": [
    "plt.boxplot(data['citric acid'])\n",
    "plt.title('Boxplot of citric acid ')"
   ]
  },
  {
   "cell_type": "code",
   "execution_count": 17,
   "id": "c16950ce",
   "metadata": {},
   "outputs": [
    {
     "data": {
      "text/plain": [
       "Text(0.5, 1.0, 'Box plot of residual sugar')"
      ]
     },
     "execution_count": 17,
     "metadata": {},
     "output_type": "execute_result"
    },
    {
     "data": {
      "image/png": "[encoded data removed]",
      "text/plain": [
       "<Figure size 640x480 with 1 Axes>"
      ]
     },
     "metadata": {},
     "output_type": "display_data"
    }
   ],
   "source": [
    "plt.boxplot(data['residual sugar'])\n",
    "plt.title('Box plot of residual sugar')"
   ]
  },
  {
   "cell_type": "code",
   "execution_count": 18,
   "id": "715a91fd",
   "metadata": {},
   "outputs": [
    {
     "data": {
      "text/plain": [
       "Text(0.5, 1.0, 'Box plot of chlorides')"
      ]
     },
     "execution_count": 18,
     "metadata": {},
     "output_type": "execute_result"
    },
    {
     "data": {
      "image/png": "[encoded data removed]",
      "text/plain": [
       "<Figure size 640x480 with 1 Axes>"
      ]
     },
     "metadata": {},
     "output_type": "display_data"
    }
   ],
   "source": [
    "plt.boxplot(data['chlorides'])\n",
    "plt.title('Box plot of chlorides')"
   ]
  },
  {
   "cell_type": "code",
   "execution_count": 19,
   "id": "53082964",
   "metadata": {},
   "outputs": [
    {
     "data": {
      "text/plain": [
       "Text(0.5, 1.0, 'Box plot of free sulfur dioxide ')"
      ]
     },
     "execution_count": 19,
     "metadata": {},
     "output_type": "execute_result"
    },
    {
     "data": {
      "image/png": "[encoded data removed]",
      "text/plain": [
       "<Figure size 640x480 with 1 Axes>"
      ]
     },
     "metadata": {},
     "output_type": "display_data"
    }
   ],
   "source": [
    "plt.boxplot(data['free sulfur dioxide'])\n",
    "plt.title('Box plot of free sulfur dioxide ')"
   ]
  },
  {
   "cell_type": "code",
   "execution_count": 20,
   "id": "4ee0649c",
   "metadata": {},
   "outputs": [
    {
     "data": {
      "text/plain": [
       "Text(0.5, 1.0, 'Box plot of total sulfur dioxide')"
      ]
     },
     "execution_count": 20,
     "metadata": {},
     "output_type": "execute_result"
    },
    {
     "data": {
      "image/png": "[encoded data removed]",
      "text/plain": [
       "<Figure size 640x480 with 1 Axes>"
      ]
     },
     "metadata": {},
     "output_type": "display_data"
    }
   ],
   "source": [
    "plt.boxplot(data['total sulfur dioxide'])\n",
    "plt.title('Box plot of total sulfur dioxide')"
   ]
  },
  {
   "cell_type": "code",
   "execution_count": 21,
   "id": "c252cc6f",
   "metadata": {},
   "outputs": [
    {
     "data": {
      "text/plain": [
       "Text(0.5, 1.0, 'Box plot of density')"
      ]
     },
     "execution_count": 21,
     "metadata": {},
     "output_type": "execute_result"
    },
    {
     "data": {
      "image/png": "[encoded data removed]",
      "text/plain": [
       "<Figure size 640x480 with 1 Axes>"
      ]
     },
     "metadata": {},
     "output_type": "display_data"
    }
   ],
   "source": [
    "plt.boxplot(data['density'])\n",
    "plt.title('Box plot of density')"
   ]
  },
  {
   "cell_type": "code",
   "execution_count": 22,
   "id": "2b4c97a6",
   "metadata": {},
   "outputs": [
    {
     "data": {
      "text/plain": [
       "Text(0.5, 1.0, 'Box plot of pH')"
      ]
     },
     "execution_count": 22,
     "metadata": {},
     "output_type": "execute_result"
    },
    {
     "data": {
      "image/png": "[encoded data removed]",
      "text/plain": [
       "<Figure size 640x480 with 1 Axes>"
      ]
     },
     "metadata": {},
     "output_type": "display_data"
    }
   ],
   "source": [
    "plt.boxplot(data['pH'])\n",
    "plt.title('Box plot of pH')"
   ]
  },
  {
   "cell_type": "code",
   "execution_count": 23,
   "id": "fd524cf1",
   "metadata": {},
   "outputs": [
    {
     "data": {
      "text/plain": [
       "Text(0.5, 1.0, 'Box plot of sulphates')"
      ]
     },
     "execution_count": 23,
     "metadata": {},
     "output_type": "execute_result"
    },
    {
     "data": {
      "image/png": "[encoded data removed]",
      "text/plain": [
       "<Figure size 640x480 with 1 Axes>"
      ]
     },
     "metadata": {},
     "output_type": "display_data"
    }
   ],
   "source": [
    "plt.boxplot(data['sulphates'])\n",
    "plt.title('Box plot of sulphates')"
   ]
  },
  {
   "cell_type": "code",
   "execution_count": 24,
   "id": "b42fcf04",
   "metadata": {},
   "outputs": [
    {
     "data": {
      "text/plain": [
       "Text(0.5, 1.0, 'Box plot of alcohol')"
      ]
     },
     "execution_count": 24,
     "metadata": {},
     "output_type": "execute_result"
    },
    {
     "data": {
      "image/png": "[encoded data removed]",
      "text/plain": [
       "<Figure size 640x480 with 1 Axes>"
      ]
     },
     "metadata": {},
     "output_type": "display_data"
    }
   ],
   "source": [
    "plt.boxplot(data['alcohol'])\n",
    "plt.title('Box plot of alcohol')"
   ]
  },
  {
   "cell_type": "code",
   "execution_count": 25,
   "id": "7668ef3d",
   "metadata": {},
   "outputs": [
    {
     "data": {
      "text/plain": [
       "Text(0.5, 1.0, 'Box plot of quality')"
      ]
     },
     "execution_count": 25,
     "metadata": {},
     "output_type": "execute_result"
    },
    {
     "data": {
      "image/png": "[encoded data removed]",
      "text/plain": [
       "<Figure size 640x480 with 1 Axes>"
      ]
     },
     "metadata": {},
     "output_type": "display_data"
    }
   ],
   "source": [
    "plt.boxplot(data['quality'])\n",
    "plt.title('Box plot of quality')"
   ]
  },
  {
   "cell_type": "code",
   "execution_count": 26,
   "id": "6696d5d1",
   "metadata": {},
   "outputs": [
    {
     "name": "stdout",
     "output_type": "stream",
     "text": [
      "5.0\n",
      "6.0\n",
      "6.0\n"
     ]
    },
    {
     "name": "stderr",
     "output_type": "stream",
     "text": [
      "C:\\Users\\ATHUL AKSHAY\\AppData\\Local\\Temp\\ipykernel_19848\\1296903282.py:1: DeprecationWarning: the `interpolation=` argument to percentile was renamed to `method=`, which has additional options.\n",
      "Users of the modes 'nearest', 'lower', 'higher', or 'midpoint' are encouraged to review the method they used. (Deprecated NumPy 1.22)\n",
      "  q1 = np.percentile(data['quality'],25,\n",
      "C:\\Users\\ATHUL AKSHAY\\AppData\\Local\\Temp\\ipykernel_19848\\1296903282.py:3: DeprecationWarning: the `interpolation=` argument to percentile was renamed to `method=`, which has additional options.\n",
      "Users of the modes 'nearest', 'lower', 'higher', or 'midpoint' are encouraged to review the method they used. (Deprecated NumPy 1.22)\n",
      "  q2 = np.percentile(data['quality'],50,\n",
      "C:\\Users\\ATHUL AKSHAY\\AppData\\Local\\Temp\\ipykernel_19848\\1296903282.py:5: DeprecationWarning: the `interpolation=` argument to percentile was renamed to `method=`, which has additional options.\n",
      "Users of the modes 'nearest', 'lower', 'higher', or 'midpoint' are encouraged to review the method they used. (Deprecated NumPy 1.22)\n",
      "  q3 = np.percentile(data['quality'],75,\n"
     ]
    }
   ],
   "source": [
    "q1 = np.percentile(data['quality'],25,\n",
    "                   interpolation='midpoint')\n",
    "q2 = np.percentile(data['quality'],50,\n",
    "                   interpolation='midpoint')\n",
    "q3 = np.percentile(data['quality'],75,\n",
    "                   interpolation='midpoint')\n",
    "print(q1)\n",
    "print(q2)\n",
    "print(q3)"
   ]
  },
  {
   "cell_type": "code",
   "execution_count": 27,
   "id": "b337709c",
   "metadata": {},
   "outputs": [
    {
     "data": {
      "text/plain": [
       "6.0"
      ]
     },
     "execution_count": 27,
     "metadata": {},
     "output_type": "execute_result"
    }
   ],
   "source": [
    "data['quality'].median()"
   ]
  },
  {
   "cell_type": "code",
   "execution_count": 28,
   "id": "4cdc94ab",
   "metadata": {},
   "outputs": [
    {
     "name": "stdout",
     "output_type": "stream",
     "text": [
      "3.5\n",
      "7.5\n"
     ]
    }
   ],
   "source": [
    "iqr=q3-q1\n",
    "Low_limit=q1-(1.5*iqr)\n",
    "up_limit=q3+(1.5*iqr)\n",
    "print(Low_limit)\n",
    "print(up_limit)"
   ]
  },
  {
   "cell_type": "code",
   "execution_count": 29,
   "id": "f90709d6",
   "metadata": {},
   "outputs": [
    {
     "data": {
      "text/plain": [
       "[8,\n",
       " 8,\n",
       " 8,\n",
       " 8,\n",
       " 8,\n",
       " 8,\n",
       " 8,\n",
       " 8,\n",
       " 3,\n",
       " 3,\n",
       " 8,\n",
       " 8,\n",
       " 8,\n",
       " 3,\n",
       " 8,\n",
       " 8,\n",
       " 8,\n",
       " 8,\n",
       " 8,\n",
       " 3,\n",
       " 8,\n",
       " 8,\n",
       " 8,\n",
       " 8,\n",
       " 8,\n",
       " 3,\n",
       " 9,\n",
       " 8,\n",
       " 8,\n",
       " 8,\n",
       " 9,\n",
       " 9,\n",
       " 8,\n",
       " 8,\n",
       " 8,\n",
       " 8,\n",
       " 8,\n",
       " 8,\n",
       " 8,\n",
       " 8,\n",
       " 8,\n",
       " 3,\n",
       " 9,\n",
       " 8,\n",
       " 8,\n",
       " 8,\n",
       " 8,\n",
       " 8,\n",
       " 3,\n",
       " 8,\n",
       " 8,\n",
       " 8,\n",
       " 8,\n",
       " 8,\n",
       " 8,\n",
       " 8,\n",
       " 8,\n",
       " 8,\n",
       " 8,\n",
       " 8,\n",
       " 3,\n",
       " 8,\n",
       " 8,\n",
       " 8,\n",
       " 8,\n",
       " 8,\n",
       " 8,\n",
       " 8,\n",
       " 8,\n",
       " 8,\n",
       " 8,\n",
       " 8,\n",
       " 8,\n",
       " 8,\n",
       " 3,\n",
       " 8,\n",
       " 3,\n",
       " 8,\n",
       " 8,\n",
       " 8,\n",
       " 9,\n",
       " 8,\n",
       " 8,\n",
       " 8,\n",
       " 3,\n",
       " 8,\n",
       " 8,\n",
       " 8,\n",
       " 8,\n",
       " 8,\n",
       " 3,\n",
       " 8,\n",
       " 8,\n",
       " 8,\n",
       " 8,\n",
       " 8,\n",
       " 8,\n",
       " 3,\n",
       " 8,\n",
       " 8,\n",
       " 8,\n",
       " 3,\n",
       " 8,\n",
       " 8,\n",
       " 8,\n",
       " 8,\n",
       " 8,\n",
       " 8,\n",
       " 8,\n",
       " 8,\n",
       " 8,\n",
       " 8,\n",
       " 8,\n",
       " 8,\n",
       " 8,\n",
       " 8,\n",
       " 8,\n",
       " 8,\n",
       " 8,\n",
       " 8,\n",
       " 8,\n",
       " 8,\n",
       " 8,\n",
       " 8,\n",
       " 8,\n",
       " 8,\n",
       " 8,\n",
       " 8,\n",
       " 8,\n",
       " 8,\n",
       " 8,\n",
       " 8,\n",
       " 8,\n",
       " 8,\n",
       " 8,\n",
       " 8,\n",
       " 8,\n",
       " 3,\n",
       " 8,\n",
       " 8,\n",
       " 8,\n",
       " 8,\n",
       " 8,\n",
       " 8,\n",
       " 8,\n",
       " 3,\n",
       " 8,\n",
       " 8,\n",
       " 8,\n",
       " 3,\n",
       " 8,\n",
       " 8,\n",
       " 8,\n",
       " 3,\n",
       " 8,\n",
       " 8,\n",
       " 8,\n",
       " 8,\n",
       " 8,\n",
       " 8,\n",
       " 8,\n",
       " 8,\n",
       " 8,\n",
       " 8,\n",
       " 8,\n",
       " 8,\n",
       " 8,\n",
       " 8,\n",
       " 8,\n",
       " 8,\n",
       " 8,\n",
       " 8,\n",
       " 8,\n",
       " 8,\n",
       " 8,\n",
       " 8,\n",
       " 8,\n",
       " 8,\n",
       " 3,\n",
       " 8,\n",
       " 8,\n",
       " 8,\n",
       " 8,\n",
       " 8,\n",
       " 8,\n",
       " 8,\n",
       " 8,\n",
       " 8,\n",
       " 8,\n",
       " 8,\n",
       " 8,\n",
       " 8,\n",
       " 8,\n",
       " 8,\n",
       " 3,\n",
       " 8,\n",
       " 8,\n",
       " 8,\n",
       " 8,\n",
       " 8,\n",
       " 8,\n",
       " 8,\n",
       " 8,\n",
       " 8,\n",
       " 8,\n",
       " 3,\n",
       " 8,\n",
       " 8,\n",
       " 8,\n",
       " 3,\n",
       " 8,\n",
       " 3,\n",
       " 8,\n",
       " 3,\n",
       " 3,\n",
       " 8,\n",
       " 8,\n",
       " 8,\n",
       " 8,\n",
       " 8,\n",
       " 3,\n",
       " 3,\n",
       " 8,\n",
       " 8,\n",
       " 3,\n",
       " 3,\n",
       " 3,\n",
       " 8]"
      ]
     },
     "execution_count": 29,
     "metadata": {},
     "output_type": "execute_result"
    }
   ],
   "source": [
    "outlier=[]\n",
    "for x in data['quality']:\n",
    "    if((x>up_limit)or(x<Low_limit)):\n",
    "       outlier.append(x)\n",
    "outlier"
   ]
  },
  {
   "cell_type": "code",
   "execution_count": 30,
   "id": "700efbbc",
   "metadata": {},
   "outputs": [
    {
     "data": {
      "text/plain": [
       "Int64Index([  17,   20,   22,   68,   74,  158,  159,  188,  255,  280,\n",
       "            ...\n",
       "            5486, 5726, 5959, 5988, 6018, 6100, 6167, 6301, 6347, 6447],\n",
       "           dtype='int64', length=198)"
      ]
     },
     "execution_count": 30,
     "metadata": {},
     "output_type": "execute_result"
    }
   ],
   "source": [
    "ind1=data['quality']>up_limit\n",
    "data.loc[ind1].index"
   ]
  },
  {
   "cell_type": "code",
   "execution_count": 31,
   "id": "a7c38b86",
   "metadata": {},
   "outputs": [
    {
     "data": {
      "text/plain": [
       "Int64Index([  17,   20,   22,   68,   74,  158,  159,  188,  255,  280,\n",
       "            ...\n",
       "            5486, 5726, 5959, 5988, 6018, 6100, 6167, 6301, 6347, 6447],\n",
       "           dtype='int64', length=198)"
      ]
     },
     "execution_count": 31,
     "metadata": {},
     "output_type": "execute_result"
    }
   ],
   "source": [
    "a=data.loc[ind1].index\n",
    "a"
   ]
  },
  {
   "cell_type": "code",
   "execution_count": 32,
   "id": "47868ee1",
   "metadata": {},
   "outputs": [
    {
     "data": {
      "text/html": [
       "<div>\n",
       "<style scoped>\n",
       "    .dataframe tbody tr th:only-of-type {\n",
       "        vertical-align: middle;\n",
       "    }\n",
       "\n",
       "    .dataframe tbody tr th {\n",
       "        vertical-align: top;\n",
       "    }\n",
       "\n",
       "    .dataframe thead th {\n",
       "        text-align: right;\n",
       "    }\n",
       "</style>\n",
       "<table border=\"1\" class=\"dataframe\">\n",
       "  <thead>\n",
       "    <tr style=\"text-align: right;\">\n",
       "      <th></th>\n",
       "      <th>0</th>\n",
       "    </tr>\n",
       "  </thead>\n",
       "  <tbody>\n",
       "    <tr>\n",
       "      <th>0</th>\n",
       "      <td>17</td>\n",
       "    </tr>\n",
       "    <tr>\n",
       "      <th>1</th>\n",
       "      <td>20</td>\n",
       "    </tr>\n",
       "    <tr>\n",
       "      <th>2</th>\n",
       "      <td>22</td>\n",
       "    </tr>\n",
       "    <tr>\n",
       "      <th>3</th>\n",
       "      <td>68</td>\n",
       "    </tr>\n",
       "    <tr>\n",
       "      <th>4</th>\n",
       "      <td>74</td>\n",
       "    </tr>\n",
       "    <tr>\n",
       "      <th>...</th>\n",
       "      <td>...</td>\n",
       "    </tr>\n",
       "    <tr>\n",
       "      <th>193</th>\n",
       "      <td>6100</td>\n",
       "    </tr>\n",
       "    <tr>\n",
       "      <th>194</th>\n",
       "      <td>6167</td>\n",
       "    </tr>\n",
       "    <tr>\n",
       "      <th>195</th>\n",
       "      <td>6301</td>\n",
       "    </tr>\n",
       "    <tr>\n",
       "      <th>196</th>\n",
       "      <td>6347</td>\n",
       "    </tr>\n",
       "    <tr>\n",
       "      <th>197</th>\n",
       "      <td>6447</td>\n",
       "    </tr>\n",
       "  </tbody>\n",
       "</table>\n",
       "<p>198 rows × 1 columns</p>\n",
       "</div>"
      ],
      "text/plain": [
       "        0\n",
       "0      17\n",
       "1      20\n",
       "2      22\n",
       "3      68\n",
       "4      74\n",
       "..    ...\n",
       "193  6100\n",
       "194  6167\n",
       "195  6301\n",
       "196  6347\n",
       "197  6447\n",
       "\n",
       "[198 rows x 1 columns]"
      ]
     },
     "execution_count": 32,
     "metadata": {},
     "output_type": "execute_result"
    }
   ],
   "source": [
    "df=pd.DataFrame(a)\n",
    "df"
   ]
  },
  {
   "cell_type": "code",
   "execution_count": 33,
   "id": "b60bcd88",
   "metadata": {},
   "outputs": [],
   "source": [
    "data.drop(a,inplace=True)"
   ]
  },
  {
   "cell_type": "code",
   "execution_count": 34,
   "id": "2b2bdb7f",
   "metadata": {},
   "outputs": [
    {
     "data": {
      "text/plain": [
       "Text(0.5, 1.0, 'Boxplot of Quality')"
      ]
     },
     "execution_count": 34,
     "metadata": {},
     "output_type": "execute_result"
    },
    {
     "data": {
      "image/png": "[encoded data removed]",
      "text/plain": [
       "<Figure size 640x480 with 1 Axes>"
      ]
     },
     "metadata": {},
     "output_type": "display_data"
    }
   ],
   "source": [
    "plt.boxplot(data['quality'])\n",
    "plt.title(\"Boxplot of Quality\")"
   ]
  },
  {
   "cell_type": "code",
   "execution_count": 35,
   "id": "41dccd1d",
   "metadata": {},
   "outputs": [
    {
     "name": "stdout",
     "output_type": "stream",
     "text": [
      "9.5\n",
      "10.2\n",
      "11.2\n"
     ]
    },
    {
     "name": "stderr",
     "output_type": "stream",
     "text": [
      "C:\\Users\\ATHUL AKSHAY\\AppData\\Local\\Temp\\ipykernel_19848\\846368543.py:1: DeprecationWarning: the `interpolation=` argument to percentile was renamed to `method=`, which has additional options.\n",
      "Users of the modes 'nearest', 'lower', 'higher', or 'midpoint' are encouraged to review the method they used. (Deprecated NumPy 1.22)\n",
      "  q1 = np.percentile(data['alcohol'],25,\n",
      "C:\\Users\\ATHUL AKSHAY\\AppData\\Local\\Temp\\ipykernel_19848\\846368543.py:3: DeprecationWarning: the `interpolation=` argument to percentile was renamed to `method=`, which has additional options.\n",
      "Users of the modes 'nearest', 'lower', 'higher', or 'midpoint' are encouraged to review the method they used. (Deprecated NumPy 1.22)\n",
      "  q2 = np.percentile(data['alcohol'],50,\n",
      "C:\\Users\\ATHUL AKSHAY\\AppData\\Local\\Temp\\ipykernel_19848\\846368543.py:5: DeprecationWarning: the `interpolation=` argument to percentile was renamed to `method=`, which has additional options.\n",
      "Users of the modes 'nearest', 'lower', 'higher', or 'midpoint' are encouraged to review the method they used. (Deprecated NumPy 1.22)\n",
      "  q3 = np.percentile(data['alcohol'],75,\n"
     ]
    }
   ],
   "source": [
    "q1 = np.percentile(data['alcohol'],25,\n",
    "                   interpolation='midpoint')\n",
    "q2 = np.percentile(data['alcohol'],50,\n",
    "                   interpolation='midpoint')\n",
    "q3 = np.percentile(data['alcohol'],75,\n",
    "                   interpolation='midpoint')\n",
    "print(q1)\n",
    "print(q2)\n",
    "print(q3)"
   ]
  },
  {
   "cell_type": "code",
   "execution_count": 36,
   "id": "b00831d1",
   "metadata": {},
   "outputs": [
    {
     "data": {
      "text/plain": [
       "10.2"
      ]
     },
     "execution_count": 36,
     "metadata": {},
     "output_type": "execute_result"
    }
   ],
   "source": [
    "data['alcohol'].median()"
   ]
  },
  {
   "cell_type": "code",
   "execution_count": 37,
   "id": "cd6c54b3",
   "metadata": {},
   "outputs": [
    {
     "name": "stdout",
     "output_type": "stream",
     "text": [
      "6.950000000000001\n",
      "13.749999999999998\n"
     ]
    }
   ],
   "source": [
    "iqr=q3-q1\n",
    "Low_limit=q1-(1.5*iqr)\n",
    "up_limit=q3+(1.5*iqr)\n",
    "print(Low_limit)\n",
    "print(up_limit)"
   ]
  },
  {
   "cell_type": "code",
   "execution_count": 38,
   "id": "f0410a99",
   "metadata": {},
   "outputs": [
    {
     "data": {
      "text/plain": [
       "[13.9,\n",
       " 14.0,\n",
       " 14.0,\n",
       " 13.9,\n",
       " 14.0,\n",
       " 14.0,\n",
       " 14.2,\n",
       " 13.9,\n",
       " 14.05,\n",
       " 13.8,\n",
       " 13.8,\n",
       " 14.0,\n",
       " 14.0,\n",
       " 14.0,\n",
       " 14.9,\n",
       " 14.0,\n",
       " 14.0]"
      ]
     },
     "execution_count": 38,
     "metadata": {},
     "output_type": "execute_result"
    }
   ],
   "source": [
    "outlier=[]\n",
    "for x in data['alcohol']:\n",
    "    if((x>up_limit)or(x<Low_limit)):\n",
    "       outlier.append(x)\n",
    "outlier"
   ]
  },
  {
   "cell_type": "code",
   "execution_count": 39,
   "id": "c2bed6ae",
   "metadata": {},
   "outputs": [
    {
     "data": {
      "text/plain": [
       "Int64Index([ 701, 1099, 3150, 3458, 3904, 3915, 3918, 4149, 4503, 4560, 4792,\n",
       "            5040, 5042, 5365, 5550, 5719, 6168],\n",
       "           dtype='int64')"
      ]
     },
     "execution_count": 39,
     "metadata": {},
     "output_type": "execute_result"
    }
   ],
   "source": [
    "ind1 = data['alcohol']>up_limit\n",
    "data.loc[ind1].index"
   ]
  },
  {
   "cell_type": "code",
   "execution_count": 40,
   "id": "097725ce",
   "metadata": {},
   "outputs": [],
   "source": [
    "data.drop([701, 1099, 3150, 3458, 3904, 3915, 3918, 4149, 4503, 4560, 4792,\n",
    "            5040, 5042, 5365, 5550, 5719, 6168],inplace=True)"
   ]
  },
  {
   "cell_type": "code",
   "execution_count": 41,
   "id": "de63a353",
   "metadata": {},
   "outputs": [
    {
     "data": {
      "text/plain": [
       "Text(0.5, 1.0, 'Box plot of alcohol')"
      ]
     },
     "execution_count": 41,
     "metadata": {},
     "output_type": "execute_result"
    },
    {
     "data": {
      "image/png": "[encoded data removed]",
      "text/plain": [
       "<Figure size 640x480 with 1 Axes>"
      ]
     },
     "metadata": {},
     "output_type": "display_data"
    }
   ],
   "source": [
    "plt.boxplot(data['alcohol'])\n",
    "plt.title('Box plot of alcohol')"
   ]
  },
  {
   "cell_type": "code",
   "execution_count": 42,
   "id": "dab3f3f0",
   "metadata": {},
   "outputs": [
    {
     "name": "stdout",
     "output_type": "stream",
     "text": [
      "0.43\n",
      "0.51\n",
      "0.6\n"
     ]
    },
    {
     "name": "stderr",
     "output_type": "stream",
     "text": [
      "C:\\Users\\ATHUL AKSHAY\\AppData\\Local\\Temp\\ipykernel_19848\\1134905459.py:1: DeprecationWarning: the `interpolation=` argument to percentile was renamed to `method=`, which has additional options.\n",
      "Users of the modes 'nearest', 'lower', 'higher', or 'midpoint' are encouraged to review the method they used. (Deprecated NumPy 1.22)\n",
      "  q1 = np.percentile(data['sulphates'],25,\n",
      "C:\\Users\\ATHUL AKSHAY\\AppData\\Local\\Temp\\ipykernel_19848\\1134905459.py:3: DeprecationWarning: the `interpolation=` argument to percentile was renamed to `method=`, which has additional options.\n",
      "Users of the modes 'nearest', 'lower', 'higher', or 'midpoint' are encouraged to review the method they used. (Deprecated NumPy 1.22)\n",
      "  q2 = np.percentile(data['sulphates'],50,\n",
      "C:\\Users\\ATHUL AKSHAY\\AppData\\Local\\Temp\\ipykernel_19848\\1134905459.py:5: DeprecationWarning: the `interpolation=` argument to percentile was renamed to `method=`, which has additional options.\n",
      "Users of the modes 'nearest', 'lower', 'higher', or 'midpoint' are encouraged to review the method they used. (Deprecated NumPy 1.22)\n",
      "  q3 = np.percentile(data['sulphates'],75,\n"
     ]
    }
   ],
   "source": [
    "q1 = np.percentile(data['sulphates'],25,\n",
    "                   interpolation='midpoint')\n",
    "q2 = np.percentile(data['sulphates'],50,\n",
    "                   interpolation='midpoint')\n",
    "q3 = np.percentile(data['sulphates'],75,\n",
    "                   interpolation='midpoint')\n",
    "print(q1)\n",
    "print(q2)\n",
    "print(q3)"
   ]
  },
  {
   "cell_type": "code",
   "execution_count": 43,
   "id": "45f81279",
   "metadata": {},
   "outputs": [
    {
     "data": {
      "text/plain": [
       "0.51"
      ]
     },
     "execution_count": 43,
     "metadata": {},
     "output_type": "execute_result"
    }
   ],
   "source": [
    "data['sulphates'].median()"
   ]
  },
  {
   "cell_type": "code",
   "execution_count": 44,
   "id": "472237c1",
   "metadata": {},
   "outputs": [
    {
     "name": "stdout",
     "output_type": "stream",
     "text": [
      "0.175\n",
      "0.855\n"
     ]
    }
   ],
   "source": [
    "iqr = q3-q1\n",
    "low_limit = q1-1.5*iqr\n",
    "up_limit = q3+1.5*iqr\n",
    "print(low_limit)\n",
    "print(up_limit)"
   ]
  },
  {
   "cell_type": "code",
   "execution_count": 45,
   "id": "68b593b3",
   "metadata": {},
   "outputs": [],
   "source": [
    "outlier = []\n",
    "for x in data['sulphates']:\n",
    "  if((x>up_limit) or (x<low_limit)):\n",
    "    outlier.append(x)"
   ]
  },
  {
   "cell_type": "code",
   "execution_count": 46,
   "id": "2cf1be60",
   "metadata": {},
   "outputs": [
    {
     "data": {
      "text/plain": [
       "[0.96,\n",
       " 0.97,\n",
       " 0.95,\n",
       " 0.95,\n",
       " 0.95,\n",
       " 0.9,\n",
       " 0.88,\n",
       " 0.88,\n",
       " 0.87,\n",
       " 0.86,\n",
       " 0.9,\n",
       " 0.9,\n",
       " 0.92,\n",
       " 0.98,\n",
       " 1.06,\n",
       " 0.88,\n",
       " 0.88,\n",
       " 0.88,\n",
       " 1.0,\n",
       " 0.89,\n",
       " 0.99,\n",
       " 0.86,\n",
       " 0.87,\n",
       " 0.88,\n",
       " 0.88,\n",
       " 0.98,\n",
       " 0.98,\n",
       " 0.98,\n",
       " 0.98,\n",
       " 0.98,\n",
       " 0.96,\n",
       " 1.01,\n",
       " 0.96,\n",
       " 0.94,\n",
       " 0.95,\n",
       " 1.08,\n",
       " 1.56,\n",
       " 0.88,\n",
       " 0.93,\n",
       " 1.28,\n",
       " 1.08,\n",
       " 0.91,\n",
       " 0.91,\n",
       " 0.9,\n",
       " 1.2,\n",
       " 0.95,\n",
       " 1.12,\n",
       " 1.28,\n",
       " 1.14,\n",
       " 1.95,\n",
       " 1.22,\n",
       " 1.95,\n",
       " 1.98,\n",
       " 1.31,\n",
       " 0.93,\n",
       " 0.93,\n",
       " 0.92,\n",
       " 2.0,\n",
       " 1.08,\n",
       " 1.59,\n",
       " 1.02,\n",
       " 0.97,\n",
       " 1.03,\n",
       " 0.88,\n",
       " 0.86,\n",
       " 1.61,\n",
       " 1.09,\n",
       " 0.96,\n",
       " 0.96,\n",
       " 1.26,\n",
       " 0.87,\n",
       " 0.91,\n",
       " 0.97,\n",
       " 0.97,\n",
       " 0.91,\n",
       " 0.97,\n",
       " 1.08,\n",
       " 0.86,\n",
       " 0.95,\n",
       " 0.86,\n",
       " 1.0,\n",
       " 1.36,\n",
       " 1.18,\n",
       " 0.87,\n",
       " 0.89,\n",
       " 0.93,\n",
       " 0.92,\n",
       " 0.86,\n",
       " 0.98,\n",
       " 0.88,\n",
       " 0.91,\n",
       " 0.87,\n",
       " 0.93,\n",
       " 1.13,\n",
       " 0.87,\n",
       " 1.04,\n",
       " 1.11,\n",
       " 1.13,\n",
       " 0.99,\n",
       " 1.07,\n",
       " 0.9,\n",
       " 0.9,\n",
       " 0.89,\n",
       " 0.89,\n",
       " 1.06,\n",
       " 0.91,\n",
       " 0.89,\n",
       " 1.06,\n",
       " 1.05,\n",
       " 1.06,\n",
       " 0.92,\n",
       " 0.9,\n",
       " 1.04,\n",
       " 1.05,\n",
       " 1.02,\n",
       " 1.14,\n",
       " 0.9,\n",
       " 0.99,\n",
       " 0.87,\n",
       " 0.87,\n",
       " 0.86,\n",
       " 0.91,\n",
       " 1.02,\n",
       " 1.36,\n",
       " 0.93,\n",
       " 0.96,\n",
       " 1.36,\n",
       " 1.05,\n",
       " 1.17,\n",
       " 1.62,\n",
       " 1.06,\n",
       " 0.92,\n",
       " 0.91,\n",
       " 1.18,\n",
       " 0.94,\n",
       " 0.86,\n",
       " 0.86,\n",
       " 0.86,\n",
       " 1.07,\n",
       " 0.89,\n",
       " 0.89,\n",
       " 0.87,\n",
       " 0.9,\n",
       " 0.99,\n",
       " 0.86,\n",
       " 0.87,\n",
       " 0.87,\n",
       " 1.34,\n",
       " 0.89,\n",
       " 0.86,\n",
       " 0.86,\n",
       " 0.88,\n",
       " 0.87,\n",
       " 0.87,\n",
       " 1.16,\n",
       " 1.1,\n",
       " 0.98,\n",
       " 0.88,\n",
       " 0.86,\n",
       " 0.94,\n",
       " 0.87,\n",
       " 1.15,\n",
       " 0.87,\n",
       " 1.17,\n",
       " 1.17,\n",
       " 1.33,\n",
       " 1.18,\n",
       " 1.17,\n",
       " 1.03,\n",
       " 1.17,\n",
       " 0.9,\n",
       " 0.94,\n",
       " 0.93,\n",
       " 1.01,\n",
       " 0.93,\n",
       " 0.94,\n",
       " 0.9,\n",
       " 0.93,\n",
       " 0.88,\n",
       " 0.88,\n",
       " 0.97,\n",
       " 0.97,\n",
       " 0.93]"
      ]
     },
     "execution_count": 46,
     "metadata": {},
     "output_type": "execute_result"
    }
   ],
   "source": [
    "outlier"
   ]
  },
  {
   "cell_type": "code",
   "execution_count": 47,
   "id": "08f983c7",
   "metadata": {},
   "outputs": [
    {
     "data": {
      "text/plain": [
       "Int64Index([ 758,  759,  852,  854,  866,  974, 1016, 1036, 1293, 1294,\n",
       "            ...\n",
       "            6306, 6307, 6310, 6311, 6327, 6373, 6375, 6414, 6420, 6468],\n",
       "           dtype='int64', length=183)"
      ]
     },
     "execution_count": 47,
     "metadata": {},
     "output_type": "execute_result"
    }
   ],
   "source": [
    "ind1 = data['sulphates']>up_limit\n",
    "data.loc[ind1].index"
   ]
  },
  {
   "cell_type": "code",
   "execution_count": 48,
   "id": "80fac26a",
   "metadata": {},
   "outputs": [
    {
     "data": {
      "text/plain": [
       "Int64Index([ 758,  759,  852,  854,  866,  974, 1016, 1036, 1293, 1294,\n",
       "            ...\n",
       "            6306, 6307, 6310, 6311, 6327, 6373, 6375, 6414, 6420, 6468],\n",
       "           dtype='int64', length=183)"
      ]
     },
     "execution_count": 48,
     "metadata": {},
     "output_type": "execute_result"
    }
   ],
   "source": [
    "b=data.loc[ind1].index\n",
    "b"
   ]
  },
  {
   "cell_type": "code",
   "execution_count": 49,
   "id": "8b02044d",
   "metadata": {},
   "outputs": [
    {
     "data": {
      "text/html": [
       "<div>\n",
       "<style scoped>\n",
       "    .dataframe tbody tr th:only-of-type {\n",
       "        vertical-align: middle;\n",
       "    }\n",
       "\n",
       "    .dataframe tbody tr th {\n",
       "        vertical-align: top;\n",
       "    }\n",
       "\n",
       "    .dataframe thead th {\n",
       "        text-align: right;\n",
       "    }\n",
       "</style>\n",
       "<table border=\"1\" class=\"dataframe\">\n",
       "  <thead>\n",
       "    <tr style=\"text-align: right;\">\n",
       "      <th></th>\n",
       "      <th>0</th>\n",
       "    </tr>\n",
       "  </thead>\n",
       "  <tbody>\n",
       "    <tr>\n",
       "      <th>0</th>\n",
       "      <td>758</td>\n",
       "    </tr>\n",
       "    <tr>\n",
       "      <th>1</th>\n",
       "      <td>759</td>\n",
       "    </tr>\n",
       "    <tr>\n",
       "      <th>2</th>\n",
       "      <td>852</td>\n",
       "    </tr>\n",
       "    <tr>\n",
       "      <th>3</th>\n",
       "      <td>854</td>\n",
       "    </tr>\n",
       "    <tr>\n",
       "      <th>4</th>\n",
       "      <td>866</td>\n",
       "    </tr>\n",
       "    <tr>\n",
       "      <th>...</th>\n",
       "      <td>...</td>\n",
       "    </tr>\n",
       "    <tr>\n",
       "      <th>178</th>\n",
       "      <td>6373</td>\n",
       "    </tr>\n",
       "    <tr>\n",
       "      <th>179</th>\n",
       "      <td>6375</td>\n",
       "    </tr>\n",
       "    <tr>\n",
       "      <th>180</th>\n",
       "      <td>6414</td>\n",
       "    </tr>\n",
       "    <tr>\n",
       "      <th>181</th>\n",
       "      <td>6420</td>\n",
       "    </tr>\n",
       "    <tr>\n",
       "      <th>182</th>\n",
       "      <td>6468</td>\n",
       "    </tr>\n",
       "  </tbody>\n",
       "</table>\n",
       "<p>183 rows × 1 columns</p>\n",
       "</div>"
      ],
      "text/plain": [
       "        0\n",
       "0     758\n",
       "1     759\n",
       "2     852\n",
       "3     854\n",
       "4     866\n",
       "..    ...\n",
       "178  6373\n",
       "179  6375\n",
       "180  6414\n",
       "181  6420\n",
       "182  6468\n",
       "\n",
       "[183 rows x 1 columns]"
      ]
     },
     "execution_count": 49,
     "metadata": {},
     "output_type": "execute_result"
    }
   ],
   "source": [
    "df=pd.DataFrame(b)\n",
    "df"
   ]
  },
  {
   "cell_type": "code",
   "execution_count": 50,
   "id": "c09c8c21",
   "metadata": {},
   "outputs": [],
   "source": [
    "data.drop(b,inplace=True)"
   ]
  },
  {
   "cell_type": "code",
   "execution_count": 51,
   "id": "01b4f208",
   "metadata": {},
   "outputs": [
    {
     "data": {
      "text/plain": [
       "Text(0.5, 1.0, 'Box plot of sulphates')"
      ]
     },
     "execution_count": 51,
     "metadata": {},
     "output_type": "execute_result"
    },
    {
     "data": {
      "image/png": "[encoded data removed]",
      "text/plain": [
       "<Figure size 640x480 with 1 Axes>"
      ]
     },
     "metadata": {},
     "output_type": "display_data"
    }
   ],
   "source": [
    "plt.boxplot(data['sulphates'])\n",
    "plt.title('Box plot of sulphates')"
   ]
  },
  {
   "cell_type": "code",
   "execution_count": 52,
   "id": "d8082fe2",
   "metadata": {},
   "outputs": [
    {
     "name": "stdout",
     "output_type": "stream",
     "text": [
      "3.11\n",
      "3.2\n",
      "3.32\n"
     ]
    },
    {
     "name": "stderr",
     "output_type": "stream",
     "text": [
      "C:\\Users\\ATHUL AKSHAY\\AppData\\Local\\Temp\\ipykernel_19848\\889962093.py:1: DeprecationWarning: the `interpolation=` argument to percentile was renamed to `method=`, which has additional options.\n",
      "Users of the modes 'nearest', 'lower', 'higher', or 'midpoint' are encouraged to review the method they used. (Deprecated NumPy 1.22)\n",
      "  q1 = np.percentile(data['pH'],25,\n",
      "C:\\Users\\ATHUL AKSHAY\\AppData\\Local\\Temp\\ipykernel_19848\\889962093.py:3: DeprecationWarning: the `interpolation=` argument to percentile was renamed to `method=`, which has additional options.\n",
      "Users of the modes 'nearest', 'lower', 'higher', or 'midpoint' are encouraged to review the method they used. (Deprecated NumPy 1.22)\n",
      "  q2 = np.percentile(data['pH'],50,\n",
      "C:\\Users\\ATHUL AKSHAY\\AppData\\Local\\Temp\\ipykernel_19848\\889962093.py:5: DeprecationWarning: the `interpolation=` argument to percentile was renamed to `method=`, which has additional options.\n",
      "Users of the modes 'nearest', 'lower', 'higher', or 'midpoint' are encouraged to review the method they used. (Deprecated NumPy 1.22)\n",
      "  q3 = np.percentile(data['pH'],75,\n"
     ]
    }
   ],
   "source": [
    "q1 = np.percentile(data['pH'],25,\n",
    "                   interpolation='midpoint')\n",
    "q2 = np.percentile(data['pH'],50,\n",
    "                   interpolation='midpoint')\n",
    "q3 = np.percentile(data['pH'],75,\n",
    "                   interpolation='midpoint')\n",
    "print(q1)\n",
    "print(q2)\n",
    "print(q3)"
   ]
  },
  {
   "cell_type": "code",
   "execution_count": 53,
   "id": "f2aebe0f",
   "metadata": {},
   "outputs": [
    {
     "data": {
      "text/plain": [
       "3.2"
      ]
     },
     "execution_count": 53,
     "metadata": {},
     "output_type": "execute_result"
    }
   ],
   "source": [
    "data['pH'].median()"
   ]
  },
  {
   "cell_type": "code",
   "execution_count": 54,
   "id": "df6b5e3b",
   "metadata": {},
   "outputs": [
    {
     "name": "stdout",
     "output_type": "stream",
     "text": [
      "2.795\n",
      "3.635\n"
     ]
    }
   ],
   "source": [
    "iqr = q3-q1\n",
    "low_limit = q1-1.5*iqr\n",
    "up_limit = q3+1.5*iqr\n",
    "print(low_limit)\n",
    "print(up_limit)"
   ]
  },
  {
   "cell_type": "code",
   "execution_count": 55,
   "id": "61895892",
   "metadata": {},
   "outputs": [
    {
     "data": {
      "text/plain": [
       "[3.69,\n",
       " 3.72,\n",
       " 3.64,\n",
       " 3.64,\n",
       " 3.72,\n",
       " 3.72,\n",
       " 3.66,\n",
       " 2.74,\n",
       " 3.82,\n",
       " 3.81,\n",
       " 3.65,\n",
       " 3.65,\n",
       " 3.77,\n",
       " 3.65,\n",
       " 3.74,\n",
       " 2.72,\n",
       " 2.79,\n",
       " 2.79,\n",
       " 3.8,\n",
       " 3.68,\n",
       " 2.77,\n",
       " 3.79,\n",
       " 3.68,\n",
       " 3.66,\n",
       " 3.7,\n",
       " 3.74,\n",
       " 3.8,\n",
       " 3.77,\n",
       " 3.76,\n",
       " 3.69,\n",
       " 3.66,\n",
       " 2.79,\n",
       " 3.75,\n",
       " 3.75,\n",
       " 3.76,\n",
       " 3.66,\n",
       " 3.66,\n",
       " 3.67,\n",
       " 3.9,\n",
       " 3.75,\n",
       " 3.85,\n",
       " 3.67,\n",
       " 3.67,\n",
       " 3.68,\n",
       " 3.74,\n",
       " 3.9,\n",
       " 3.66,\n",
       " 3.66,\n",
       " 3.66,\n",
       " 3.69,\n",
       " 3.69,\n",
       " 3.71,\n",
       " 3.71,\n",
       " 3.78,\n",
       " 3.68,\n",
       " 3.68,\n",
       " 3.78,\n",
       " 4.01,\n",
       " 4.01,\n",
       " 3.71,\n",
       " 3.66,\n",
       " 3.72,\n",
       " 3.72,\n",
       " 3.67]"
      ]
     },
     "execution_count": 55,
     "metadata": {},
     "output_type": "execute_result"
    }
   ],
   "source": [
    "outlier = []\n",
    "for x in data['pH']:\n",
    "  if((x>up_limit) or (x<low_limit)):\n",
    "    outlier.append(x)\n",
    "outlier"
   ]
  },
  {
   "cell_type": "code",
   "execution_count": 56,
   "id": "25d38e97",
   "metadata": {},
   "outputs": [
    {
     "data": {
      "text/plain": [
       "Int64Index([  72,  250,  507,  509,  830,  834, 1014, 1250, 1255, 1335, 1352,\n",
       "            1385, 1649, 1681, 2036, 2078, 2321, 2369, 2399, 2646, 2711, 2771,\n",
       "            2964, 3025, 3128, 3556, 4109, 4259, 4470, 4565, 4567, 4744, 4943,\n",
       "            4992, 4993, 5195, 5196, 5197, 5451, 5593, 5679, 5681, 5759, 5828,\n",
       "            5832, 5894, 5895, 6009, 6076, 6126, 6198, 6214, 6219, 6275, 6378,\n",
       "            6386, 6389, 6489],\n",
       "           dtype='int64')"
      ]
     },
     "execution_count": 56,
     "metadata": {},
     "output_type": "execute_result"
    }
   ],
   "source": [
    "ind1 = data['pH']>up_limit\n",
    "data.loc[ind1].index"
   ]
  },
  {
   "cell_type": "code",
   "execution_count": 57,
   "id": "f7e9bfce",
   "metadata": {},
   "outputs": [],
   "source": [
    "data.drop([72,  250,  507,  509,  830,  834, 1014, 1250, 1255, 1335, 1352,\n",
    "            1385, 1649, 1681, 2036, 2078, 2321, 2369, 2399, 2646, 2711, 2771,\n",
    "            2964, 3025, 3128, 3556, 4109, 4259, 4470, 4565, 4567, 4744, 4943,\n",
    "            4992, 4993, 5195, 5196, 5197, 5451, 5593, 5679, 5681, 5759, 5828,\n",
    "            5832, 5894, 5895, 6009, 6076, 6126, 6198, 6214, 6219, 6275, 6378,\n",
    "            6386, 6389, 6489],inplace=True)"
   ]
  },
  {
   "cell_type": "code",
   "execution_count": 58,
   "id": "ffddc10a",
   "metadata": {},
   "outputs": [
    {
     "data": {
      "text/plain": [
       "Text(0.5, 1.0, 'Box plot of pH')"
      ]
     },
     "execution_count": 58,
     "metadata": {},
     "output_type": "execute_result"
    },
    {
     "data": {
      "image/png": "[encoded data removed]",
      "text/plain": [
       "<Figure size 640x480 with 1 Axes>"
      ]
     },
     "metadata": {},
     "output_type": "display_data"
    }
   ],
   "source": [
    "plt.boxplot(data['pH'])\n",
    "plt.title('Box plot of pH')"
   ]
  },
  {
   "cell_type": "code",
   "execution_count": 59,
   "id": "20c26334",
   "metadata": {},
   "outputs": [
    {
     "name": "stdout",
     "output_type": "stream",
     "text": [
      "0.9924\n",
      "0.9949\n",
      "0.99694\n"
     ]
    },
    {
     "name": "stderr",
     "output_type": "stream",
     "text": [
      "C:\\Users\\ATHUL AKSHAY\\AppData\\Local\\Temp\\ipykernel_19848\\3889811461.py:1: DeprecationWarning: the `interpolation=` argument to percentile was renamed to `method=`, which has additional options.\n",
      "Users of the modes 'nearest', 'lower', 'higher', or 'midpoint' are encouraged to review the method they used. (Deprecated NumPy 1.22)\n",
      "  q1 = np.percentile(data['density'],25,\n",
      "C:\\Users\\ATHUL AKSHAY\\AppData\\Local\\Temp\\ipykernel_19848\\3889811461.py:3: DeprecationWarning: the `interpolation=` argument to percentile was renamed to `method=`, which has additional options.\n",
      "Users of the modes 'nearest', 'lower', 'higher', or 'midpoint' are encouraged to review the method they used. (Deprecated NumPy 1.22)\n",
      "  q2 = np.percentile(data['density'],50,\n",
      "C:\\Users\\ATHUL AKSHAY\\AppData\\Local\\Temp\\ipykernel_19848\\3889811461.py:5: DeprecationWarning: the `interpolation=` argument to percentile was renamed to `method=`, which has additional options.\n",
      "Users of the modes 'nearest', 'lower', 'higher', or 'midpoint' are encouraged to review the method they used. (Deprecated NumPy 1.22)\n",
      "  q3 = np.percentile(data['density'],75,\n"
     ]
    }
   ],
   "source": [
    "q1 = np.percentile(data['density'],25,\n",
    "                   interpolation='midpoint')\n",
    "q2 = np.percentile(data['density'],50,\n",
    "                   interpolation='midpoint')\n",
    "q3 = np.percentile(data['density'],75,\n",
    "                   interpolation='midpoint')\n",
    "print(q1)\n",
    "print(q2)\n",
    "print(q3)"
   ]
  },
  {
   "cell_type": "code",
   "execution_count": 60,
   "id": "6a264818",
   "metadata": {},
   "outputs": [
    {
     "data": {
      "text/plain": [
       "0.9949"
      ]
     },
     "execution_count": 60,
     "metadata": {},
     "output_type": "execute_result"
    }
   ],
   "source": [
    "data['density'].median()"
   ]
  },
  {
   "cell_type": "code",
   "execution_count": 61,
   "id": "7bf3dc6e",
   "metadata": {},
   "outputs": [
    {
     "name": "stdout",
     "output_type": "stream",
     "text": [
      "0.9855899999999997\n",
      "1.0037500000000001\n"
     ]
    }
   ],
   "source": [
    "iqr = q3-q1\n",
    "low_limit = q1-1.5*iqr\n",
    "up_limit = q3+1.5*iqr\n",
    "print(low_limit)\n",
    "print(up_limit)"
   ]
  },
  {
   "cell_type": "code",
   "execution_count": 62,
   "id": "6b55f564",
   "metadata": {},
   "outputs": [
    {
     "data": {
      "text/plain": [
       "[1.0103, 1.0103, 1.03898]"
      ]
     },
     "execution_count": 62,
     "metadata": {},
     "output_type": "execute_result"
    }
   ],
   "source": [
    "outlier = []\n",
    "for x in data['density']:\n",
    "  if((x>up_limit) or (x<low_limit)):\n",
    "    outlier.append(x)\n",
    "outlier"
   ]
  },
  {
   "cell_type": "code",
   "execution_count": 63,
   "id": "43b59ff1",
   "metadata": {},
   "outputs": [
    {
     "data": {
      "text/plain": [
       "Int64Index([1653, 1663, 2781], dtype='int64')"
      ]
     },
     "execution_count": 63,
     "metadata": {},
     "output_type": "execute_result"
    }
   ],
   "source": [
    "ind1 = data['density']>up_limit\n",
    "data.loc[ind1].index"
   ]
  },
  {
   "cell_type": "code",
   "execution_count": 64,
   "id": "f53efd9e",
   "metadata": {},
   "outputs": [],
   "source": [
    "data.drop([1653, 1663, 2781],inplace=True)"
   ]
  },
  {
   "cell_type": "code",
   "execution_count": 65,
   "id": "0808812c",
   "metadata": {},
   "outputs": [
    {
     "data": {
      "text/plain": [
       "Text(0.5, 1.0, 'Box plot of density')"
      ]
     },
     "execution_count": 65,
     "metadata": {},
     "output_type": "execute_result"
    },
    {
     "data": {
      "image/png": "[encoded data removed]",
      "text/plain": [
       "<Figure size 640x480 with 1 Axes>"
      ]
     },
     "metadata": {},
     "output_type": "display_data"
    }
   ],
   "source": [
    "plt.boxplot(data['density'])\n",
    "plt.title('Box plot of density')"
   ]
  },
  {
   "cell_type": "code",
   "execution_count": 66,
   "id": "9b553de6",
   "metadata": {},
   "outputs": [
    {
     "name": "stdout",
     "output_type": "stream",
     "text": [
      "80.0\n",
      "120.0\n",
      "157.0\n"
     ]
    },
    {
     "name": "stderr",
     "output_type": "stream",
     "text": [
      "C:\\Users\\ATHUL AKSHAY\\AppData\\Local\\Temp\\ipykernel_19848\\4217976272.py:1: DeprecationWarning: the `interpolation=` argument to percentile was renamed to `method=`, which has additional options.\n",
      "Users of the modes 'nearest', 'lower', 'higher', or 'midpoint' are encouraged to review the method they used. (Deprecated NumPy 1.22)\n",
      "  q1 = np.percentile(data['total sulfur dioxide'],25,\n",
      "C:\\Users\\ATHUL AKSHAY\\AppData\\Local\\Temp\\ipykernel_19848\\4217976272.py:3: DeprecationWarning: the `interpolation=` argument to percentile was renamed to `method=`, which has additional options.\n",
      "Users of the modes 'nearest', 'lower', 'higher', or 'midpoint' are encouraged to review the method they used. (Deprecated NumPy 1.22)\n",
      "  q2 = np.percentile(data['total sulfur dioxide'],50,\n",
      "C:\\Users\\ATHUL AKSHAY\\AppData\\Local\\Temp\\ipykernel_19848\\4217976272.py:5: DeprecationWarning: the `interpolation=` argument to percentile was renamed to `method=`, which has additional options.\n",
      "Users of the modes 'nearest', 'lower', 'higher', or 'midpoint' are encouraged to review the method they used. (Deprecated NumPy 1.22)\n",
      "  q3 = np.percentile(data['total sulfur dioxide'],75,\n"
     ]
    }
   ],
   "source": [
    "q1 = np.percentile(data['total sulfur dioxide'],25,\n",
    "                   interpolation='midpoint')\n",
    "q2 = np.percentile(data['total sulfur dioxide'],50,\n",
    "                   interpolation='midpoint')\n",
    "q3 = np.percentile(data['total sulfur dioxide'],75,\n",
    "                   interpolation='midpoint')\n",
    "print(q1)\n",
    "print(q2)\n",
    "print(q3)"
   ]
  },
  {
   "cell_type": "code",
   "execution_count": 67,
   "id": "91833ae3",
   "metadata": {},
   "outputs": [
    {
     "data": {
      "text/plain": [
       "120.0"
      ]
     },
     "execution_count": 67,
     "metadata": {},
     "output_type": "execute_result"
    }
   ],
   "source": [
    "data['total sulfur dioxide'].median()"
   ]
  },
  {
   "cell_type": "code",
   "execution_count": 68,
   "id": "976f72e3",
   "metadata": {},
   "outputs": [
    {
     "name": "stdout",
     "output_type": "stream",
     "text": [
      "-35.5\n",
      "272.5\n"
     ]
    }
   ],
   "source": [
    "iqr = q3-q1\n",
    "low_limit = q1-1.5*iqr\n",
    "up_limit = q3+1.5*iqr\n",
    "print(low_limit)\n",
    "print(up_limit)"
   ]
  },
  {
   "cell_type": "code",
   "execution_count": 69,
   "id": "c80cf480",
   "metadata": {},
   "outputs": [
    {
     "data": {
      "text/plain": [
       "[313.0, 366.5, 307.5, 344.0, 282.0, 303.0, 294.0, 440.0, 278.0, 289.0]"
      ]
     },
     "execution_count": 69,
     "metadata": {},
     "output_type": "execute_result"
    }
   ],
   "source": [
    "outlier = []\n",
    "for x in data['total sulfur dioxide']:\n",
    "  if((x>up_limit) or (x<low_limit)):\n",
    "    outlier.append(x)\n",
    "outlier"
   ]
  },
  {
   "cell_type": "code",
   "execution_count": 70,
   "id": "ea7fc1ce",
   "metadata": {},
   "outputs": [
    {
     "data": {
      "text/plain": [
       "Int64Index([325, 1417, 1931, 2127, 2378, 2654, 3152, 4745, 5977, 5979], dtype='int64')"
      ]
     },
     "execution_count": 70,
     "metadata": {},
     "output_type": "execute_result"
    }
   ],
   "source": [
    "ind1 = data['total sulfur dioxide']>up_limit\n",
    "data.loc[ind1].index"
   ]
  },
  {
   "cell_type": "code",
   "execution_count": 71,
   "id": "9d5e6ae3",
   "metadata": {},
   "outputs": [],
   "source": [
    "data.drop([325, 1417, 1931, 2127, 2378, 2654, 3152, 4745, 5977, 5979],inplace=True)"
   ]
  },
  {
   "cell_type": "code",
   "execution_count": 72,
   "id": "97293fab",
   "metadata": {},
   "outputs": [
    {
     "data": {
      "text/plain": [
       "Text(0.5, 1.0, 'Box plot of total sulfur dioxide')"
      ]
     },
     "execution_count": 72,
     "metadata": {},
     "output_type": "execute_result"
    },
    {
     "data": {
      "image/png": "[encoded data removed]",
      "text/plain": [
       "<Figure size 640x480 with 1 Axes>"
      ]
     },
     "metadata": {},
     "output_type": "display_data"
    }
   ],
   "source": [
    "plt.boxplot(data['total sulfur dioxide'])\n",
    "plt.title('Box plot of total sulfur dioxide')"
   ]
  },
  {
   "cell_type": "code",
   "execution_count": 73,
   "id": "d72b7924",
   "metadata": {},
   "outputs": [
    {
     "name": "stdout",
     "output_type": "stream",
     "text": [
      "17.0\n",
      "29.0\n",
      "42.0\n"
     ]
    },
    {
     "name": "stderr",
     "output_type": "stream",
     "text": [
      "C:\\Users\\ATHUL AKSHAY\\AppData\\Local\\Temp\\ipykernel_19848\\4071178241.py:1: DeprecationWarning: the `interpolation=` argument to percentile was renamed to `method=`, which has additional options.\n",
      "Users of the modes 'nearest', 'lower', 'higher', or 'midpoint' are encouraged to review the method they used. (Deprecated NumPy 1.22)\n",
      "  q1 = np.percentile(data['free sulfur dioxide'],25,\n",
      "C:\\Users\\ATHUL AKSHAY\\AppData\\Local\\Temp\\ipykernel_19848\\4071178241.py:3: DeprecationWarning: the `interpolation=` argument to percentile was renamed to `method=`, which has additional options.\n",
      "Users of the modes 'nearest', 'lower', 'higher', or 'midpoint' are encouraged to review the method they used. (Deprecated NumPy 1.22)\n",
      "  q2 = np.percentile(data['free sulfur dioxide'],50,\n",
      "C:\\Users\\ATHUL AKSHAY\\AppData\\Local\\Temp\\ipykernel_19848\\4071178241.py:5: DeprecationWarning: the `interpolation=` argument to percentile was renamed to `method=`, which has additional options.\n",
      "Users of the modes 'nearest', 'lower', 'higher', or 'midpoint' are encouraged to review the method they used. (Deprecated NumPy 1.22)\n",
      "  q3 = np.percentile(data['free sulfur dioxide'],75,\n"
     ]
    }
   ],
   "source": [
    "q1 = np.percentile(data['free sulfur dioxide'],25,\n",
    "                   interpolation='midpoint')\n",
    "q2 = np.percentile(data['free sulfur dioxide'],50,\n",
    "                   interpolation='midpoint')\n",
    "q3 = np.percentile(data['free sulfur dioxide'],75,\n",
    "                   interpolation='midpoint')\n",
    "print(q1)\n",
    "print(q2)\n",
    "print(q3)"
   ]
  },
  {
   "cell_type": "code",
   "execution_count": 74,
   "id": "3206de6d",
   "metadata": {},
   "outputs": [
    {
     "data": {
      "text/plain": [
       "29.0"
      ]
     },
     "execution_count": 74,
     "metadata": {},
     "output_type": "execute_result"
    }
   ],
   "source": [
    "data['free sulfur dioxide'].median()"
   ]
  },
  {
   "cell_type": "code",
   "execution_count": 75,
   "id": "4777c1c6",
   "metadata": {},
   "outputs": [
    {
     "name": "stdout",
     "output_type": "stream",
     "text": [
      "-20.5\n",
      "79.5\n"
     ]
    }
   ],
   "source": [
    "iqr = q3-q1\n",
    "low_limit = q1-1.5*iqr\n",
    "up_limit = q3+1.5*iqr\n",
    "print(low_limit)\n",
    "print(up_limit)"
   ]
  },
  {
   "cell_type": "code",
   "execution_count": 76,
   "id": "ab6b97ed",
   "metadata": {},
   "outputs": [
    {
     "data": {
      "text/plain": [
       "[81.0,\n",
       " 82.0,\n",
       " 82.5,\n",
       " 87.0,\n",
       " 87.0,\n",
       " 83.0,\n",
       " 122.5,\n",
       " 83.0,\n",
       " 81.0,\n",
       " 80.0,\n",
       " 88.0,\n",
       " 82.0,\n",
       " 118.5,\n",
       " 81.0,\n",
       " 96.0,\n",
       " 83.0,\n",
       " 83.0,\n",
       " 128.0,\n",
       " 110.0,\n",
       " 85.0,\n",
       " 89.0,\n",
       " 86.0,\n",
       " 86.0,\n",
       " 138.5,\n",
       " 95.0,\n",
       " 124.0,\n",
       " 87.0,\n",
       " 87.0,\n",
       " 101.0,\n",
       " 101.0,\n",
       " 108.0,\n",
       " 108.0,\n",
       " 98.0,\n",
       " 98.0,\n",
       " 112.0,\n",
       " 108.0,\n",
       " 98.0,\n",
       " 81.0,\n",
       " 81.0,\n",
       " 81.0,\n",
       " 97.0]"
      ]
     },
     "execution_count": 76,
     "metadata": {},
     "output_type": "execute_result"
    }
   ],
   "source": [
    "outlier = []\n",
    "for x in data['free sulfur dioxide']:\n",
    "  if((x>up_limit) or (x<low_limit)):\n",
    "    outlier.append(x)\n",
    "outlier"
   ]
  },
  {
   "cell_type": "code",
   "execution_count": 77,
   "id": "10e989d3",
   "metadata": {},
   "outputs": [
    {
     "data": {
      "text/plain": [
       "Int64Index([  67,  297,  387,  395,  405,  459,  659,  752,  766,  932, 1257,\n",
       "            1674, 1688, 1759, 1842, 1855, 1859, 2334, 2336, 2575, 2625, 2728,\n",
       "            2735, 3050, 3072, 3307, 3379, 3387, 3520, 3523, 3620, 3861, 3862,\n",
       "            3863, 3868, 3869, 3871, 3981, 4179, 4185, 4841],\n",
       "           dtype='int64')"
      ]
     },
     "execution_count": 77,
     "metadata": {},
     "output_type": "execute_result"
    }
   ],
   "source": [
    "ind1 = data['free sulfur dioxide']>up_limit\n",
    "data.loc[ind1].index"
   ]
  },
  {
   "cell_type": "code",
   "execution_count": 78,
   "id": "c3a51493",
   "metadata": {},
   "outputs": [],
   "source": [
    "data.drop([ 67,  297,  387,  395,  405,  459,  659,  752,  766,  932, 1257,\n",
    "            1674, 1688, 1759, 1842, 1855, 1859, 2334, 2336, 2575, 2625, 2728,\n",
    "            2735, 3050, 3072, 3307, 3379, 3387, 3520, 3523, 3620, 3861, 3862,\n",
    "            3863, 3868, 3869, 3871, 3981, 4179, 4185, 4841],inplace=True)"
   ]
  },
  {
   "cell_type": "code",
   "execution_count": 79,
   "id": "39273c35",
   "metadata": {},
   "outputs": [
    {
     "data": {
      "text/plain": [
       "Text(0.5, 1.0, 'Box plot of free sulfur dioxide')"
      ]
     },
     "execution_count": 79,
     "metadata": {},
     "output_type": "execute_result"
    },
    {
     "data": {
      "image/png": "[encoded data removed]",
      "text/plain": [
       "<Figure size 640x480 with 1 Axes>"
      ]
     },
     "metadata": {},
     "output_type": "display_data"
    }
   ],
   "source": [
    "plt.boxplot(data['free sulfur dioxide'])\n",
    "plt.title('Box plot of free sulfur dioxide')"
   ]
  },
  {
   "cell_type": "code",
   "execution_count": 80,
   "id": "62a0b7ae",
   "metadata": {},
   "outputs": [
    {
     "name": "stdout",
     "output_type": "stream",
     "text": [
      "0.038\n",
      "0.047\n",
      "0.064\n"
     ]
    },
    {
     "name": "stderr",
     "output_type": "stream",
     "text": [
      "C:\\Users\\ATHUL AKSHAY\\AppData\\Local\\Temp\\ipykernel_19848\\3983626520.py:1: DeprecationWarning: the `interpolation=` argument to percentile was renamed to `method=`, which has additional options.\n",
      "Users of the modes 'nearest', 'lower', 'higher', or 'midpoint' are encouraged to review the method they used. (Deprecated NumPy 1.22)\n",
      "  q1 = np.percentile(data['chlorides'],25,\n",
      "C:\\Users\\ATHUL AKSHAY\\AppData\\Local\\Temp\\ipykernel_19848\\3983626520.py:3: DeprecationWarning: the `interpolation=` argument to percentile was renamed to `method=`, which has additional options.\n",
      "Users of the modes 'nearest', 'lower', 'higher', or 'midpoint' are encouraged to review the method they used. (Deprecated NumPy 1.22)\n",
      "  q2 = np.percentile(data['chlorides'],50,\n",
      "C:\\Users\\ATHUL AKSHAY\\AppData\\Local\\Temp\\ipykernel_19848\\3983626520.py:5: DeprecationWarning: the `interpolation=` argument to percentile was renamed to `method=`, which has additional options.\n",
      "Users of the modes 'nearest', 'lower', 'higher', or 'midpoint' are encouraged to review the method they used. (Deprecated NumPy 1.22)\n",
      "  q3 = np.percentile(data['chlorides'],75,\n"
     ]
    }
   ],
   "source": [
    "q1 = np.percentile(data['chlorides'],25,\n",
    "                   interpolation='midpoint')\n",
    "q2 = np.percentile(data['chlorides'],50,\n",
    "                   interpolation='midpoint')\n",
    "q3 = np.percentile(data['chlorides'],75,\n",
    "                   interpolation='midpoint')\n",
    "print(q1)\n",
    "print(q2)\n",
    "print(q3)"
   ]
  },
  {
   "cell_type": "code",
   "execution_count": 81,
   "id": "6472b73a",
   "metadata": {},
   "outputs": [
    {
     "data": {
      "text/plain": [
       "0.047"
      ]
     },
     "execution_count": 81,
     "metadata": {},
     "output_type": "execute_result"
    }
   ],
   "source": [
    "data['chlorides'].median()"
   ]
  },
  {
   "cell_type": "code",
   "execution_count": 82,
   "id": "cbfca6ac",
   "metadata": {},
   "outputs": [
    {
     "name": "stdout",
     "output_type": "stream",
     "text": [
      "-0.0010000000000000078\n",
      "0.10300000000000001\n"
     ]
    }
   ],
   "source": [
    "iqr = q3-q1\n",
    "low_limit = q1-1.5*iqr\n",
    "up_limit = q3+1.5*iqr\n",
    "print(low_limit)\n",
    "print(up_limit)"
   ]
  },
  {
   "cell_type": "code",
   "execution_count": 83,
   "id": "2c09b267",
   "metadata": {},
   "outputs": [
    {
     "data": {
      "text/plain": [
       "[0.172,\n",
       " 0.173,\n",
       " 0.147,\n",
       " 0.2,\n",
       " 0.197,\n",
       " 0.197,\n",
       " 0.132,\n",
       " 0.108,\n",
       " 0.346,\n",
       " 0.114,\n",
       " 0.186,\n",
       " 0.18,\n",
       " 0.24,\n",
       " 0.29,\n",
       " 0.185,\n",
       " 0.11,\n",
       " 0.13,\n",
       " 0.135,\n",
       " 0.115,\n",
       " 0.17,\n",
       " 0.119,\n",
       " 0.126,\n",
       " 0.15,\n",
       " 0.152,\n",
       " 0.244,\n",
       " 0.137,\n",
       " 0.201,\n",
       " 0.201,\n",
       " 0.301,\n",
       " 0.138,\n",
       " 0.169,\n",
       " 0.168,\n",
       " 0.122,\n",
       " 0.172,\n",
       " 0.167,\n",
       " 0.239,\n",
       " 0.138,\n",
       " 0.137,\n",
       " 0.123,\n",
       " 0.123,\n",
       " 0.133,\n",
       " 0.211,\n",
       " 0.123,\n",
       " 0.123,\n",
       " 0.255,\n",
       " 0.204,\n",
       " 0.208,\n",
       " 0.168,\n",
       " 0.16,\n",
       " 0.179,\n",
       " 0.217,\n",
       " 0.157,\n",
       " 0.157,\n",
       " 0.148,\n",
       " 0.158,\n",
       " 0.157,\n",
       " 0.168,\n",
       " 0.157,\n",
       " 0.147,\n",
       " 0.142,\n",
       " 0.156,\n",
       " 0.119,\n",
       " 0.119,\n",
       " 0.17,\n",
       " 0.171,\n",
       " 0.152,\n",
       " 0.169,\n",
       " 0.112,\n",
       " 0.154,\n",
       " 0.126,\n",
       " 0.126,\n",
       " 0.104,\n",
       " 0.142,\n",
       " 0.184,\n",
       " 0.184,\n",
       " 0.146,\n",
       " 0.117,\n",
       " 0.117,\n",
       " 0.118,\n",
       " 0.16,\n",
       " 0.167,\n",
       " 0.194,\n",
       " 0.144,\n",
       " 0.149,\n",
       " 0.185,\n",
       " 0.175,\n",
       " 0.11,\n",
       " 0.11,\n",
       " 0.174,\n",
       " 0.142,\n",
       " 0.145,\n",
       " 0.208,\n",
       " 0.209,\n",
       " 0.105,\n",
       " 0.176,\n",
       " 0.176,\n",
       " 0.108,\n",
       " 0.271,\n",
       " 0.12,\n",
       " 0.212,\n",
       " 0.117,\n",
       " 0.173,\n",
       " 0.175,\n",
       " 0.174,\n",
       " 0.127,\n",
       " 0.127,\n",
       " 0.136,\n",
       " 0.105,\n",
       " 0.172,\n",
       " 0.114,\n",
       " 0.113,\n",
       " 0.11,\n",
       " 0.111,\n",
       " 0.115,\n",
       " 0.104,\n",
       " 0.122,\n",
       " 0.119,\n",
       " 0.178,\n",
       " 0.119,\n",
       " 0.146,\n",
       " 0.118,\n",
       " 0.117,\n",
       " 0.236,\n",
       " 0.111,\n",
       " 0.343,\n",
       " 0.186,\n",
       " 0.112,\n",
       " 0.213,\n",
       " 0.214,\n",
       " 0.121,\n",
       " 0.107,\n",
       " 0.122,\n",
       " 0.122,\n",
       " 0.105,\n",
       " 0.128,\n",
       " 0.118,\n",
       " 0.118,\n",
       " 0.12,\n",
       " 0.116,\n",
       " 0.109,\n",
       " 0.159,\n",
       " 0.106,\n",
       " 0.124,\n",
       " 0.112,\n",
       " 0.122,\n",
       " 0.122,\n",
       " 0.174,\n",
       " 0.111,\n",
       " 0.121,\n",
       " 0.127,\n",
       " 0.114,\n",
       " 0.125,\n",
       " 0.107,\n",
       " 0.107,\n",
       " 0.2,\n",
       " 0.105,\n",
       " 0.171,\n",
       " 0.118,\n",
       " 0.118,\n",
       " 0.226,\n",
       " 0.226,\n",
       " 0.25,\n",
       " 0.108,\n",
       " 0.11,\n",
       " 0.122,\n",
       " 0.124,\n",
       " 0.124,\n",
       " 0.111,\n",
       " 0.105,\n",
       " 0.105,\n",
       " 0.143,\n",
       " 0.115,\n",
       " 0.107,\n",
       " 0.106,\n",
       " 0.104,\n",
       " 0.106,\n",
       " 0.222,\n",
       " 0.387,\n",
       " 0.112,\n",
       " 0.112,\n",
       " 0.243,\n",
       " 0.241,\n",
       " 0.19,\n",
       " 0.126,\n",
       " 0.114,\n",
       " 0.115,\n",
       " 0.119,\n",
       " 0.104,\n",
       " 0.109,\n",
       " 0.194,\n",
       " 0.112,\n",
       " 0.132,\n",
       " 0.114,\n",
       " 0.161,\n",
       " 0.111,\n",
       " 0.12,\n",
       " 0.115,\n",
       " 0.104,\n",
       " 0.109,\n",
       " 0.11,\n",
       " 0.116,\n",
       " 0.12,\n",
       " 0.123,\n",
       " 0.123,\n",
       " 0.104,\n",
       " 0.117,\n",
       " 0.117,\n",
       " 0.216,\n",
       " 0.171,\n",
       " 0.104,\n",
       " 0.118,\n",
       " 0.118,\n",
       " 0.11,\n",
       " 0.166,\n",
       " 0.166,\n",
       " 0.114,\n",
       " 0.111,\n",
       " 0.132,\n",
       " 0.132,\n",
       " 0.104,\n",
       " 0.123,\n",
       " 0.123,\n",
       " 0.123,\n",
       " 0.114,\n",
       " 0.137,\n",
       " 0.107,\n",
       " 0.166,\n",
       " 0.168,\n",
       " 0.112,\n",
       " 0.115,\n",
       " 0.11,\n",
       " 0.267,\n",
       " 0.107,\n",
       " 0.123,\n",
       " 0.214,\n",
       " 0.214,\n",
       " 0.169,\n",
       " 0.104,\n",
       " 0.205,\n",
       " 0.205,\n",
       " 0.104,\n",
       " 0.104,\n",
       " 0.114,\n",
       " 0.106,\n",
       " 0.106,\n",
       " 0.114,\n",
       " 0.106,\n",
       " 0.235,\n",
       " 0.118]"
      ]
     },
     "execution_count": 83,
     "metadata": {},
     "output_type": "execute_result"
    }
   ],
   "source": [
    "outlier = []\n",
    "for x in data['chlorides']:\n",
    "  if((x>up_limit) or (x<low_limit)):\n",
    "    outlier.append(x)\n",
    "outlier"
   ]
  },
  {
   "cell_type": "code",
   "execution_count": 84,
   "id": "11775e7d",
   "metadata": {},
   "outputs": [
    {
     "data": {
      "text/plain": [
       "Int64Index([  40,   41,   54,  194,  195,  196,  315,  433,  484,  525,\n",
       "            ...\n",
       "            6374, 6377, 6379, 6380, 6402, 6405, 6416, 6417, 6456, 6476],\n",
       "           dtype='int64', length=249)"
      ]
     },
     "execution_count": 84,
     "metadata": {},
     "output_type": "execute_result"
    }
   ],
   "source": [
    "ind1 = data['chlorides']>up_limit\n",
    "data.loc[ind1].index"
   ]
  },
  {
   "cell_type": "code",
   "execution_count": 85,
   "id": "f6feb1fc",
   "metadata": {},
   "outputs": [
    {
     "data": {
      "text/plain": [
       "Int64Index([  40,   41,   54,  194,  195,  196,  315,  433,  484,  525,\n",
       "            ...\n",
       "            6374, 6377, 6379, 6380, 6402, 6405, 6416, 6417, 6456, 6476],\n",
       "           dtype='int64', length=249)"
      ]
     },
     "execution_count": 85,
     "metadata": {},
     "output_type": "execute_result"
    }
   ],
   "source": [
    "c=data.loc[ind1].index\n",
    "c"
   ]
  },
  {
   "cell_type": "code",
   "execution_count": 86,
   "id": "731553a5",
   "metadata": {},
   "outputs": [
    {
     "data": {
      "text/html": [
       "<div>\n",
       "<style scoped>\n",
       "    .dataframe tbody tr th:only-of-type {\n",
       "        vertical-align: middle;\n",
       "    }\n",
       "\n",
       "    .dataframe tbody tr th {\n",
       "        vertical-align: top;\n",
       "    }\n",
       "\n",
       "    .dataframe thead th {\n",
       "        text-align: right;\n",
       "    }\n",
       "</style>\n",
       "<table border=\"1\" class=\"dataframe\">\n",
       "  <thead>\n",
       "    <tr style=\"text-align: right;\">\n",
       "      <th></th>\n",
       "      <th>0</th>\n",
       "    </tr>\n",
       "  </thead>\n",
       "  <tbody>\n",
       "    <tr>\n",
       "      <th>0</th>\n",
       "      <td>40</td>\n",
       "    </tr>\n",
       "    <tr>\n",
       "      <th>1</th>\n",
       "      <td>41</td>\n",
       "    </tr>\n",
       "    <tr>\n",
       "      <th>2</th>\n",
       "      <td>54</td>\n",
       "    </tr>\n",
       "    <tr>\n",
       "      <th>3</th>\n",
       "      <td>194</td>\n",
       "    </tr>\n",
       "    <tr>\n",
       "      <th>4</th>\n",
       "      <td>195</td>\n",
       "    </tr>\n",
       "    <tr>\n",
       "      <th>...</th>\n",
       "      <td>...</td>\n",
       "    </tr>\n",
       "    <tr>\n",
       "      <th>244</th>\n",
       "      <td>6405</td>\n",
       "    </tr>\n",
       "    <tr>\n",
       "      <th>245</th>\n",
       "      <td>6416</td>\n",
       "    </tr>\n",
       "    <tr>\n",
       "      <th>246</th>\n",
       "      <td>6417</td>\n",
       "    </tr>\n",
       "    <tr>\n",
       "      <th>247</th>\n",
       "      <td>6456</td>\n",
       "    </tr>\n",
       "    <tr>\n",
       "      <th>248</th>\n",
       "      <td>6476</td>\n",
       "    </tr>\n",
       "  </tbody>\n",
       "</table>\n",
       "<p>249 rows × 1 columns</p>\n",
       "</div>"
      ],
      "text/plain": [
       "        0\n",
       "0      40\n",
       "1      41\n",
       "2      54\n",
       "3     194\n",
       "4     195\n",
       "..    ...\n",
       "244  6405\n",
       "245  6416\n",
       "246  6417\n",
       "247  6456\n",
       "248  6476\n",
       "\n",
       "[249 rows x 1 columns]"
      ]
     },
     "execution_count": 86,
     "metadata": {},
     "output_type": "execute_result"
    }
   ],
   "source": [
    "df=pd.DataFrame(c)\n",
    "df"
   ]
  },
  {
   "cell_type": "code",
   "execution_count": 87,
   "id": "ed6c3d82",
   "metadata": {},
   "outputs": [],
   "source": [
    "data.drop(c, inplace = True)"
   ]
  },
  {
   "cell_type": "code",
   "execution_count": 88,
   "id": "ab49ba7d",
   "metadata": {},
   "outputs": [
    {
     "data": {
      "text/plain": [
       "Text(0.5, 1.0, 'Box plot of chlorides')"
      ]
     },
     "execution_count": 88,
     "metadata": {},
     "output_type": "execute_result"
    },
    {
     "data": {
      "image/png": "[encoded data removed]",
      "text/plain": [
       "<Figure size 640x480 with 1 Axes>"
      ]
     },
     "metadata": {},
     "output_type": "display_data"
    }
   ],
   "source": [
    "plt.boxplot(data['chlorides'])\n",
    "plt.title('Box plot of chlorides')"
   ]
  },
  {
   "cell_type": "code",
   "execution_count": 89,
   "id": "93ad4fdc",
   "metadata": {},
   "outputs": [
    {
     "name": "stdout",
     "output_type": "stream",
     "text": [
      "1.8\n",
      "3.2\n",
      "8.3\n"
     ]
    },
    {
     "name": "stderr",
     "output_type": "stream",
     "text": [
      "C:\\Users\\ATHUL AKSHAY\\AppData\\Local\\Temp\\ipykernel_19848\\3152292979.py:1: DeprecationWarning: the `interpolation=` argument to percentile was renamed to `method=`, which has additional options.\n",
      "Users of the modes 'nearest', 'lower', 'higher', or 'midpoint' are encouraged to review the method they used. (Deprecated NumPy 1.22)\n",
      "  q1 = np.percentile(data['residual sugar'],25,\n",
      "C:\\Users\\ATHUL AKSHAY\\AppData\\Local\\Temp\\ipykernel_19848\\3152292979.py:3: DeprecationWarning: the `interpolation=` argument to percentile was renamed to `method=`, which has additional options.\n",
      "Users of the modes 'nearest', 'lower', 'higher', or 'midpoint' are encouraged to review the method they used. (Deprecated NumPy 1.22)\n",
      "  q2 = np.percentile(data['residual sugar'],50,\n",
      "C:\\Users\\ATHUL AKSHAY\\AppData\\Local\\Temp\\ipykernel_19848\\3152292979.py:5: DeprecationWarning: the `interpolation=` argument to percentile was renamed to `method=`, which has additional options.\n",
      "Users of the modes 'nearest', 'lower', 'higher', or 'midpoint' are encouraged to review the method they used. (Deprecated NumPy 1.22)\n",
      "  q3 = np.percentile(data['residual sugar'],75,\n"
     ]
    }
   ],
   "source": [
    "q1 = np.percentile(data['residual sugar'],25,\n",
    "                   interpolation='midpoint')\n",
    "q2 = np.percentile(data['residual sugar'],50,\n",
    "                   interpolation='midpoint')\n",
    "q3 = np.percentile(data['residual sugar'],75,\n",
    "                   interpolation='midpoint')\n",
    "print(q1)\n",
    "print(q2)\n",
    "print(q3)"
   ]
  },
  {
   "cell_type": "code",
   "execution_count": 90,
   "id": "7c1871dc",
   "metadata": {},
   "outputs": [
    {
     "data": {
      "text/plain": [
       "3.2"
      ]
     },
     "execution_count": 90,
     "metadata": {},
     "output_type": "execute_result"
    }
   ],
   "source": [
    "data['residual sugar'].median()"
   ]
  },
  {
   "cell_type": "code",
   "execution_count": 91,
   "id": "d5acebc8",
   "metadata": {},
   "outputs": [
    {
     "name": "stdout",
     "output_type": "stream",
     "text": [
      "-7.950000000000002\n",
      "18.050000000000004\n"
     ]
    }
   ],
   "source": [
    "iqr = q3-q1\n",
    "low_limit = q1-1.5*iqr\n",
    "up_limit = q3+1.5*iqr\n",
    "print(low_limit)\n",
    "print(up_limit)"
   ]
  },
  {
   "cell_type": "code",
   "execution_count": 92,
   "id": "82035b66",
   "metadata": {},
   "outputs": [
    {
     "data": {
      "text/plain": [
       "[20.7,\n",
       " 20.7,\n",
       " 19.25,\n",
       " 18.9,\n",
       " 18.75,\n",
       " 22.0,\n",
       " 22.0,\n",
       " 19.45,\n",
       " 19.45,\n",
       " 19.8,\n",
       " 18.2,\n",
       " 18.2,\n",
       " 18.95,\n",
       " 18.95,\n",
       " 20.8,\n",
       " 18.15,\n",
       " 18.75,\n",
       " 19.3,\n",
       " 18.6,\n",
       " 18.2,\n",
       " 19.45,\n",
       " 19.8,\n",
       " 19.4,\n",
       " 18.15,\n",
       " 18.15,\n",
       " 23.5,\n",
       " 18.35,\n",
       " 19.5,\n",
       " 19.6,\n",
       " 18.3,\n",
       " 18.3,\n",
       " 18.35,\n",
       " 18.35,\n",
       " 18.15,\n",
       " 18.15,\n",
       " 18.15,\n",
       " 18.8,\n",
       " 19.1,\n",
       " 19.35,\n",
       " 19.95,\n",
       " 19.95,\n",
       " 18.1,\n",
       " 18.1,\n",
       " 18.1,\n",
       " 18.95,\n",
       " 20.4,\n",
       " 20.2,\n",
       " 20.2,\n",
       " 18.1,\n",
       " 19.8,\n",
       " 19.8,\n",
       " 18.75,\n",
       " 20.15,\n",
       " 18.5,\n",
       " 18.75,\n",
       " 19.95,\n",
       " 19.5,\n",
       " 19.9,\n",
       " 26.05,\n",
       " 26.05,\n",
       " 18.8,\n",
       " 18.8,\n",
       " 18.15,\n",
       " 18.15,\n",
       " 20.8,\n",
       " 20.3,\n",
       " 18.1,\n",
       " 18.1,\n",
       " 19.3,\n",
       " 19.3,\n",
       " 19.3,\n",
       " 19.25,\n",
       " 19.25,\n",
       " 18.35,\n",
       " 18.4,\n",
       " 19.4]"
      ]
     },
     "execution_count": 92,
     "metadata": {},
     "output_type": "execute_result"
    }
   ],
   "source": [
    "outlier = []\n",
    "for x in data['residual sugar']:\n",
    "  if((x>up_limit) or (x<low_limit)):\n",
    "    outlier.append(x)\n",
    "outlier"
   ]
  },
  {
   "cell_type": "code",
   "execution_count": 93,
   "id": "9a5ddd78",
   "metadata": {},
   "outputs": [
    {
     "data": {
      "text/plain": [
       "Int64Index([   0,    7,   14,  103,  111,  182,  191,  261,  265,  292,  398,\n",
       "             403,  410,  414,  444,  469,  717,  762,  763,  946, 1043, 1454,\n",
       "            1487, 1524, 1529, 1608, 1680, 1722, 1775, 1892, 1893, 1973, 1974,\n",
       "            2051, 2052, 2056, 2164, 2411, 2419, 2489, 2492, 2497, 2498, 2500,\n",
       "            2580, 2620, 2785, 2787, 3009, 3014, 3023, 3262, 3420, 3438, 3444,\n",
       "            3497, 3545, 3547, 3619, 3623, 3678, 3694, 3701, 3718, 3730, 4107,\n",
       "            4116, 4117, 4455, 4456, 4457, 4691, 4694, 4748, 4749, 4778],\n",
       "           dtype='int64')"
      ]
     },
     "execution_count": 93,
     "metadata": {},
     "output_type": "execute_result"
    }
   ],
   "source": [
    "ind1 = data['residual sugar']>up_limit\n",
    "data.loc[ind1].index"
   ]
  },
  {
   "cell_type": "code",
   "execution_count": 94,
   "id": "58ebcdbc",
   "metadata": {},
   "outputs": [],
   "source": [
    "data.drop([ 0,    7,   14,  103,  111,  182,  191,  261,  265,  292,  398,\n",
    "             403,  410,  414,  444,  469,  717,  762,  763,  946, 1043, 1454,\n",
    "            1487, 1524, 1529, 1608, 1680, 1722, 1775, 1892, 1893, 1973, 1974,\n",
    "            2051, 2052, 2056, 2164, 2411, 2419, 2489, 2492, 2497, 2498, 2500,\n",
    "            2580, 2620, 2785, 2787, 3009, 3014, 3023, 3262, 3420, 3438, 3444,\n",
    "            3497, 3545, 3547, 3619, 3623, 3678, 3694, 3701, 3718, 3730, 4107,\n",
    "            4116, 4117, 4455, 4456, 4457, 4691, 4694, 4748, 4749, 4778], inplace = True)"
   ]
  },
  {
   "cell_type": "code",
   "execution_count": 95,
   "id": "ffd54e77",
   "metadata": {},
   "outputs": [
    {
     "data": {
      "text/plain": [
       "Text(0.5, 1.0, 'Box plot of residual sugar')"
      ]
     },
     "execution_count": 95,
     "metadata": {},
     "output_type": "execute_result"
    },
    {
     "data": {
      "image/png": "[encoded data removed]",
      "text/plain": [
       "<Figure size 640x480 with 1 Axes>"
      ]
     },
     "metadata": {},
     "output_type": "display_data"
    }
   ],
   "source": [
    "plt.boxplot(data['residual sugar'])\n",
    "plt.title('Box plot of residual sugar')"
   ]
  },
  {
   "cell_type": "code",
   "execution_count": 96,
   "id": "a2d4b13c",
   "metadata": {},
   "outputs": [
    {
     "name": "stdout",
     "output_type": "stream",
     "text": [
      "6.4\n",
      "7.0\n",
      "7.6\n"
     ]
    },
    {
     "name": "stderr",
     "output_type": "stream",
     "text": [
      "C:\\Users\\ATHUL AKSHAY\\AppData\\Local\\Temp\\ipykernel_19848\\4064787165.py:1: DeprecationWarning: the `interpolation=` argument to percentile was renamed to `method=`, which has additional options.\n",
      "Users of the modes 'nearest', 'lower', 'higher', or 'midpoint' are encouraged to review the method they used. (Deprecated NumPy 1.22)\n",
      "  q1 = np.percentile(data['fixed acidity'],25,\n",
      "C:\\Users\\ATHUL AKSHAY\\AppData\\Local\\Temp\\ipykernel_19848\\4064787165.py:3: DeprecationWarning: the `interpolation=` argument to percentile was renamed to `method=`, which has additional options.\n",
      "Users of the modes 'nearest', 'lower', 'higher', or 'midpoint' are encouraged to review the method they used. (Deprecated NumPy 1.22)\n",
      "  q2 = np.percentile(data['fixed acidity'],50,\n",
      "C:\\Users\\ATHUL AKSHAY\\AppData\\Local\\Temp\\ipykernel_19848\\4064787165.py:5: DeprecationWarning: the `interpolation=` argument to percentile was renamed to `method=`, which has additional options.\n",
      "Users of the modes 'nearest', 'lower', 'higher', or 'midpoint' are encouraged to review the method they used. (Deprecated NumPy 1.22)\n",
      "  q3 = np.percentile(data['fixed acidity'],75,\n"
     ]
    }
   ],
   "source": [
    "q1 = np.percentile(data['fixed acidity'],25,\n",
    "                   interpolation='midpoint')\n",
    "q2 = np.percentile(data['fixed acidity'],50,\n",
    "                   interpolation='midpoint')\n",
    "q3 = np.percentile(data['fixed acidity'],75,\n",
    "                   interpolation='midpoint')\n",
    "print(q1)\n",
    "print(q2)\n",
    "print(q3)"
   ]
  },
  {
   "cell_type": "code",
   "execution_count": 97,
   "id": "a9523273",
   "metadata": {},
   "outputs": [
    {
     "data": {
      "text/plain": [
       "7.0"
      ]
     },
     "execution_count": 97,
     "metadata": {},
     "output_type": "execute_result"
    }
   ],
   "source": [
    "data['fixed acidity'].median()"
   ]
  },
  {
   "cell_type": "code",
   "execution_count": 98,
   "id": "c2ceb250",
   "metadata": {},
   "outputs": [
    {
     "name": "stdout",
     "output_type": "stream",
     "text": [
      "4.600000000000001\n",
      "9.399999999999999\n"
     ]
    }
   ],
   "source": [
    "iqr = q3-q1\n",
    "low_limit = q1-1.5*iqr\n",
    "up_limit = q3+1.5*iqr\n",
    "print(low_limit)\n",
    "print(up_limit)"
   ]
  },
  {
   "cell_type": "code",
   "execution_count": 99,
   "id": "dbbf7105",
   "metadata": {},
   "outputs": [
    {
     "data": {
      "text/plain": [
       "[9.8,\n",
       " 9.8,\n",
       " 10.2,\n",
       " 10.0,\n",
       " 10.3,\n",
       " 9.4,\n",
       " 9.8,\n",
       " 9.6,\n",
       " 9.8,\n",
       " 9.7,\n",
       " 9.4,\n",
       " 10.3,\n",
       " 9.6,\n",
       " 9.7,\n",
       " 9.4,\n",
       " 9.6,\n",
       " 10.7,\n",
       " 10.7,\n",
       " 9.8,\n",
       " 14.2,\n",
       " 9.8,\n",
       " 9.6,\n",
       " 9.4,\n",
       " 9.4,\n",
       " 10.0,\n",
       " 10.0,\n",
       " 9.9,\n",
       " 9.5,\n",
       " 9.5,\n",
       " 11.8,\n",
       " 9.4,\n",
       " 9.8,\n",
       " 9.9,\n",
       " 9.4,\n",
       " 9.4,\n",
       " 9.4,\n",
       " 9.8,\n",
       " 9.7,\n",
       " 9.7,\n",
       " 4.2,\n",
       " 4.4,\n",
       " 4.4,\n",
       " 11.2,\n",
       " 10.2,\n",
       " 9.7,\n",
       " 10.1,\n",
       " 9.4,\n",
       " 9.6,\n",
       " 12.8,\n",
       " 12.8,\n",
       " 11.6,\n",
       " 12.0,\n",
       " 15.0,\n",
       " 15.0,\n",
       " 10.8,\n",
       " 11.1,\n",
       " 9.4,\n",
       " 10.0,\n",
       " 11.8,\n",
       " 10.9,\n",
       " 11.4,\n",
       " 9.9,\n",
       " 9.9,\n",
       " 12.0,\n",
       " 10.4,\n",
       " 13.3,\n",
       " 10.8,\n",
       " 10.6,\n",
       " 11.1,\n",
       " 10.3,\n",
       " 10.3,\n",
       " 9.6,\n",
       " 9.6,\n",
       " 9.8,\n",
       " 9.6,\n",
       " 9.8,\n",
       " 10.3,\n",
       " 10.0,\n",
       " 10.0,\n",
       " 13.4,\n",
       " 10.7,\n",
       " 11.9,\n",
       " 12.6,\n",
       " 11.9,\n",
       " 12.8,\n",
       " 12.8,\n",
       " 10.4,\n",
       " 14.0,\n",
       " 13.7,\n",
       " 9.6,\n",
       " 13.7,\n",
       " 9.5,\n",
       " 12.7,\n",
       " 12.0,\n",
       " 11.5,\n",
       " 11.5,\n",
       " 12.2,\n",
       " 11.4,\n",
       " 9.8,\n",
       " 12.0,\n",
       " 12.5,\n",
       " 9.9,\n",
       " 9.5,\n",
       " 9.5,\n",
       " 12.8,\n",
       " 11.9,\n",
       " 12.3,\n",
       " 12.3,\n",
       " 11.1,\n",
       " 11.9,\n",
       " 15.6,\n",
       " 10.0,\n",
       " 9.5,\n",
       " 12.5,\n",
       " 11.9,\n",
       " 11.9,\n",
       " 10.4,\n",
       " 10.4,\n",
       " 11.6,\n",
       " 11.0,\n",
       " 11.5,\n",
       " 10.3,\n",
       " 11.4,\n",
       " 13.0,\n",
       " 9.6,\n",
       " 12.5,\n",
       " 9.9,\n",
       " 9.6,\n",
       " 9.6,\n",
       " 9.4,\n",
       " 10.6,\n",
       " 10.2,\n",
       " 10.2,\n",
       " 10.2,\n",
       " 10.4,\n",
       " 10.4,\n",
       " 10.2,\n",
       " 11.2,\n",
       " 10.0,\n",
       " 13.3,\n",
       " 12.4,\n",
       " 10.0,\n",
       " 12.5,\n",
       " 10.9,\n",
       " 9.9,\n",
       " 11.9,\n",
       " 11.9,\n",
       " 10.3,\n",
       " 10.0,\n",
       " 9.9,\n",
       " 12.9,\n",
       " 11.2,\n",
       " 9.5,\n",
       " 11.2,\n",
       " 14.3,\n",
       " 12.4,\n",
       " 9.4,\n",
       " 9.5,\n",
       " 15.5,\n",
       " 15.5,\n",
       " 15.6,\n",
       " 13.0,\n",
       " 12.7,\n",
       " 13.0,\n",
       " 12.7,\n",
       " 10.2,\n",
       " 10.5,\n",
       " 10.6,\n",
       " 12.3,\n",
       " 9.9,\n",
       " 10.6,\n",
       " 12.3,\n",
       " 12.3,\n",
       " 11.7,\n",
       " 12.0,\n",
       " 11.8,\n",
       " 10.2,\n",
       " 9.9,\n",
       " 12.4,\n",
       " 11.9,\n",
       " 12.7,\n",
       " 13.2,\n",
       " 13.2,\n",
       " 9.4,\n",
       " 13.2,\n",
       " 9.6,\n",
       " 9.6,\n",
       " 11.3,\n",
       " 10.0,\n",
       " 9.6,\n",
       " 9.5,\n",
       " 9.9,\n",
       " 9.5,\n",
       " 9.9,\n",
       " 9.5,\n",
       " 9.9,\n",
       " 9.4,\n",
       " 9.7,\n",
       " 12.0,\n",
       " 10.1,\n",
       " 12.1,\n",
       " 9.4,\n",
       " 11.3,\n",
       " 10.0,\n",
       " 11.3,\n",
       " 9.8,\n",
       " 10.8,\n",
       " 10.8,\n",
       " 10.8,\n",
       " 13.3,\n",
       " 9.8,\n",
       " 9.4,\n",
       " 11.8,\n",
       " 10.6,\n",
       " 9.7,\n",
       " 10.6,\n",
       " 9.9,\n",
       " 11.6,\n",
       " 11.1,\n",
       " 9.4,\n",
       " 9.5,\n",
       " 9.9,\n",
       " 9.9,\n",
       " 10.0,\n",
       " 10.0,\n",
       " 10.1,\n",
       " 9.4,\n",
       " 9.4,\n",
       " 12.9,\n",
       " 10.8,\n",
       " 12.6,\n",
       " 10.8,\n",
       " 9.8,\n",
       " 10.8,\n",
       " 10.1,\n",
       " 11.1,\n",
       " 9.9,\n",
       " 11.7,\n",
       " 10.7,\n",
       " 10.1,\n",
       " 10.0,\n",
       " 9.4,\n",
       " 9.6,\n",
       " 12.0,\n",
       " 9.6,\n",
       " 9.9,\n",
       " 10.1,\n",
       " 9.8,\n",
       " 10.2,\n",
       " 10.2,\n",
       " 9.5,\n",
       " 12.2,\n",
       " 9.5,\n",
       " 12.2,\n",
       " 9.8,\n",
       " 9.7,\n",
       " 10.0,\n",
       " 9.9,\n",
       " 10.5,\n",
       " 10.1,\n",
       " 9.5,\n",
       " 9.9,\n",
       " 11.6,\n",
       " 10.2,\n",
       " 11.1,\n",
       " 11.1,\n",
       " 9.9,\n",
       " 10.3,\n",
       " 11.6,\n",
       " 11.6,\n",
       " 9.4,\n",
       " 10.7,\n",
       " 10.0,\n",
       " 10.5,\n",
       " 10.4,\n",
       " 10.4,\n",
       " 10.0,\n",
       " 10.0,\n",
       " 9.6,\n",
       " 10.6,\n",
       " 9.7,\n",
       " 9.8,\n",
       " 9.6,\n",
       " 10.2,\n",
       " 10.5,\n",
       " 12.6,\n",
       " 10.2,\n",
       " 9.8,\n",
       " 9.8,\n",
       " 9.8,\n",
       " 11.3,\n",
       " 9.7,\n",
       " 9.7,\n",
       " 9.9,\n",
       " 9.7,\n",
       " 11.5,\n",
       " 11.6,\n",
       " 11.6,\n",
       " 10.0,\n",
       " 10.0,\n",
       " 11.7,\n",
       " 10.0,\n",
       " 11.1,\n",
       " 11.2]"
      ]
     },
     "execution_count": 99,
     "metadata": {},
     "output_type": "execute_result"
    }
   ],
   "source": [
    "outlier = []\n",
    "for x in data['fixed acidity']:\n",
    "  if((x>up_limit) or (x<low_limit)):\n",
    "    outlier.append(x)\n",
    "outlier"
   ]
  },
  {
   "cell_type": "code",
   "execution_count": 100,
   "id": "e5d73576",
   "metadata": {},
   "outputs": [
    {
     "data": {
      "text/plain": [
       "Int64Index([  98,  169,  207,  358,  873, 1053, 1123, 1124, 1178, 1214,\n",
       "            ...\n",
       "            6218, 6242, 6257, 6260, 6312, 6314, 6352, 6368, 6441, 6446],\n",
       "           dtype='int64', length=301)"
      ]
     },
     "execution_count": 100,
     "metadata": {},
     "output_type": "execute_result"
    }
   ],
   "source": [
    "ind1 = data['fixed acidity']>up_limit\n",
    "data.loc[ind1].index"
   ]
  },
  {
   "cell_type": "code",
   "execution_count": 101,
   "id": "c9c46bcc",
   "metadata": {},
   "outputs": [],
   "source": [
    "c=data.loc[ind1].index"
   ]
  },
  {
   "cell_type": "code",
   "execution_count": 102,
   "id": "02db8af8",
   "metadata": {},
   "outputs": [
    {
     "data": {
      "text/plain": [
       "Int64Index([  98,  169,  207,  358,  873, 1053, 1123, 1124, 1178, 1214,\n",
       "            ...\n",
       "            6218, 6242, 6257, 6260, 6312, 6314, 6352, 6368, 6441, 6446],\n",
       "           dtype='int64', length=301)"
      ]
     },
     "execution_count": 102,
     "metadata": {},
     "output_type": "execute_result"
    }
   ],
   "source": [
    "c"
   ]
  },
  {
   "cell_type": "code",
   "execution_count": 103,
   "id": "f9c7e69d",
   "metadata": {},
   "outputs": [
    {
     "data": {
      "text/html": [
       "<div>\n",
       "<style scoped>\n",
       "    .dataframe tbody tr th:only-of-type {\n",
       "        vertical-align: middle;\n",
       "    }\n",
       "\n",
       "    .dataframe tbody tr th {\n",
       "        vertical-align: top;\n",
       "    }\n",
       "\n",
       "    .dataframe thead th {\n",
       "        text-align: right;\n",
       "    }\n",
       "</style>\n",
       "<table border=\"1\" class=\"dataframe\">\n",
       "  <thead>\n",
       "    <tr style=\"text-align: right;\">\n",
       "      <th></th>\n",
       "      <th>0</th>\n",
       "    </tr>\n",
       "  </thead>\n",
       "  <tbody>\n",
       "    <tr>\n",
       "      <th>0</th>\n",
       "      <td>98</td>\n",
       "    </tr>\n",
       "    <tr>\n",
       "      <th>1</th>\n",
       "      <td>169</td>\n",
       "    </tr>\n",
       "    <tr>\n",
       "      <th>2</th>\n",
       "      <td>207</td>\n",
       "    </tr>\n",
       "    <tr>\n",
       "      <th>3</th>\n",
       "      <td>358</td>\n",
       "    </tr>\n",
       "    <tr>\n",
       "      <th>4</th>\n",
       "      <td>873</td>\n",
       "    </tr>\n",
       "    <tr>\n",
       "      <th>...</th>\n",
       "      <td>...</td>\n",
       "    </tr>\n",
       "    <tr>\n",
       "      <th>296</th>\n",
       "      <td>6314</td>\n",
       "    </tr>\n",
       "    <tr>\n",
       "      <th>297</th>\n",
       "      <td>6352</td>\n",
       "    </tr>\n",
       "    <tr>\n",
       "      <th>298</th>\n",
       "      <td>6368</td>\n",
       "    </tr>\n",
       "    <tr>\n",
       "      <th>299</th>\n",
       "      <td>6441</td>\n",
       "    </tr>\n",
       "    <tr>\n",
       "      <th>300</th>\n",
       "      <td>6446</td>\n",
       "    </tr>\n",
       "  </tbody>\n",
       "</table>\n",
       "<p>301 rows × 1 columns</p>\n",
       "</div>"
      ],
      "text/plain": [
       "        0\n",
       "0      98\n",
       "1     169\n",
       "2     207\n",
       "3     358\n",
       "4     873\n",
       "..    ...\n",
       "296  6314\n",
       "297  6352\n",
       "298  6368\n",
       "299  6441\n",
       "300  6446\n",
       "\n",
       "[301 rows x 1 columns]"
      ]
     },
     "execution_count": 103,
     "metadata": {},
     "output_type": "execute_result"
    }
   ],
   "source": [
    "df=pd.DataFrame(c)\n",
    "df"
   ]
  },
  {
   "cell_type": "code",
   "execution_count": 104,
   "id": "a82dcf3b",
   "metadata": {},
   "outputs": [],
   "source": [
    "data.drop(c,inplace=True)"
   ]
  },
  {
   "cell_type": "code",
   "execution_count": 105,
   "id": "d18e3a36",
   "metadata": {},
   "outputs": [
    {
     "data": {
      "text/plain": [
       "Text(0.5, 1.0, 'Box plot of fixed acidity')"
      ]
     },
     "execution_count": 105,
     "metadata": {},
     "output_type": "execute_result"
    },
    {
     "data": {
      "image/png": "[encoded data removed]",
      "text/plain": [
       "<Figure size 640x480 with 1 Axes>"
      ]
     },
     "metadata": {},
     "output_type": "display_data"
    }
   ],
   "source": [
    "plt.boxplot(data['fixed acidity'])\n",
    "plt.title('Box plot of fixed acidity')"
   ]
  },
  {
   "cell_type": "code",
   "execution_count": 106,
   "id": "009ba1be",
   "metadata": {},
   "outputs": [
    {
     "name": "stdout",
     "output_type": "stream",
     "text": [
      "0.22\n",
      "0.28\n",
      "0.38\n"
     ]
    },
    {
     "name": "stderr",
     "output_type": "stream",
     "text": [
      "C:\\Users\\ATHUL AKSHAY\\AppData\\Local\\Temp\\ipykernel_19848\\76525586.py:1: DeprecationWarning: the `interpolation=` argument to percentile was renamed to `method=`, which has additional options.\n",
      "Users of the modes 'nearest', 'lower', 'higher', or 'midpoint' are encouraged to review the method they used. (Deprecated NumPy 1.22)\n",
      "  q1 = np.percentile(data['volatile acidity'],25,\n",
      "C:\\Users\\ATHUL AKSHAY\\AppData\\Local\\Temp\\ipykernel_19848\\76525586.py:3: DeprecationWarning: the `interpolation=` argument to percentile was renamed to `method=`, which has additional options.\n",
      "Users of the modes 'nearest', 'lower', 'higher', or 'midpoint' are encouraged to review the method they used. (Deprecated NumPy 1.22)\n",
      "  q2 = np.percentile(data['volatile acidity'],50,\n",
      "C:\\Users\\ATHUL AKSHAY\\AppData\\Local\\Temp\\ipykernel_19848\\76525586.py:5: DeprecationWarning: the `interpolation=` argument to percentile was renamed to `method=`, which has additional options.\n",
      "Users of the modes 'nearest', 'lower', 'higher', or 'midpoint' are encouraged to review the method they used. (Deprecated NumPy 1.22)\n",
      "  q3 = np.percentile(data['volatile acidity'],75,\n"
     ]
    }
   ],
   "source": [
    "q1 = np.percentile(data['volatile acidity'],25,\n",
    "                   interpolation='midpoint')\n",
    "q2 = np.percentile(data['volatile acidity'],50,\n",
    "                   interpolation='midpoint')\n",
    "q3 = np.percentile(data['volatile acidity'],75,\n",
    "                   interpolation='midpoint')\n",
    "print(q1)\n",
    "print(q2)\n",
    "print(q3)"
   ]
  },
  {
   "cell_type": "code",
   "execution_count": 107,
   "id": "5222186e",
   "metadata": {},
   "outputs": [
    {
     "data": {
      "text/plain": [
       "0.28"
      ]
     },
     "execution_count": 107,
     "metadata": {},
     "output_type": "execute_result"
    }
   ],
   "source": [
    "data['volatile acidity'].median()"
   ]
  },
  {
   "cell_type": "code",
   "execution_count": 108,
   "id": "2b613f92",
   "metadata": {},
   "outputs": [
    {
     "name": "stdout",
     "output_type": "stream",
     "text": [
      "-0.01999999999999999\n",
      "0.62\n"
     ]
    }
   ],
   "source": [
    "iqr = q3-q1\n",
    "low_limit = q1-1.5*iqr\n",
    "up_limit = q3+1.5*iqr\n",
    "print(low_limit)\n",
    "print(up_limit)"
   ]
  },
  {
   "cell_type": "code",
   "execution_count": 109,
   "id": "840f0adc",
   "metadata": {},
   "outputs": [
    {
     "name": "stdout",
     "output_type": "stream",
     "text": [
      "-0.01999999999999999\n",
      "0.62\n"
     ]
    }
   ],
   "source": [
    "iqr = q3-q1\n",
    "low_limit = q1-1.5*iqr\n",
    "up_limit = q3+1.5*iqr\n",
    "print(low_limit)\n",
    "print(up_limit)"
   ]
  },
  {
   "cell_type": "code",
   "execution_count": 110,
   "id": "3b382553",
   "metadata": {},
   "outputs": [
    {
     "data": {
      "text/plain": [
       "Int64Index([  23,  178,  221,  230,  372,  821,  948, 1040, 1245, 1401,\n",
       "            ...\n",
       "            6460, 6461, 6462, 6463, 6465, 6470, 6475, 6480, 6487, 6495],\n",
       "           dtype='int64', length=352)"
      ]
     },
     "execution_count": 110,
     "metadata": {},
     "output_type": "execute_result"
    }
   ],
   "source": [
    "ind1 = data['volatile acidity']>up_limit\n",
    "data.loc[ind1].index"
   ]
  },
  {
   "cell_type": "code",
   "execution_count": 111,
   "id": "640a7785",
   "metadata": {},
   "outputs": [
    {
     "data": {
      "text/plain": [
       "Int64Index([  23,  178,  221,  230,  372,  821,  948, 1040, 1245, 1401,\n",
       "            ...\n",
       "            6460, 6461, 6462, 6463, 6465, 6470, 6475, 6480, 6487, 6495],\n",
       "           dtype='int64', length=352)"
      ]
     },
     "execution_count": 111,
     "metadata": {},
     "output_type": "execute_result"
    }
   ],
   "source": [
    "d=data.loc[ind1].index\n",
    "d"
   ]
  },
  {
   "cell_type": "code",
   "execution_count": 112,
   "id": "8b47e97e",
   "metadata": {},
   "outputs": [
    {
     "data": {
      "text/html": [
       "<div>\n",
       "<style scoped>\n",
       "    .dataframe tbody tr th:only-of-type {\n",
       "        vertical-align: middle;\n",
       "    }\n",
       "\n",
       "    .dataframe tbody tr th {\n",
       "        vertical-align: top;\n",
       "    }\n",
       "\n",
       "    .dataframe thead th {\n",
       "        text-align: right;\n",
       "    }\n",
       "</style>\n",
       "<table border=\"1\" class=\"dataframe\">\n",
       "  <thead>\n",
       "    <tr style=\"text-align: right;\">\n",
       "      <th></th>\n",
       "      <th>0</th>\n",
       "    </tr>\n",
       "  </thead>\n",
       "  <tbody>\n",
       "    <tr>\n",
       "      <th>0</th>\n",
       "      <td>23</td>\n",
       "    </tr>\n",
       "    <tr>\n",
       "      <th>1</th>\n",
       "      <td>178</td>\n",
       "    </tr>\n",
       "    <tr>\n",
       "      <th>2</th>\n",
       "      <td>221</td>\n",
       "    </tr>\n",
       "    <tr>\n",
       "      <th>3</th>\n",
       "      <td>230</td>\n",
       "    </tr>\n",
       "    <tr>\n",
       "      <th>4</th>\n",
       "      <td>372</td>\n",
       "    </tr>\n",
       "    <tr>\n",
       "      <th>...</th>\n",
       "      <td>...</td>\n",
       "    </tr>\n",
       "    <tr>\n",
       "      <th>347</th>\n",
       "      <td>6470</td>\n",
       "    </tr>\n",
       "    <tr>\n",
       "      <th>348</th>\n",
       "      <td>6475</td>\n",
       "    </tr>\n",
       "    <tr>\n",
       "      <th>349</th>\n",
       "      <td>6480</td>\n",
       "    </tr>\n",
       "    <tr>\n",
       "      <th>350</th>\n",
       "      <td>6487</td>\n",
       "    </tr>\n",
       "    <tr>\n",
       "      <th>351</th>\n",
       "      <td>6495</td>\n",
       "    </tr>\n",
       "  </tbody>\n",
       "</table>\n",
       "<p>352 rows × 1 columns</p>\n",
       "</div>"
      ],
      "text/plain": [
       "        0\n",
       "0      23\n",
       "1     178\n",
       "2     221\n",
       "3     230\n",
       "4     372\n",
       "..    ...\n",
       "347  6470\n",
       "348  6475\n",
       "349  6480\n",
       "350  6487\n",
       "351  6495\n",
       "\n",
       "[352 rows x 1 columns]"
      ]
     },
     "execution_count": 112,
     "metadata": {},
     "output_type": "execute_result"
    }
   ],
   "source": [
    "df=pd.DataFrame(d)\n",
    "df"
   ]
  },
  {
   "cell_type": "code",
   "execution_count": 113,
   "id": "144b68f6",
   "metadata": {},
   "outputs": [],
   "source": [
    "data.drop(d,inplace=True)"
   ]
  },
  {
   "cell_type": "code",
   "execution_count": 114,
   "id": "e1241e0d",
   "metadata": {},
   "outputs": [
    {
     "data": {
      "text/plain": [
       "Text(0.5, 1.0, 'Box plot of volatile acidity')"
      ]
     },
     "execution_count": 114,
     "metadata": {},
     "output_type": "execute_result"
    },
    {
     "data": {
      "image/png": "[encoded data removed]",
      "text/plain": [
       "<Figure size 640x480 with 1 Axes>"
      ]
     },
     "metadata": {},
     "output_type": "display_data"
    }
   ],
   "source": [
    "plt.boxplot(data['volatile acidity'])\n",
    "plt.title('Box plot of volatile acidity')"
   ]
  },
  {
   "cell_type": "code",
   "execution_count": 115,
   "id": "8da6b1ad",
   "metadata": {},
   "outputs": [
    {
     "name": "stdout",
     "output_type": "stream",
     "text": [
      "0.26\n",
      "0.31\n",
      "0.38\n"
     ]
    },
    {
     "name": "stderr",
     "output_type": "stream",
     "text": [
      "C:\\Users\\ATHUL AKSHAY\\AppData\\Local\\Temp\\ipykernel_19848\\2391716559.py:1: DeprecationWarning: the `interpolation=` argument to percentile was renamed to `method=`, which has additional options.\n",
      "Users of the modes 'nearest', 'lower', 'higher', or 'midpoint' are encouraged to review the method they used. (Deprecated NumPy 1.22)\n",
      "  q1 = np.percentile(data['citric acid'],25,\n",
      "C:\\Users\\ATHUL AKSHAY\\AppData\\Local\\Temp\\ipykernel_19848\\2391716559.py:3: DeprecationWarning: the `interpolation=` argument to percentile was renamed to `method=`, which has additional options.\n",
      "Users of the modes 'nearest', 'lower', 'higher', or 'midpoint' are encouraged to review the method they used. (Deprecated NumPy 1.22)\n",
      "  q2 = np.percentile(data['citric acid'],50,\n",
      "C:\\Users\\ATHUL AKSHAY\\AppData\\Local\\Temp\\ipykernel_19848\\2391716559.py:5: DeprecationWarning: the `interpolation=` argument to percentile was renamed to `method=`, which has additional options.\n",
      "Users of the modes 'nearest', 'lower', 'higher', or 'midpoint' are encouraged to review the method they used. (Deprecated NumPy 1.22)\n",
      "  q3 = np.percentile(data['citric acid'],75,\n"
     ]
    }
   ],
   "source": [
    "q1 = np.percentile(data['citric acid'],25,\n",
    "                   interpolation='midpoint')\n",
    "q2 = np.percentile(data['citric acid'],50,\n",
    "                   interpolation='midpoint')\n",
    "q3 = np.percentile(data['citric acid'],75,\n",
    "                   interpolation='midpoint')\n",
    "print(q1)\n",
    "print(q2)\n",
    "print(q3)"
   ]
  },
  {
   "cell_type": "code",
   "execution_count": 116,
   "id": "df89e756",
   "metadata": {},
   "outputs": [
    {
     "data": {
      "text/plain": [
       "0.31"
      ]
     },
     "execution_count": 116,
     "metadata": {},
     "output_type": "execute_result"
    }
   ],
   "source": [
    "data['citric acid'].median()"
   ]
  },
  {
   "cell_type": "code",
   "execution_count": 117,
   "id": "a176570c",
   "metadata": {},
   "outputs": [
    {
     "name": "stdout",
     "output_type": "stream",
     "text": [
      "0.08000000000000002\n",
      "0.56\n"
     ]
    }
   ],
   "source": [
    "iqr = q3-q1\n",
    "low_limit = q1-1.5*iqr\n",
    "up_limit = q3+1.5*iqr\n",
    "print(low_limit)\n",
    "print(up_limit)"
   ]
  },
  {
   "cell_type": "code",
   "execution_count": 118,
   "id": "1e8f0fa1",
   "metadata": {},
   "outputs": [
    {
     "data": {
      "text/plain": [
       "Int64Index([  84,   85,   86,   88,   89,   90,   96,   99,  137,  141,\n",
       "            ...\n",
       "            4973, 4974, 5975, 5976, 6088, 6370, 6406, 6464, 6472, 6474],\n",
       "           dtype='int64', length=165)"
      ]
     },
     "execution_count": 118,
     "metadata": {},
     "output_type": "execute_result"
    }
   ],
   "source": [
    "ind1 = data['citric acid']>up_limit\n",
    "data.loc[ind1].index"
   ]
  },
  {
   "cell_type": "code",
   "execution_count": 119,
   "id": "a3cff6d6",
   "metadata": {},
   "outputs": [
    {
     "data": {
      "text/plain": [
       "Int64Index([  84,   85,   86,   88,   89,   90,   96,   99,  137,  141,\n",
       "            ...\n",
       "            4973, 4974, 5975, 5976, 6088, 6370, 6406, 6464, 6472, 6474],\n",
       "           dtype='int64', length=165)"
      ]
     },
     "execution_count": 119,
     "metadata": {},
     "output_type": "execute_result"
    }
   ],
   "source": [
    "e=data.loc[ind1].index\n",
    "e"
   ]
  },
  {
   "cell_type": "code",
   "execution_count": 120,
   "id": "3cfb56d0",
   "metadata": {},
   "outputs": [
    {
     "data": {
      "text/html": [
       "<div>\n",
       "<style scoped>\n",
       "    .dataframe tbody tr th:only-of-type {\n",
       "        vertical-align: middle;\n",
       "    }\n",
       "\n",
       "    .dataframe tbody tr th {\n",
       "        vertical-align: top;\n",
       "    }\n",
       "\n",
       "    .dataframe thead th {\n",
       "        text-align: right;\n",
       "    }\n",
       "</style>\n",
       "<table border=\"1\" class=\"dataframe\">\n",
       "  <thead>\n",
       "    <tr style=\"text-align: right;\">\n",
       "      <th></th>\n",
       "      <th>0</th>\n",
       "    </tr>\n",
       "  </thead>\n",
       "  <tbody>\n",
       "    <tr>\n",
       "      <th>0</th>\n",
       "      <td>84</td>\n",
       "    </tr>\n",
       "    <tr>\n",
       "      <th>1</th>\n",
       "      <td>85</td>\n",
       "    </tr>\n",
       "    <tr>\n",
       "      <th>2</th>\n",
       "      <td>86</td>\n",
       "    </tr>\n",
       "    <tr>\n",
       "      <th>3</th>\n",
       "      <td>88</td>\n",
       "    </tr>\n",
       "    <tr>\n",
       "      <th>4</th>\n",
       "      <td>89</td>\n",
       "    </tr>\n",
       "    <tr>\n",
       "      <th>...</th>\n",
       "      <td>...</td>\n",
       "    </tr>\n",
       "    <tr>\n",
       "      <th>160</th>\n",
       "      <td>6370</td>\n",
       "    </tr>\n",
       "    <tr>\n",
       "      <th>161</th>\n",
       "      <td>6406</td>\n",
       "    </tr>\n",
       "    <tr>\n",
       "      <th>162</th>\n",
       "      <td>6464</td>\n",
       "    </tr>\n",
       "    <tr>\n",
       "      <th>163</th>\n",
       "      <td>6472</td>\n",
       "    </tr>\n",
       "    <tr>\n",
       "      <th>164</th>\n",
       "      <td>6474</td>\n",
       "    </tr>\n",
       "  </tbody>\n",
       "</table>\n",
       "<p>165 rows × 1 columns</p>\n",
       "</div>"
      ],
      "text/plain": [
       "        0\n",
       "0      84\n",
       "1      85\n",
       "2      86\n",
       "3      88\n",
       "4      89\n",
       "..    ...\n",
       "160  6370\n",
       "161  6406\n",
       "162  6464\n",
       "163  6472\n",
       "164  6474\n",
       "\n",
       "[165 rows x 1 columns]"
      ]
     },
     "execution_count": 120,
     "metadata": {},
     "output_type": "execute_result"
    }
   ],
   "source": [
    "df=pd.DataFrame(e)\n",
    "df"
   ]
  },
  {
   "cell_type": "code",
   "execution_count": 121,
   "id": "33879639",
   "metadata": {},
   "outputs": [],
   "source": [
    "data.drop(e,inplace=True)"
   ]
  },
  {
   "cell_type": "code",
   "execution_count": 122,
   "id": "30f30f03",
   "metadata": {},
   "outputs": [
    {
     "data": {
      "text/plain": [
       "Text(0.5, 1.0, 'Box plot of citric acid')"
      ]
     },
     "execution_count": 122,
     "metadata": {},
     "output_type": "execute_result"
    },
    {
     "data": {
      "image/png": "[encoded data removed]",
      "text/plain": [
       "<Figure size 640x480 with 1 Axes>"
      ]
     },
     "metadata": {},
     "output_type": "display_data"
    }
   ],
   "source": [
    "plt.boxplot(data['citric acid'])\n",
    "plt.title('Box plot of citric acid')"
   ]
  },
  {
   "cell_type": "code",
   "execution_count": 123,
   "id": "2f6b7e2c",
   "metadata": {},
   "outputs": [
    {
     "data": {
      "text/plain": [
       "(4844, 13)"
      ]
     },
     "execution_count": 123,
     "metadata": {},
     "output_type": "execute_result"
    }
   ],
   "source": [
    "data.shape"
   ]
  },
  {
   "cell_type": "code",
   "execution_count": 124,
   "id": "cfb8640a",
   "metadata": {},
   "outputs": [
    {
     "data": {
      "text/plain": [
       "2"
      ]
     },
     "execution_count": 124,
     "metadata": {},
     "output_type": "execute_result"
    }
   ],
   "source": [
    "data.type.nunique()"
   ]
  },
  {
   "cell_type": "code",
   "execution_count": 125,
   "id": "028a949c",
   "metadata": {},
   "outputs": [
    {
     "data": {
      "text/html": [
       "<div>\n",
       "<style scoped>\n",
       "    .dataframe tbody tr th:only-of-type {\n",
       "        vertical-align: middle;\n",
       "    }\n",
       "\n",
       "    .dataframe tbody tr th {\n",
       "        vertical-align: top;\n",
       "    }\n",
       "\n",
       "    .dataframe thead th {\n",
       "        text-align: right;\n",
       "    }\n",
       "</style>\n",
       "<table border=\"1\" class=\"dataframe\">\n",
       "  <thead>\n",
       "    <tr style=\"text-align: right;\">\n",
       "      <th></th>\n",
       "      <th>fixed acidity</th>\n",
       "      <th>volatile acidity</th>\n",
       "      <th>citric acid</th>\n",
       "      <th>residual sugar</th>\n",
       "      <th>chlorides</th>\n",
       "      <th>free sulfur dioxide</th>\n",
       "      <th>total sulfur dioxide</th>\n",
       "      <th>density</th>\n",
       "      <th>pH</th>\n",
       "      <th>sulphates</th>\n",
       "      <th>alcohol</th>\n",
       "      <th>quality</th>\n",
       "      <th>type_red</th>\n",
       "      <th>type_white</th>\n",
       "    </tr>\n",
       "  </thead>\n",
       "  <tbody>\n",
       "    <tr>\n",
       "      <th>1</th>\n",
       "      <td>6.3</td>\n",
       "      <td>0.30</td>\n",
       "      <td>0.34</td>\n",
       "      <td>1.6</td>\n",
       "      <td>0.049</td>\n",
       "      <td>14.0</td>\n",
       "      <td>132.0</td>\n",
       "      <td>0.9940</td>\n",
       "      <td>3.30</td>\n",
       "      <td>0.49</td>\n",
       "      <td>9.5</td>\n",
       "      <td>6</td>\n",
       "      <td>0</td>\n",
       "      <td>1</td>\n",
       "    </tr>\n",
       "    <tr>\n",
       "      <th>2</th>\n",
       "      <td>8.1</td>\n",
       "      <td>0.28</td>\n",
       "      <td>0.40</td>\n",
       "      <td>6.9</td>\n",
       "      <td>0.050</td>\n",
       "      <td>30.0</td>\n",
       "      <td>97.0</td>\n",
       "      <td>0.9951</td>\n",
       "      <td>3.26</td>\n",
       "      <td>0.44</td>\n",
       "      <td>10.1</td>\n",
       "      <td>6</td>\n",
       "      <td>0</td>\n",
       "      <td>1</td>\n",
       "    </tr>\n",
       "    <tr>\n",
       "      <th>3</th>\n",
       "      <td>7.2</td>\n",
       "      <td>0.23</td>\n",
       "      <td>0.32</td>\n",
       "      <td>8.5</td>\n",
       "      <td>0.058</td>\n",
       "      <td>47.0</td>\n",
       "      <td>186.0</td>\n",
       "      <td>0.9956</td>\n",
       "      <td>3.19</td>\n",
       "      <td>0.40</td>\n",
       "      <td>9.9</td>\n",
       "      <td>6</td>\n",
       "      <td>0</td>\n",
       "      <td>1</td>\n",
       "    </tr>\n",
       "    <tr>\n",
       "      <th>4</th>\n",
       "      <td>7.2</td>\n",
       "      <td>0.23</td>\n",
       "      <td>0.32</td>\n",
       "      <td>8.5</td>\n",
       "      <td>0.058</td>\n",
       "      <td>47.0</td>\n",
       "      <td>186.0</td>\n",
       "      <td>0.9956</td>\n",
       "      <td>3.19</td>\n",
       "      <td>0.40</td>\n",
       "      <td>9.9</td>\n",
       "      <td>6</td>\n",
       "      <td>0</td>\n",
       "      <td>1</td>\n",
       "    </tr>\n",
       "    <tr>\n",
       "      <th>5</th>\n",
       "      <td>8.1</td>\n",
       "      <td>0.28</td>\n",
       "      <td>0.40</td>\n",
       "      <td>6.9</td>\n",
       "      <td>0.050</td>\n",
       "      <td>30.0</td>\n",
       "      <td>97.0</td>\n",
       "      <td>0.9951</td>\n",
       "      <td>3.26</td>\n",
       "      <td>0.44</td>\n",
       "      <td>10.1</td>\n",
       "      <td>6</td>\n",
       "      <td>0</td>\n",
       "      <td>1</td>\n",
       "    </tr>\n",
       "  </tbody>\n",
       "</table>\n",
       "</div>"
      ],
      "text/plain": [
       "   fixed acidity  volatile acidity  citric acid  residual sugar  chlorides  \\\n",
       "1            6.3              0.30         0.34             1.6      0.049   \n",
       "2            8.1              0.28         0.40             6.9      0.050   \n",
       "3            7.2              0.23         0.32             8.5      0.058   \n",
       "4            7.2              0.23         0.32             8.5      0.058   \n",
       "5            8.1              0.28         0.40             6.9      0.050   \n",
       "\n",
       "   free sulfur dioxide  total sulfur dioxide  density    pH  sulphates  \\\n",
       "1                 14.0                 132.0   0.9940  3.30       0.49   \n",
       "2                 30.0                  97.0   0.9951  3.26       0.44   \n",
       "3                 47.0                 186.0   0.9956  3.19       0.40   \n",
       "4                 47.0                 186.0   0.9956  3.19       0.40   \n",
       "5                 30.0                  97.0   0.9951  3.26       0.44   \n",
       "\n",
       "   alcohol  quality  type_red  type_white  \n",
       "1      9.5        6         0           1  \n",
       "2     10.1        6         0           1  \n",
       "3      9.9        6         0           1  \n",
       "4      9.9        6         0           1  \n",
       "5     10.1        6         0           1  "
      ]
     },
     "execution_count": 125,
     "metadata": {},
     "output_type": "execute_result"
    }
   ],
   "source": [
    "data=pd.get_dummies(data)\n",
    "data.head()"
   ]
  },
  {
   "cell_type": "code",
   "execution_count": 126,
   "id": "93f9fb0a",
   "metadata": {},
   "outputs": [],
   "source": [
    "data.columns\n",
    "y=data['quality']\n",
    "x=data.drop('quality', axis=1)"
   ]
  },
  {
   "cell_type": "code",
   "execution_count": 127,
   "id": "03878a90",
   "metadata": {},
   "outputs": [],
   "source": [
    "from sklearn.model_selection import train_test_split\n",
    "x_train,x_test,y_train,y_test = train_test_split(x,y, random_state=42,\n",
    "                                                 test_size=0.2)"
   ]
  },
  {
   "cell_type": "code",
   "execution_count": 128,
   "id": "c3680c84",
   "metadata": {},
   "outputs": [],
   "source": [
    "from sklearn import linear_model\n",
    "lr=linear_model.LinearRegression()\n",
    "model = lr.fit(x_train,y_train)\n",
    "prediction = model.predict(x_test)"
   ]
  },
  {
   "cell_type": "code",
   "execution_count": 129,
   "id": "986bd1cd",
   "metadata": {},
   "outputs": [
    {
     "name": "stdout",
     "output_type": "stream",
     "text": [
      "MSE IS: 0.46397466529337755\n"
     ]
    }
   ],
   "source": [
    "from sklearn.metrics import mean_squared_error\n",
    "print('MSE IS:', mean_squared_error(y_test,prediction))"
   ]
  },
  {
   "cell_type": "code",
   "execution_count": 130,
   "id": "712e6201",
   "metadata": {},
   "outputs": [
    {
     "name": "stdout",
     "output_type": "stream",
     "text": [
      "R squared value is : 0.25001787665990405\n"
     ]
    }
   ],
   "source": [
    "from sklearn.metrics import r2_score\n",
    "print('R squared value is :', r2_score(y_test,prediction))"
   ]
  },
  {
   "cell_type": "code",
   "execution_count": 131,
   "id": "aa3a4868",
   "metadata": {},
   "outputs": [
    {
     "data": {
      "text/html": [
       "<div>\n",
       "<style scoped>\n",
       "    .dataframe tbody tr th:only-of-type {\n",
       "        vertical-align: middle;\n",
       "    }\n",
       "\n",
       "    .dataframe tbody tr th {\n",
       "        vertical-align: top;\n",
       "    }\n",
       "\n",
       "    .dataframe thead th {\n",
       "        text-align: right;\n",
       "    }\n",
       "</style>\n",
       "<table border=\"1\" class=\"dataframe\">\n",
       "  <thead>\n",
       "    <tr style=\"text-align: right;\">\n",
       "      <th></th>\n",
       "      <th>fixed acidity</th>\n",
       "      <th>volatile acidity</th>\n",
       "      <th>citric acid</th>\n",
       "      <th>residual sugar</th>\n",
       "      <th>chlorides</th>\n",
       "      <th>free sulfur dioxide</th>\n",
       "      <th>total sulfur dioxide</th>\n",
       "      <th>density</th>\n",
       "      <th>pH</th>\n",
       "      <th>sulphates</th>\n",
       "      <th>alcohol</th>\n",
       "      <th>type_red</th>\n",
       "      <th>type_white</th>\n",
       "    </tr>\n",
       "  </thead>\n",
       "  <tbody>\n",
       "    <tr>\n",
       "      <th>count</th>\n",
       "      <td>4844.000000</td>\n",
       "      <td>4844.000000</td>\n",
       "      <td>4844.000000</td>\n",
       "      <td>4844.000000</td>\n",
       "      <td>4844.000000</td>\n",
       "      <td>4844.000000</td>\n",
       "      <td>4844.000000</td>\n",
       "      <td>4844.000000</td>\n",
       "      <td>4844.000000</td>\n",
       "      <td>4844.000000</td>\n",
       "      <td>4844.000000</td>\n",
       "      <td>4844.000000</td>\n",
       "      <td>4844.000000</td>\n",
       "    </tr>\n",
       "    <tr>\n",
       "      <th>mean</th>\n",
       "      <td>6.937521</td>\n",
       "      <td>0.298417</td>\n",
       "      <td>0.308152</td>\n",
       "      <td>5.624102</td>\n",
       "      <td>0.047503</td>\n",
       "      <td>32.015793</td>\n",
       "      <td>124.813377</td>\n",
       "      <td>0.994175</td>\n",
       "      <td>3.212314</td>\n",
       "      <td>0.503988</td>\n",
       "      <td>10.524731</td>\n",
       "      <td>0.138522</td>\n",
       "      <td>0.861478</td>\n",
       "    </tr>\n",
       "    <tr>\n",
       "      <th>std</th>\n",
       "      <td>0.842868</td>\n",
       "      <td>0.113506</td>\n",
       "      <td>0.105570</td>\n",
       "      <td>4.592004</td>\n",
       "      <td>0.015952</td>\n",
       "      <td>15.733721</td>\n",
       "      <td>50.379600</td>\n",
       "      <td>0.002754</td>\n",
       "      <td>0.148895</td>\n",
       "      <td>0.114822</td>\n",
       "      <td>1.167148</td>\n",
       "      <td>0.345483</td>\n",
       "      <td>0.345483</td>\n",
       "    </tr>\n",
       "    <tr>\n",
       "      <th>min</th>\n",
       "      <td>4.200000</td>\n",
       "      <td>0.080000</td>\n",
       "      <td>0.000000</td>\n",
       "      <td>0.600000</td>\n",
       "      <td>0.009000</td>\n",
       "      <td>2.000000</td>\n",
       "      <td>6.000000</td>\n",
       "      <td>0.987400</td>\n",
       "      <td>2.790000</td>\n",
       "      <td>0.220000</td>\n",
       "      <td>8.000000</td>\n",
       "      <td>0.000000</td>\n",
       "      <td>0.000000</td>\n",
       "    </tr>\n",
       "    <tr>\n",
       "      <th>25%</th>\n",
       "      <td>6.400000</td>\n",
       "      <td>0.220000</td>\n",
       "      <td>0.260000</td>\n",
       "      <td>1.800000</td>\n",
       "      <td>0.036000</td>\n",
       "      <td>20.000000</td>\n",
       "      <td>94.000000</td>\n",
       "      <td>0.991927</td>\n",
       "      <td>3.110000</td>\n",
       "      <td>0.420000</td>\n",
       "      <td>9.500000</td>\n",
       "      <td>0.000000</td>\n",
       "      <td>1.000000</td>\n",
       "    </tr>\n",
       "    <tr>\n",
       "      <th>50%</th>\n",
       "      <td>6.900000</td>\n",
       "      <td>0.280000</td>\n",
       "      <td>0.310000</td>\n",
       "      <td>3.900000</td>\n",
       "      <td>0.045000</td>\n",
       "      <td>31.000000</td>\n",
       "      <td>125.000000</td>\n",
       "      <td>0.994200</td>\n",
       "      <td>3.200000</td>\n",
       "      <td>0.490000</td>\n",
       "      <td>10.400000</td>\n",
       "      <td>0.000000</td>\n",
       "      <td>1.000000</td>\n",
       "    </tr>\n",
       "    <tr>\n",
       "      <th>75%</th>\n",
       "      <td>7.400000</td>\n",
       "      <td>0.350000</td>\n",
       "      <td>0.370000</td>\n",
       "      <td>8.500000</td>\n",
       "      <td>0.054000</td>\n",
       "      <td>43.000000</td>\n",
       "      <td>160.000000</td>\n",
       "      <td>0.996290</td>\n",
       "      <td>3.310000</td>\n",
       "      <td>0.570000</td>\n",
       "      <td>11.300000</td>\n",
       "      <td>0.000000</td>\n",
       "      <td>1.000000</td>\n",
       "    </tr>\n",
       "    <tr>\n",
       "      <th>max</th>\n",
       "      <td>9.300000</td>\n",
       "      <td>0.620000</td>\n",
       "      <td>0.560000</td>\n",
       "      <td>18.050000</td>\n",
       "      <td>0.103000</td>\n",
       "      <td>79.500000</td>\n",
       "      <td>272.000000</td>\n",
       "      <td>1.001820</td>\n",
       "      <td>3.630000</td>\n",
       "      <td>0.850000</td>\n",
       "      <td>13.700000</td>\n",
       "      <td>1.000000</td>\n",
       "      <td>1.000000</td>\n",
       "    </tr>\n",
       "  </tbody>\n",
       "</table>\n",
       "</div>"
      ],
      "text/plain": [
       "       fixed acidity  volatile acidity  citric acid  residual sugar  \\\n",
       "count    4844.000000       4844.000000  4844.000000     4844.000000   \n",
       "mean        6.937521          0.298417     0.308152        5.624102   \n",
       "std         0.842868          0.113506     0.105570        4.592004   \n",
       "min         4.200000          0.080000     0.000000        0.600000   \n",
       "25%         6.400000          0.220000     0.260000        1.800000   \n",
       "50%         6.900000          0.280000     0.310000        3.900000   \n",
       "75%         7.400000          0.350000     0.370000        8.500000   \n",
       "max         9.300000          0.620000     0.560000       18.050000   \n",
       "\n",
       "         chlorides  free sulfur dioxide  total sulfur dioxide      density  \\\n",
       "count  4844.000000          4844.000000           4844.000000  4844.000000   \n",
       "mean      0.047503            32.015793            124.813377     0.994175   \n",
       "std       0.015952            15.733721             50.379600     0.002754   \n",
       "min       0.009000             2.000000              6.000000     0.987400   \n",
       "25%       0.036000            20.000000             94.000000     0.991927   \n",
       "50%       0.045000            31.000000            125.000000     0.994200   \n",
       "75%       0.054000            43.000000            160.000000     0.996290   \n",
       "max       0.103000            79.500000            272.000000     1.001820   \n",
       "\n",
       "                pH    sulphates      alcohol     type_red   type_white  \n",
       "count  4844.000000  4844.000000  4844.000000  4844.000000  4844.000000  \n",
       "mean      3.212314     0.503988    10.524731     0.138522     0.861478  \n",
       "std       0.148895     0.114822     1.167148     0.345483     0.345483  \n",
       "min       2.790000     0.220000     8.000000     0.000000     0.000000  \n",
       "25%       3.110000     0.420000     9.500000     0.000000     1.000000  \n",
       "50%       3.200000     0.490000    10.400000     0.000000     1.000000  \n",
       "75%       3.310000     0.570000    11.300000     0.000000     1.000000  \n",
       "max       3.630000     0.850000    13.700000     1.000000     1.000000  "
      ]
     },
     "execution_count": 131,
     "metadata": {},
     "output_type": "execute_result"
    }
   ],
   "source": [
    "x.describe()"
   ]
  },
  {
   "cell_type": "code",
   "execution_count": 132,
   "id": "cfff192c",
   "metadata": {},
   "outputs": [
    {
     "data": {
      "text/plain": [
       "pandas.core.frame.DataFrame"
      ]
     },
     "execution_count": 132,
     "metadata": {},
     "output_type": "execute_result"
    }
   ],
   "source": [
    "type(x)"
   ]
  },
  {
   "cell_type": "code",
   "execution_count": 133,
   "id": "32b77f19",
   "metadata": {},
   "outputs": [
    {
     "data": {
      "text/html": [
       "<div>\n",
       "<style scoped>\n",
       "    .dataframe tbody tr th:only-of-type {\n",
       "        vertical-align: middle;\n",
       "    }\n",
       "\n",
       "    .dataframe tbody tr th {\n",
       "        vertical-align: top;\n",
       "    }\n",
       "\n",
       "    .dataframe thead th {\n",
       "        text-align: right;\n",
       "    }\n",
       "</style>\n",
       "<table border=\"1\" class=\"dataframe\">\n",
       "  <thead>\n",
       "    <tr style=\"text-align: right;\">\n",
       "      <th></th>\n",
       "      <th>fixed acidity</th>\n",
       "      <th>volatile acidity</th>\n",
       "      <th>citric acid</th>\n",
       "      <th>residual sugar</th>\n",
       "      <th>chlorides</th>\n",
       "      <th>free sulfur dioxide</th>\n",
       "      <th>total sulfur dioxide</th>\n",
       "      <th>density</th>\n",
       "      <th>pH</th>\n",
       "      <th>sulphates</th>\n",
       "      <th>alcohol</th>\n",
       "      <th>type_red</th>\n",
       "      <th>type_white</th>\n",
       "    </tr>\n",
       "  </thead>\n",
       "  <tbody>\n",
       "    <tr>\n",
       "      <th>count</th>\n",
       "      <td>4844.000000</td>\n",
       "      <td>4844.000000</td>\n",
       "      <td>4844.000000</td>\n",
       "      <td>4844.000000</td>\n",
       "      <td>4844.000000</td>\n",
       "      <td>4844.000000</td>\n",
       "      <td>4844.000000</td>\n",
       "      <td>4844.000000</td>\n",
       "      <td>4844.000000</td>\n",
       "      <td>4844.000000</td>\n",
       "      <td>4844.000000</td>\n",
       "      <td>4844.000000</td>\n",
       "      <td>4844.000000</td>\n",
       "    </tr>\n",
       "    <tr>\n",
       "      <th>mean</th>\n",
       "      <td>6.937521</td>\n",
       "      <td>0.298417</td>\n",
       "      <td>0.308152</td>\n",
       "      <td>5.624102</td>\n",
       "      <td>0.047503</td>\n",
       "      <td>32.015793</td>\n",
       "      <td>124.813377</td>\n",
       "      <td>0.994175</td>\n",
       "      <td>3.212314</td>\n",
       "      <td>0.503988</td>\n",
       "      <td>10.524731</td>\n",
       "      <td>0.138522</td>\n",
       "      <td>0.861478</td>\n",
       "    </tr>\n",
       "    <tr>\n",
       "      <th>std</th>\n",
       "      <td>0.842868</td>\n",
       "      <td>0.113506</td>\n",
       "      <td>0.105570</td>\n",
       "      <td>4.592004</td>\n",
       "      <td>0.015952</td>\n",
       "      <td>15.733721</td>\n",
       "      <td>50.379600</td>\n",
       "      <td>0.002754</td>\n",
       "      <td>0.148895</td>\n",
       "      <td>0.114822</td>\n",
       "      <td>1.167148</td>\n",
       "      <td>0.345483</td>\n",
       "      <td>0.345483</td>\n",
       "    </tr>\n",
       "    <tr>\n",
       "      <th>min</th>\n",
       "      <td>4.200000</td>\n",
       "      <td>0.080000</td>\n",
       "      <td>0.000000</td>\n",
       "      <td>0.600000</td>\n",
       "      <td>0.009000</td>\n",
       "      <td>2.000000</td>\n",
       "      <td>6.000000</td>\n",
       "      <td>0.987400</td>\n",
       "      <td>2.790000</td>\n",
       "      <td>0.220000</td>\n",
       "      <td>8.000000</td>\n",
       "      <td>0.000000</td>\n",
       "      <td>0.000000</td>\n",
       "    </tr>\n",
       "    <tr>\n",
       "      <th>25%</th>\n",
       "      <td>6.400000</td>\n",
       "      <td>0.220000</td>\n",
       "      <td>0.260000</td>\n",
       "      <td>1.800000</td>\n",
       "      <td>0.036000</td>\n",
       "      <td>20.000000</td>\n",
       "      <td>94.000000</td>\n",
       "      <td>0.991927</td>\n",
       "      <td>3.110000</td>\n",
       "      <td>0.420000</td>\n",
       "      <td>9.500000</td>\n",
       "      <td>0.000000</td>\n",
       "      <td>1.000000</td>\n",
       "    </tr>\n",
       "    <tr>\n",
       "      <th>50%</th>\n",
       "      <td>6.900000</td>\n",
       "      <td>0.280000</td>\n",
       "      <td>0.310000</td>\n",
       "      <td>3.900000</td>\n",
       "      <td>0.045000</td>\n",
       "      <td>31.000000</td>\n",
       "      <td>125.000000</td>\n",
       "      <td>0.994200</td>\n",
       "      <td>3.200000</td>\n",
       "      <td>0.490000</td>\n",
       "      <td>10.400000</td>\n",
       "      <td>0.000000</td>\n",
       "      <td>1.000000</td>\n",
       "    </tr>\n",
       "    <tr>\n",
       "      <th>75%</th>\n",
       "      <td>7.400000</td>\n",
       "      <td>0.350000</td>\n",
       "      <td>0.370000</td>\n",
       "      <td>8.500000</td>\n",
       "      <td>0.054000</td>\n",
       "      <td>43.000000</td>\n",
       "      <td>160.000000</td>\n",
       "      <td>0.996290</td>\n",
       "      <td>3.310000</td>\n",
       "      <td>0.570000</td>\n",
       "      <td>11.300000</td>\n",
       "      <td>0.000000</td>\n",
       "      <td>1.000000</td>\n",
       "    </tr>\n",
       "    <tr>\n",
       "      <th>max</th>\n",
       "      <td>9.300000</td>\n",
       "      <td>0.620000</td>\n",
       "      <td>0.560000</td>\n",
       "      <td>18.050000</td>\n",
       "      <td>0.103000</td>\n",
       "      <td>79.500000</td>\n",
       "      <td>272.000000</td>\n",
       "      <td>1.001820</td>\n",
       "      <td>3.630000</td>\n",
       "      <td>0.850000</td>\n",
       "      <td>13.700000</td>\n",
       "      <td>1.000000</td>\n",
       "      <td>1.000000</td>\n",
       "    </tr>\n",
       "  </tbody>\n",
       "</table>\n",
       "</div>"
      ],
      "text/plain": [
       "       fixed acidity  volatile acidity  citric acid  residual sugar  \\\n",
       "count    4844.000000       4844.000000  4844.000000     4844.000000   \n",
       "mean        6.937521          0.298417     0.308152        5.624102   \n",
       "std         0.842868          0.113506     0.105570        4.592004   \n",
       "min         4.200000          0.080000     0.000000        0.600000   \n",
       "25%         6.400000          0.220000     0.260000        1.800000   \n",
       "50%         6.900000          0.280000     0.310000        3.900000   \n",
       "75%         7.400000          0.350000     0.370000        8.500000   \n",
       "max         9.300000          0.620000     0.560000       18.050000   \n",
       "\n",
       "         chlorides  free sulfur dioxide  total sulfur dioxide      density  \\\n",
       "count  4844.000000          4844.000000           4844.000000  4844.000000   \n",
       "mean      0.047503            32.015793            124.813377     0.994175   \n",
       "std       0.015952            15.733721             50.379600     0.002754   \n",
       "min       0.009000             2.000000              6.000000     0.987400   \n",
       "25%       0.036000            20.000000             94.000000     0.991927   \n",
       "50%       0.045000            31.000000            125.000000     0.994200   \n",
       "75%       0.054000            43.000000            160.000000     0.996290   \n",
       "max       0.103000            79.500000            272.000000     1.001820   \n",
       "\n",
       "                pH    sulphates      alcohol     type_red   type_white  \n",
       "count  4844.000000  4844.000000  4844.000000  4844.000000  4844.000000  \n",
       "mean      3.212314     0.503988    10.524731     0.138522     0.861478  \n",
       "std       0.148895     0.114822     1.167148     0.345483     0.345483  \n",
       "min       2.790000     0.220000     8.000000     0.000000     0.000000  \n",
       "25%       3.110000     0.420000     9.500000     0.000000     1.000000  \n",
       "50%       3.200000     0.490000    10.400000     0.000000     1.000000  \n",
       "75%       3.310000     0.570000    11.300000     0.000000     1.000000  \n",
       "max       3.630000     0.850000    13.700000     1.000000     1.000000  "
      ]
     },
     "execution_count": 133,
     "metadata": {},
     "output_type": "execute_result"
    }
   ],
   "source": [
    "x.describe()"
   ]
  },
  {
   "cell_type": "code",
   "execution_count": 134,
   "id": "02b39f44",
   "metadata": {
    "scrolled": true
   },
   "outputs": [
    {
     "data": {
      "text/html": [
       "<div>\n",
       "<style scoped>\n",
       "    .dataframe tbody tr th:only-of-type {\n",
       "        vertical-align: middle;\n",
       "    }\n",
       "\n",
       "    .dataframe tbody tr th {\n",
       "        vertical-align: top;\n",
       "    }\n",
       "\n",
       "    .dataframe thead th {\n",
       "        text-align: right;\n",
       "    }\n",
       "</style>\n",
       "<table border=\"1\" class=\"dataframe\">\n",
       "  <thead>\n",
       "    <tr style=\"text-align: right;\">\n",
       "      <th></th>\n",
       "      <th>fixed acidity</th>\n",
       "      <th>volatile acidity</th>\n",
       "      <th>citric acid</th>\n",
       "      <th>residual sugar</th>\n",
       "      <th>chlorides</th>\n",
       "      <th>free sulfur dioxide</th>\n",
       "      <th>total sulfur dioxide</th>\n",
       "      <th>density</th>\n",
       "      <th>pH</th>\n",
       "      <th>sulphates</th>\n",
       "      <th>alcohol</th>\n",
       "      <th>type_red</th>\n",
       "      <th>type_white</th>\n",
       "    </tr>\n",
       "  </thead>\n",
       "  <tbody>\n",
       "    <tr>\n",
       "      <th>count</th>\n",
       "      <td>4844.000000</td>\n",
       "      <td>4844.000000</td>\n",
       "      <td>4844.000000</td>\n",
       "      <td>4844.000000</td>\n",
       "      <td>4844.000000</td>\n",
       "      <td>4844.000000</td>\n",
       "      <td>4844.000000</td>\n",
       "      <td>4844.000000</td>\n",
       "      <td>4844.000000</td>\n",
       "      <td>4844.000000</td>\n",
       "      <td>4844.000000</td>\n",
       "      <td>4844.000000</td>\n",
       "      <td>4844.000000</td>\n",
       "    </tr>\n",
       "    <tr>\n",
       "      <th>mean</th>\n",
       "      <td>6.937521</td>\n",
       "      <td>0.298417</td>\n",
       "      <td>0.308152</td>\n",
       "      <td>5.624102</td>\n",
       "      <td>0.047503</td>\n",
       "      <td>32.015793</td>\n",
       "      <td>124.813377</td>\n",
       "      <td>0.994175</td>\n",
       "      <td>3.212314</td>\n",
       "      <td>0.503988</td>\n",
       "      <td>10.524731</td>\n",
       "      <td>0.138522</td>\n",
       "      <td>0.861478</td>\n",
       "    </tr>\n",
       "    <tr>\n",
       "      <th>std</th>\n",
       "      <td>0.842868</td>\n",
       "      <td>0.113506</td>\n",
       "      <td>0.105570</td>\n",
       "      <td>4.592004</td>\n",
       "      <td>0.015952</td>\n",
       "      <td>15.733721</td>\n",
       "      <td>50.379600</td>\n",
       "      <td>0.002754</td>\n",
       "      <td>0.148895</td>\n",
       "      <td>0.114822</td>\n",
       "      <td>1.167148</td>\n",
       "      <td>0.345483</td>\n",
       "      <td>0.345483</td>\n",
       "    </tr>\n",
       "    <tr>\n",
       "      <th>min</th>\n",
       "      <td>4.200000</td>\n",
       "      <td>0.080000</td>\n",
       "      <td>0.000000</td>\n",
       "      <td>0.600000</td>\n",
       "      <td>0.009000</td>\n",
       "      <td>2.000000</td>\n",
       "      <td>6.000000</td>\n",
       "      <td>0.987400</td>\n",
       "      <td>2.790000</td>\n",
       "      <td>0.220000</td>\n",
       "      <td>8.000000</td>\n",
       "      <td>0.000000</td>\n",
       "      <td>0.000000</td>\n",
       "    </tr>\n",
       "    <tr>\n",
       "      <th>25%</th>\n",
       "      <td>6.400000</td>\n",
       "      <td>0.220000</td>\n",
       "      <td>0.260000</td>\n",
       "      <td>1.800000</td>\n",
       "      <td>0.036000</td>\n",
       "      <td>20.000000</td>\n",
       "      <td>94.000000</td>\n",
       "      <td>0.991927</td>\n",
       "      <td>3.110000</td>\n",
       "      <td>0.420000</td>\n",
       "      <td>9.500000</td>\n",
       "      <td>0.000000</td>\n",
       "      <td>1.000000</td>\n",
       "    </tr>\n",
       "    <tr>\n",
       "      <th>50%</th>\n",
       "      <td>6.900000</td>\n",
       "      <td>0.280000</td>\n",
       "      <td>0.310000</td>\n",
       "      <td>3.900000</td>\n",
       "      <td>0.045000</td>\n",
       "      <td>31.000000</td>\n",
       "      <td>125.000000</td>\n",
       "      <td>0.994200</td>\n",
       "      <td>3.200000</td>\n",
       "      <td>0.490000</td>\n",
       "      <td>10.400000</td>\n",
       "      <td>0.000000</td>\n",
       "      <td>1.000000</td>\n",
       "    </tr>\n",
       "    <tr>\n",
       "      <th>75%</th>\n",
       "      <td>7.400000</td>\n",
       "      <td>0.350000</td>\n",
       "      <td>0.370000</td>\n",
       "      <td>8.500000</td>\n",
       "      <td>0.054000</td>\n",
       "      <td>43.000000</td>\n",
       "      <td>160.000000</td>\n",
       "      <td>0.996290</td>\n",
       "      <td>3.310000</td>\n",
       "      <td>0.570000</td>\n",
       "      <td>11.300000</td>\n",
       "      <td>0.000000</td>\n",
       "      <td>1.000000</td>\n",
       "    </tr>\n",
       "    <tr>\n",
       "      <th>max</th>\n",
       "      <td>9.300000</td>\n",
       "      <td>0.620000</td>\n",
       "      <td>0.560000</td>\n",
       "      <td>18.050000</td>\n",
       "      <td>0.103000</td>\n",
       "      <td>79.500000</td>\n",
       "      <td>272.000000</td>\n",
       "      <td>1.001820</td>\n",
       "      <td>3.630000</td>\n",
       "      <td>0.850000</td>\n",
       "      <td>13.700000</td>\n",
       "      <td>1.000000</td>\n",
       "      <td>1.000000</td>\n",
       "    </tr>\n",
       "  </tbody>\n",
       "</table>\n",
       "</div>"
      ],
      "text/plain": [
       "       fixed acidity  volatile acidity  citric acid  residual sugar  \\\n",
       "count    4844.000000       4844.000000  4844.000000     4844.000000   \n",
       "mean        6.937521          0.298417     0.308152        5.624102   \n",
       "std         0.842868          0.113506     0.105570        4.592004   \n",
       "min         4.200000          0.080000     0.000000        0.600000   \n",
       "25%         6.400000          0.220000     0.260000        1.800000   \n",
       "50%         6.900000          0.280000     0.310000        3.900000   \n",
       "75%         7.400000          0.350000     0.370000        8.500000   \n",
       "max         9.300000          0.620000     0.560000       18.050000   \n",
       "\n",
       "         chlorides  free sulfur dioxide  total sulfur dioxide      density  \\\n",
       "count  4844.000000          4844.000000           4844.000000  4844.000000   \n",
       "mean      0.047503            32.015793            124.813377     0.994175   \n",
       "std       0.015952            15.733721             50.379600     0.002754   \n",
       "min       0.009000             2.000000              6.000000     0.987400   \n",
       "25%       0.036000            20.000000             94.000000     0.991927   \n",
       "50%       0.045000            31.000000            125.000000     0.994200   \n",
       "75%       0.054000            43.000000            160.000000     0.996290   \n",
       "max       0.103000            79.500000            272.000000     1.001820   \n",
       "\n",
       "                pH    sulphates      alcohol     type_red   type_white  \n",
       "count  4844.000000  4844.000000  4844.000000  4844.000000  4844.000000  \n",
       "mean      3.212314     0.503988    10.524731     0.138522     0.861478  \n",
       "std       0.148895     0.114822     1.167148     0.345483     0.345483  \n",
       "min       2.790000     0.220000     8.000000     0.000000     0.000000  \n",
       "25%       3.110000     0.420000     9.500000     0.000000     1.000000  \n",
       "50%       3.200000     0.490000    10.400000     0.000000     1.000000  \n",
       "75%       3.310000     0.570000    11.300000     0.000000     1.000000  \n",
       "max       3.630000     0.850000    13.700000     1.000000     1.000000  "
      ]
     },
     "execution_count": 134,
     "metadata": {},
     "output_type": "execute_result"
    }
   ],
   "source": [
    "x=pd.DataFrame(x)\n",
    "x.describe()"
   ]
  },
  {
   "cell_type": "code",
   "execution_count": 135,
   "id": "cd1889d8",
   "metadata": {},
   "outputs": [
    {
     "name": "stdout",
     "output_type": "stream",
     "text": [
      "MSE Is: 0.46397466529337755\n",
      " R squared value is : 0.25001787665990405\n"
     ]
    }
   ],
   "source": [
    "x_train,x_test,y_train,y_test=train_test_split(x,y,random_state=42,test_size=0.2)\n",
    "lr=linear_model.LinearRegression()\n",
    "model=lr.fit(x_train,y_train)\n",
    "prediction=model.predict(x_test)\n",
    "print('MSE Is:',mean_squared_error(y_test,prediction))\n",
    "print(' R squared value is :',r2_score(y_test,prediction))"
   ]
  },
  {
   "cell_type": "code",
   "execution_count": 136,
   "id": "2cbcb4f9",
   "metadata": {},
   "outputs": [
    {
     "data": {
      "text/html": [
       "<div>\n",
       "<style scoped>\n",
       "    .dataframe tbody tr th:only-of-type {\n",
       "        vertical-align: middle;\n",
       "    }\n",
       "\n",
       "    .dataframe tbody tr th {\n",
       "        vertical-align: top;\n",
       "    }\n",
       "\n",
       "    .dataframe thead th {\n",
       "        text-align: right;\n",
       "    }\n",
       "</style>\n",
       "<table border=\"1\" class=\"dataframe\">\n",
       "  <thead>\n",
       "    <tr style=\"text-align: right;\">\n",
       "      <th></th>\n",
       "      <th>fixed acidity</th>\n",
       "      <th>volatile acidity</th>\n",
       "      <th>citric acid</th>\n",
       "      <th>residual sugar</th>\n",
       "      <th>chlorides</th>\n",
       "      <th>free sulfur dioxide</th>\n",
       "      <th>total sulfur dioxide</th>\n",
       "      <th>density</th>\n",
       "      <th>pH</th>\n",
       "      <th>sulphates</th>\n",
       "      <th>alcohol</th>\n",
       "      <th>type_red</th>\n",
       "      <th>type_white</th>\n",
       "    </tr>\n",
       "  </thead>\n",
       "  <tbody>\n",
       "    <tr>\n",
       "      <th>count</th>\n",
       "      <td>4844.000000</td>\n",
       "      <td>4844.000000</td>\n",
       "      <td>4844.000000</td>\n",
       "      <td>4844.000000</td>\n",
       "      <td>4844.000000</td>\n",
       "      <td>4844.000000</td>\n",
       "      <td>4844.000000</td>\n",
       "      <td>4844.000000</td>\n",
       "      <td>4844.000000</td>\n",
       "      <td>4844.000000</td>\n",
       "      <td>4844.000000</td>\n",
       "      <td>4844.000000</td>\n",
       "      <td>4844.000000</td>\n",
       "    </tr>\n",
       "    <tr>\n",
       "      <th>mean</th>\n",
       "      <td>6.937521</td>\n",
       "      <td>0.298417</td>\n",
       "      <td>0.308152</td>\n",
       "      <td>5.624102</td>\n",
       "      <td>0.047503</td>\n",
       "      <td>32.015793</td>\n",
       "      <td>124.813377</td>\n",
       "      <td>0.994175</td>\n",
       "      <td>3.212314</td>\n",
       "      <td>0.503988</td>\n",
       "      <td>10.524731</td>\n",
       "      <td>0.138522</td>\n",
       "      <td>0.861478</td>\n",
       "    </tr>\n",
       "    <tr>\n",
       "      <th>std</th>\n",
       "      <td>0.842868</td>\n",
       "      <td>0.113506</td>\n",
       "      <td>0.105570</td>\n",
       "      <td>4.592004</td>\n",
       "      <td>0.015952</td>\n",
       "      <td>15.733721</td>\n",
       "      <td>50.379600</td>\n",
       "      <td>0.002754</td>\n",
       "      <td>0.148895</td>\n",
       "      <td>0.114822</td>\n",
       "      <td>1.167148</td>\n",
       "      <td>0.345483</td>\n",
       "      <td>0.345483</td>\n",
       "    </tr>\n",
       "    <tr>\n",
       "      <th>min</th>\n",
       "      <td>4.200000</td>\n",
       "      <td>0.080000</td>\n",
       "      <td>0.000000</td>\n",
       "      <td>0.600000</td>\n",
       "      <td>0.009000</td>\n",
       "      <td>2.000000</td>\n",
       "      <td>6.000000</td>\n",
       "      <td>0.987400</td>\n",
       "      <td>2.790000</td>\n",
       "      <td>0.220000</td>\n",
       "      <td>8.000000</td>\n",
       "      <td>0.000000</td>\n",
       "      <td>0.000000</td>\n",
       "    </tr>\n",
       "    <tr>\n",
       "      <th>25%</th>\n",
       "      <td>6.400000</td>\n",
       "      <td>0.220000</td>\n",
       "      <td>0.260000</td>\n",
       "      <td>1.800000</td>\n",
       "      <td>0.036000</td>\n",
       "      <td>20.000000</td>\n",
       "      <td>94.000000</td>\n",
       "      <td>0.991927</td>\n",
       "      <td>3.110000</td>\n",
       "      <td>0.420000</td>\n",
       "      <td>9.500000</td>\n",
       "      <td>0.000000</td>\n",
       "      <td>1.000000</td>\n",
       "    </tr>\n",
       "    <tr>\n",
       "      <th>50%</th>\n",
       "      <td>6.900000</td>\n",
       "      <td>0.280000</td>\n",
       "      <td>0.310000</td>\n",
       "      <td>3.900000</td>\n",
       "      <td>0.045000</td>\n",
       "      <td>31.000000</td>\n",
       "      <td>125.000000</td>\n",
       "      <td>0.994200</td>\n",
       "      <td>3.200000</td>\n",
       "      <td>0.490000</td>\n",
       "      <td>10.400000</td>\n",
       "      <td>0.000000</td>\n",
       "      <td>1.000000</td>\n",
       "    </tr>\n",
       "    <tr>\n",
       "      <th>75%</th>\n",
       "      <td>7.400000</td>\n",
       "      <td>0.350000</td>\n",
       "      <td>0.370000</td>\n",
       "      <td>8.500000</td>\n",
       "      <td>0.054000</td>\n",
       "      <td>43.000000</td>\n",
       "      <td>160.000000</td>\n",
       "      <td>0.996290</td>\n",
       "      <td>3.310000</td>\n",
       "      <td>0.570000</td>\n",
       "      <td>11.300000</td>\n",
       "      <td>0.000000</td>\n",
       "      <td>1.000000</td>\n",
       "    </tr>\n",
       "    <tr>\n",
       "      <th>max</th>\n",
       "      <td>9.300000</td>\n",
       "      <td>0.620000</td>\n",
       "      <td>0.560000</td>\n",
       "      <td>18.050000</td>\n",
       "      <td>0.103000</td>\n",
       "      <td>79.500000</td>\n",
       "      <td>272.000000</td>\n",
       "      <td>1.001820</td>\n",
       "      <td>3.630000</td>\n",
       "      <td>0.850000</td>\n",
       "      <td>13.700000</td>\n",
       "      <td>1.000000</td>\n",
       "      <td>1.000000</td>\n",
       "    </tr>\n",
       "  </tbody>\n",
       "</table>\n",
       "</div>"
      ],
      "text/plain": [
       "       fixed acidity  volatile acidity  citric acid  residual sugar  \\\n",
       "count    4844.000000       4844.000000  4844.000000     4844.000000   \n",
       "mean        6.937521          0.298417     0.308152        5.624102   \n",
       "std         0.842868          0.113506     0.105570        4.592004   \n",
       "min         4.200000          0.080000     0.000000        0.600000   \n",
       "25%         6.400000          0.220000     0.260000        1.800000   \n",
       "50%         6.900000          0.280000     0.310000        3.900000   \n",
       "75%         7.400000          0.350000     0.370000        8.500000   \n",
       "max         9.300000          0.620000     0.560000       18.050000   \n",
       "\n",
       "         chlorides  free sulfur dioxide  total sulfur dioxide      density  \\\n",
       "count  4844.000000          4844.000000           4844.000000  4844.000000   \n",
       "mean      0.047503            32.015793            124.813377     0.994175   \n",
       "std       0.015952            15.733721             50.379600     0.002754   \n",
       "min       0.009000             2.000000              6.000000     0.987400   \n",
       "25%       0.036000            20.000000             94.000000     0.991927   \n",
       "50%       0.045000            31.000000            125.000000     0.994200   \n",
       "75%       0.054000            43.000000            160.000000     0.996290   \n",
       "max       0.103000            79.500000            272.000000     1.001820   \n",
       "\n",
       "                pH    sulphates      alcohol     type_red   type_white  \n",
       "count  4844.000000  4844.000000  4844.000000  4844.000000  4844.000000  \n",
       "mean      3.212314     0.503988    10.524731     0.138522     0.861478  \n",
       "std       0.148895     0.114822     1.167148     0.345483     0.345483  \n",
       "min       2.790000     0.220000     8.000000     0.000000     0.000000  \n",
       "25%       3.110000     0.420000     9.500000     0.000000     1.000000  \n",
       "50%       3.200000     0.490000    10.400000     0.000000     1.000000  \n",
       "75%       3.310000     0.570000    11.300000     0.000000     1.000000  \n",
       "max       3.630000     0.850000    13.700000     1.000000     1.000000  "
      ]
     },
     "execution_count": 136,
     "metadata": {},
     "output_type": "execute_result"
    }
   ],
   "source": [
    "x=data.drop('quality',axis=1)\n",
    "x.describe()"
   ]
  },
  {
   "cell_type": "code",
   "execution_count": 137,
   "id": "1a3fef2e",
   "metadata": {},
   "outputs": [
    {
     "data": {
      "text/plain": [
       "<Axes: >"
      ]
     },
     "execution_count": 137,
     "metadata": {},
     "output_type": "execute_result"
    },
    {
     "data": {
      "image/png": "[encoded data removed]",
      "text/plain": [
       "<Figure size 2000x800 with 2 Axes>"
      ]
     },
     "metadata": {},
     "output_type": "display_data"
    }
   ],
   "source": [
    "\n",
    "corrmatrix =data.corr()\n",
    "plt.subplots(figsize=(20,8))\n",
    "sns.heatmap(corrmatrix,vmin=0.4,vmax=0.9,annot=True,linewidth=0.2,cmap='YlGnBu')"
   ]
  },
  {
   "cell_type": "code",
   "execution_count": null,
   "id": "8b0489c4",
   "metadata": {},
   "outputs": [],
   "source": []
  }
 ],
 "metadata": {
  "kernelspec": {
   "display_name": "Python 3 (ipykernel)",
   "language": "python",
   "name": "python3"
  },
  "language_info": {
   "codemirror_mode": {
    "name": "ipython",
    "version": 3
   },
   "file_extension": ".py",
   "mimetype": "text/x-python",
   "name": "python",
   "nbconvert_exporter": "python",
   "pygments_lexer": "ipython3",
   "version": "3.11.4"
  }
 },
 "nbformat": 4,
 "nbformat_minor": 5
}
