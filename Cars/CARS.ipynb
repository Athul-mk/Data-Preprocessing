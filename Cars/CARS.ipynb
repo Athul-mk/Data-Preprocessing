{
 "cells": [
  {
   "cell_type": "code",
   "execution_count": 1,
   "id": "a761bfc9",
   "metadata": {},
   "outputs": [],
   "source": [
    "import pandas as pd\n",
    "import numpy as np\n",
    "import matplotlib.pyplot as plt\n",
    "import seaborn as sns\n"
   ]
  },
  {
   "cell_type": "code",
   "execution_count": 2,
   "id": "c6ca693f",
   "metadata": {},
   "outputs": [],
   "source": [
    "data=pd.read_csv('cars.csv',sep=';')\n"
   ]
  },
  {
   "cell_type": "code",
   "execution_count": 3,
   "id": "2a7328a2",
   "metadata": {},
   "outputs": [
    {
     "data": {
      "text/html": [
       "<div>\n",
       "<style scoped>\n",
       "    .dataframe tbody tr th:only-of-type {\n",
       "        vertical-align: middle;\n",
       "    }\n",
       "\n",
       "    .dataframe tbody tr th {\n",
       "        vertical-align: top;\n",
       "    }\n",
       "\n",
       "    .dataframe thead th {\n",
       "        text-align: right;\n",
       "    }\n",
       "</style>\n",
       "<table border=\"1\" class=\"dataframe\">\n",
       "  <thead>\n",
       "    <tr style=\"text-align: right;\">\n",
       "      <th></th>\n",
       "      <th>Car</th>\n",
       "      <th>MPG</th>\n",
       "      <th>Cylinders</th>\n",
       "      <th>Displacement</th>\n",
       "      <th>Horsepower</th>\n",
       "      <th>Weight</th>\n",
       "      <th>Acceleration</th>\n",
       "      <th>Model</th>\n",
       "      <th>Origin</th>\n",
       "    </tr>\n",
       "  </thead>\n",
       "  <tbody>\n",
       "    <tr>\n",
       "      <th>0</th>\n",
       "      <td>Chevrolet Chevelle Malibu</td>\n",
       "      <td>18.0</td>\n",
       "      <td>8</td>\n",
       "      <td>307.0</td>\n",
       "      <td>130.0</td>\n",
       "      <td>3504.0</td>\n",
       "      <td>12.0</td>\n",
       "      <td>70</td>\n",
       "      <td>US</td>\n",
       "    </tr>\n",
       "    <tr>\n",
       "      <th>1</th>\n",
       "      <td>Buick Skylark 320</td>\n",
       "      <td>15.0</td>\n",
       "      <td>8</td>\n",
       "      <td>350.0</td>\n",
       "      <td>165.0</td>\n",
       "      <td>3693.0</td>\n",
       "      <td>11.5</td>\n",
       "      <td>70</td>\n",
       "      <td>US</td>\n",
       "    </tr>\n",
       "    <tr>\n",
       "      <th>2</th>\n",
       "      <td>Plymouth Satellite</td>\n",
       "      <td>18.0</td>\n",
       "      <td>8</td>\n",
       "      <td>318.0</td>\n",
       "      <td>150.0</td>\n",
       "      <td>3436.0</td>\n",
       "      <td>11.0</td>\n",
       "      <td>70</td>\n",
       "      <td>US</td>\n",
       "    </tr>\n",
       "    <tr>\n",
       "      <th>3</th>\n",
       "      <td>AMC Rebel SST</td>\n",
       "      <td>16.0</td>\n",
       "      <td>8</td>\n",
       "      <td>304.0</td>\n",
       "      <td>150.0</td>\n",
       "      <td>3433.0</td>\n",
       "      <td>12.0</td>\n",
       "      <td>70</td>\n",
       "      <td>US</td>\n",
       "    </tr>\n",
       "    <tr>\n",
       "      <th>4</th>\n",
       "      <td>Ford Torino</td>\n",
       "      <td>17.0</td>\n",
       "      <td>8</td>\n",
       "      <td>302.0</td>\n",
       "      <td>140.0</td>\n",
       "      <td>3449.0</td>\n",
       "      <td>10.5</td>\n",
       "      <td>70</td>\n",
       "      <td>US</td>\n",
       "    </tr>\n",
       "    <tr>\n",
       "      <th>...</th>\n",
       "      <td>...</td>\n",
       "      <td>...</td>\n",
       "      <td>...</td>\n",
       "      <td>...</td>\n",
       "      <td>...</td>\n",
       "      <td>...</td>\n",
       "      <td>...</td>\n",
       "      <td>...</td>\n",
       "      <td>...</td>\n",
       "    </tr>\n",
       "    <tr>\n",
       "      <th>401</th>\n",
       "      <td>Ford Mustang GL</td>\n",
       "      <td>27.0</td>\n",
       "      <td>4</td>\n",
       "      <td>140.0</td>\n",
       "      <td>86.0</td>\n",
       "      <td>2790.0</td>\n",
       "      <td>15.6</td>\n",
       "      <td>82</td>\n",
       "      <td>US</td>\n",
       "    </tr>\n",
       "    <tr>\n",
       "      <th>402</th>\n",
       "      <td>Volkswagen Pickup</td>\n",
       "      <td>44.0</td>\n",
       "      <td>4</td>\n",
       "      <td>97.0</td>\n",
       "      <td>52.0</td>\n",
       "      <td>2130.0</td>\n",
       "      <td>24.6</td>\n",
       "      <td>82</td>\n",
       "      <td>Europe</td>\n",
       "    </tr>\n",
       "    <tr>\n",
       "      <th>403</th>\n",
       "      <td>Dodge Rampage</td>\n",
       "      <td>32.0</td>\n",
       "      <td>4</td>\n",
       "      <td>135.0</td>\n",
       "      <td>84.0</td>\n",
       "      <td>2295.0</td>\n",
       "      <td>11.6</td>\n",
       "      <td>82</td>\n",
       "      <td>US</td>\n",
       "    </tr>\n",
       "    <tr>\n",
       "      <th>404</th>\n",
       "      <td>Ford Ranger</td>\n",
       "      <td>28.0</td>\n",
       "      <td>4</td>\n",
       "      <td>120.0</td>\n",
       "      <td>79.0</td>\n",
       "      <td>2625.0</td>\n",
       "      <td>18.6</td>\n",
       "      <td>82</td>\n",
       "      <td>US</td>\n",
       "    </tr>\n",
       "    <tr>\n",
       "      <th>405</th>\n",
       "      <td>Chevy S-10</td>\n",
       "      <td>31.0</td>\n",
       "      <td>4</td>\n",
       "      <td>119.0</td>\n",
       "      <td>82.0</td>\n",
       "      <td>2720.0</td>\n",
       "      <td>19.4</td>\n",
       "      <td>82</td>\n",
       "      <td>US</td>\n",
       "    </tr>\n",
       "  </tbody>\n",
       "</table>\n",
       "<p>406 rows × 9 columns</p>\n",
       "</div>"
      ],
      "text/plain": [
       "                           Car   MPG  Cylinders  Displacement  Horsepower  \\\n",
       "0    Chevrolet Chevelle Malibu  18.0          8         307.0       130.0   \n",
       "1            Buick Skylark 320  15.0          8         350.0       165.0   \n",
       "2           Plymouth Satellite  18.0          8         318.0       150.0   \n",
       "3                AMC Rebel SST  16.0          8         304.0       150.0   \n",
       "4                  Ford Torino  17.0          8         302.0       140.0   \n",
       "..                         ...   ...        ...           ...         ...   \n",
       "401            Ford Mustang GL  27.0          4         140.0        86.0   \n",
       "402          Volkswagen Pickup  44.0          4          97.0        52.0   \n",
       "403              Dodge Rampage  32.0          4         135.0        84.0   \n",
       "404                Ford Ranger  28.0          4         120.0        79.0   \n",
       "405                 Chevy S-10  31.0          4         119.0        82.0   \n",
       "\n",
       "     Weight  Acceleration  Model  Origin  \n",
       "0    3504.0          12.0     70      US  \n",
       "1    3693.0          11.5     70      US  \n",
       "2    3436.0          11.0     70      US  \n",
       "3    3433.0          12.0     70      US  \n",
       "4    3449.0          10.5     70      US  \n",
       "..      ...           ...    ...     ...  \n",
       "401  2790.0          15.6     82      US  \n",
       "402  2130.0          24.6     82  Europe  \n",
       "403  2295.0          11.6     82      US  \n",
       "404  2625.0          18.6     82      US  \n",
       "405  2720.0          19.4     82      US  \n",
       "\n",
       "[406 rows x 9 columns]"
      ]
     },
     "execution_count": 3,
     "metadata": {},
     "output_type": "execute_result"
    }
   ],
   "source": [
    "data"
   ]
  },
  {
   "cell_type": "code",
   "execution_count": 4,
   "id": "22498cec",
   "metadata": {},
   "outputs": [
    {
     "data": {
      "text/html": [
       "<div>\n",
       "<style scoped>\n",
       "    .dataframe tbody tr th:only-of-type {\n",
       "        vertical-align: middle;\n",
       "    }\n",
       "\n",
       "    .dataframe tbody tr th {\n",
       "        vertical-align: top;\n",
       "    }\n",
       "\n",
       "    .dataframe thead th {\n",
       "        text-align: right;\n",
       "    }\n",
       "</style>\n",
       "<table border=\"1\" class=\"dataframe\">\n",
       "  <thead>\n",
       "    <tr style=\"text-align: right;\">\n",
       "      <th></th>\n",
       "      <th>Car</th>\n",
       "      <th>MPG</th>\n",
       "      <th>Cylinders</th>\n",
       "      <th>Displacement</th>\n",
       "      <th>Horsepower</th>\n",
       "      <th>Weight</th>\n",
       "      <th>Acceleration</th>\n",
       "      <th>Model</th>\n",
       "      <th>Origin</th>\n",
       "    </tr>\n",
       "  </thead>\n",
       "  <tbody>\n",
       "    <tr>\n",
       "      <th>0</th>\n",
       "      <td>Chevrolet Chevelle Malibu</td>\n",
       "      <td>18.0</td>\n",
       "      <td>8</td>\n",
       "      <td>307.0</td>\n",
       "      <td>130.0</td>\n",
       "      <td>3504.0</td>\n",
       "      <td>12.0</td>\n",
       "      <td>70</td>\n",
       "      <td>US</td>\n",
       "    </tr>\n",
       "    <tr>\n",
       "      <th>1</th>\n",
       "      <td>Buick Skylark 320</td>\n",
       "      <td>15.0</td>\n",
       "      <td>8</td>\n",
       "      <td>350.0</td>\n",
       "      <td>165.0</td>\n",
       "      <td>3693.0</td>\n",
       "      <td>11.5</td>\n",
       "      <td>70</td>\n",
       "      <td>US</td>\n",
       "    </tr>\n",
       "    <tr>\n",
       "      <th>2</th>\n",
       "      <td>Plymouth Satellite</td>\n",
       "      <td>18.0</td>\n",
       "      <td>8</td>\n",
       "      <td>318.0</td>\n",
       "      <td>150.0</td>\n",
       "      <td>3436.0</td>\n",
       "      <td>11.0</td>\n",
       "      <td>70</td>\n",
       "      <td>US</td>\n",
       "    </tr>\n",
       "    <tr>\n",
       "      <th>3</th>\n",
       "      <td>AMC Rebel SST</td>\n",
       "      <td>16.0</td>\n",
       "      <td>8</td>\n",
       "      <td>304.0</td>\n",
       "      <td>150.0</td>\n",
       "      <td>3433.0</td>\n",
       "      <td>12.0</td>\n",
       "      <td>70</td>\n",
       "      <td>US</td>\n",
       "    </tr>\n",
       "    <tr>\n",
       "      <th>4</th>\n",
       "      <td>Ford Torino</td>\n",
       "      <td>17.0</td>\n",
       "      <td>8</td>\n",
       "      <td>302.0</td>\n",
       "      <td>140.0</td>\n",
       "      <td>3449.0</td>\n",
       "      <td>10.5</td>\n",
       "      <td>70</td>\n",
       "      <td>US</td>\n",
       "    </tr>\n",
       "  </tbody>\n",
       "</table>\n",
       "</div>"
      ],
      "text/plain": [
       "                         Car   MPG  Cylinders  Displacement  Horsepower  \\\n",
       "0  Chevrolet Chevelle Malibu  18.0          8         307.0       130.0   \n",
       "1          Buick Skylark 320  15.0          8         350.0       165.0   \n",
       "2         Plymouth Satellite  18.0          8         318.0       150.0   \n",
       "3              AMC Rebel SST  16.0          8         304.0       150.0   \n",
       "4                Ford Torino  17.0          8         302.0       140.0   \n",
       "\n",
       "   Weight  Acceleration  Model Origin  \n",
       "0  3504.0          12.0     70     US  \n",
       "1  3693.0          11.5     70     US  \n",
       "2  3436.0          11.0     70     US  \n",
       "3  3433.0          12.0     70     US  \n",
       "4  3449.0          10.5     70     US  "
      ]
     },
     "execution_count": 4,
     "metadata": {},
     "output_type": "execute_result"
    }
   ],
   "source": [
    "data.head()"
   ]
  },
  {
   "cell_type": "code",
   "execution_count": 5,
   "id": "5ab34a39",
   "metadata": {},
   "outputs": [
    {
     "data": {
      "text/plain": [
       "(406, 9)"
      ]
     },
     "execution_count": 5,
     "metadata": {},
     "output_type": "execute_result"
    }
   ],
   "source": [
    "data.shape"
   ]
  },
  {
   "cell_type": "code",
   "execution_count": 6,
   "id": "5e1199fa",
   "metadata": {},
   "outputs": [
    {
     "data": {
      "text/plain": [
       "<bound method DataFrame.info of                            Car   MPG  Cylinders  Displacement  Horsepower  \\\n",
       "0    Chevrolet Chevelle Malibu  18.0          8         307.0       130.0   \n",
       "1            Buick Skylark 320  15.0          8         350.0       165.0   \n",
       "2           Plymouth Satellite  18.0          8         318.0       150.0   \n",
       "3                AMC Rebel SST  16.0          8         304.0       150.0   \n",
       "4                  Ford Torino  17.0          8         302.0       140.0   \n",
       "..                         ...   ...        ...           ...         ...   \n",
       "401            Ford Mustang GL  27.0          4         140.0        86.0   \n",
       "402          Volkswagen Pickup  44.0          4          97.0        52.0   \n",
       "403              Dodge Rampage  32.0          4         135.0        84.0   \n",
       "404                Ford Ranger  28.0          4         120.0        79.0   \n",
       "405                 Chevy S-10  31.0          4         119.0        82.0   \n",
       "\n",
       "     Weight  Acceleration  Model  Origin  \n",
       "0    3504.0          12.0     70      US  \n",
       "1    3693.0          11.5     70      US  \n",
       "2    3436.0          11.0     70      US  \n",
       "3    3433.0          12.0     70      US  \n",
       "4    3449.0          10.5     70      US  \n",
       "..      ...           ...    ...     ...  \n",
       "401  2790.0          15.6     82      US  \n",
       "402  2130.0          24.6     82  Europe  \n",
       "403  2295.0          11.6     82      US  \n",
       "404  2625.0          18.6     82      US  \n",
       "405  2720.0          19.4     82      US  \n",
       "\n",
       "[406 rows x 9 columns]>"
      ]
     },
     "execution_count": 6,
     "metadata": {},
     "output_type": "execute_result"
    }
   ],
   "source": [
    "data.info"
   ]
  },
  {
   "cell_type": "code",
   "execution_count": 7,
   "id": "cdaf5805",
   "metadata": {},
   "outputs": [
    {
     "data": {
      "text/plain": [
       "Car             0\n",
       "MPG             0\n",
       "Cylinders       0\n",
       "Displacement    0\n",
       "Horsepower      0\n",
       "Weight          0\n",
       "Acceleration    0\n",
       "Model           0\n",
       "Origin          0\n",
       "dtype: int64"
      ]
     },
     "execution_count": 7,
     "metadata": {},
     "output_type": "execute_result"
    }
   ],
   "source": [
    "data.isna().sum()"
   ]
  },
  {
   "cell_type": "code",
   "execution_count": 8,
   "id": "09b61db8",
   "metadata": {},
   "outputs": [
    {
     "data": {
      "text/plain": [
       "Car              object\n",
       "MPG             float64\n",
       "Cylinders         int64\n",
       "Displacement    float64\n",
       "Horsepower      float64\n",
       "Weight          float64\n",
       "Acceleration    float64\n",
       "Model             int64\n",
       "Origin           object\n",
       "dtype: object"
      ]
     },
     "execution_count": 8,
     "metadata": {},
     "output_type": "execute_result"
    }
   ],
   "source": [
    "data.dtypes"
   ]
  },
  {
   "cell_type": "code",
   "execution_count": 9,
   "id": "73b58950",
   "metadata": {},
   "outputs": [
    {
     "data": {
      "text/plain": [
       "array(['Chevrolet Chevelle Malibu', 'Buick Skylark 320',\n",
       "       'Plymouth Satellite', 'AMC Rebel SST', 'Ford Torino',\n",
       "       'Ford Galaxie 500', 'Chevrolet Impala', 'Plymouth Fury iii',\n",
       "       'Pontiac Catalina', 'AMC Ambassador DPL', 'Citroen DS-21 Pallas',\n",
       "       'Chevrolet Chevelle Concours (sw)', 'Ford Torino (sw)',\n",
       "       'Plymouth Satellite (sw)', 'AMC Rebel SST (sw)',\n",
       "       'Dodge Challenger SE', \"Plymouth 'Cuda 340\",\n",
       "       'Ford Mustang Boss 302', 'Chevrolet Monte Carlo',\n",
       "       'Buick Estate Wagon (sw)', 'Toyota Corolla Mark ii',\n",
       "       'Plymouth Duster', 'AMC Hornet', 'Ford Maverick', 'Datsun PL510',\n",
       "       'Volkswagen 1131 Deluxe Sedan', 'Peugeot 504', 'Audi 100 LS',\n",
       "       'Saab 99e', 'BMW 2002', 'AMC Gremlin', 'Ford F250', 'Chevy C20',\n",
       "       'Dodge D200', 'Hi 1200D', 'Chevrolet Vega 2300', 'Toyota Corolla',\n",
       "       'Ford Pinto', 'Volkswagen Super Beetle 117',\n",
       "       'Plymouth Satellite Custom', 'Ford Torino 500', 'AMC Matador',\n",
       "       'Pontiac Catalina Brougham', 'Dodge Monaco (sw)',\n",
       "       'Ford Country Squire (sw)', 'Pontiac Safari (sw)',\n",
       "       'AMC Hornet Sportabout (sw)', 'Chevrolet Vega (sw)',\n",
       "       'Pontiac Firebird', 'Ford Mustang', 'Mercury Capri 2000',\n",
       "       'Opel 1900', 'Peugeot 304', 'Fiat 124B', 'Toyota Corolla 1200',\n",
       "       'Datsun 1200', 'Volkswagen Model 111', 'Plymouth Cricket',\n",
       "       'Toyota Corolla Hardtop', 'Dodge Colt Hardtop',\n",
       "       'Volkswagen Type 3', 'Chevrolet Vega', 'Ford Pinto Runabout',\n",
       "       'Plymouth Fury III', 'AMC Ambassador SST', 'Mercury Marquis',\n",
       "       'Buick LeSabre Custom', 'Oldsmobile Delta 88 Royale',\n",
       "       'Chrysler Newport Royal', 'Mazda RX2 Coupe', 'AMC Matador (sw)',\n",
       "       'Ford Gran Torino (sw)', 'Plymouth Satellite Custom (sw)',\n",
       "       'Volvo 145e (sw)', 'Volkswagen 411 (sw)', 'Peugeot 504 (sw)',\n",
       "       'Renault 12 (sw)', 'Ford Pinto (sw)', 'Datsun 510 (sw)',\n",
       "       'Toyota Corolla Mark II (sw)', 'Dodge Colt (sw)',\n",
       "       'Toyota Corolla 1600 (sw)', 'Buick Century 350',\n",
       "       'Chevrolet Malibu', 'Ford Gran Torino', 'Dodge Coronet Custom',\n",
       "       'Mercury Marquis Brougham', 'Chevrolet Caprice Classic',\n",
       "       'Ford LTD', 'Plymouth Fury Gran Sedan',\n",
       "       'Chrysler New Yorker Brougham', 'Buick Electra 225 Custom',\n",
       "       'AMC Ambassador Brougham', 'Plymouth Valiant',\n",
       "       'Chevrolet Nova Custom', 'Volkswagen Super Beetle', 'Ford Country',\n",
       "       'Plymouth Custom Suburb', 'Oldsmobile Vista Cruiser',\n",
       "       'Toyota Camry', 'Datsun 610', 'Mazda RX3', 'Mercury Capri v6',\n",
       "       'Fiat 124 Sport Coupe', 'Chevrolet Monte Carlo S',\n",
       "       'Pontiac Grand Prix', 'Fiat 128', 'Opel Manta', 'Audi 100LS',\n",
       "       'Volvo 144ea', 'Dodge Dart Custom', 'Saab 99le', 'Toyota Mark II',\n",
       "       'Oldsmobile Omega', 'Chevrolet Nova', 'Datsun B210',\n",
       "       'Chevrolet Chevelle Malibu Classic', 'Plymouth Satellite Sebring',\n",
       "       'Buick Century Luxus (sw)', 'Dodge Coronet Custom (sw)',\n",
       "       'Audi Fox', 'Volkswagen Dasher', 'Datsun 710', 'Dodge Colt',\n",
       "       'Fiat 124 TC', 'Honda Civic', 'Subaru', 'Fiat x1.9',\n",
       "       'Plymouth Valiant Custom', 'Mercury Monarch', 'Chevrolet Bel Air',\n",
       "       'Plymouth Grand Fury', 'Buick Century',\n",
       "       'Chevrolete Chevelle Malibu', 'Plymouth Fury', 'Buick Skyhawk',\n",
       "       'Chevrolet Monza 2+2', 'Ford Mustang II', 'Pontiac Astro',\n",
       "       'Volkswagen Rabbit', 'AMC Pacer', 'Volvo 244DL', 'Saab 99LE',\n",
       "       'Honda Civic CVCC', 'Fiat 131', 'Capri ii', 'Renault 12tl',\n",
       "       'Dodge Coronet Brougham', 'Chevrolet Chevette', 'Chevrolet Woody',\n",
       "       'Dodge Aspen SE', 'Ford Grenada ghia', 'Pontiac Ventura SJ',\n",
       "       'AMC Pacer d/l', 'Datsun B-210', 'Volvo 245',\n",
       "       'Plymouth Volare Premier v8', 'Mercedes-Benz 280s',\n",
       "       'Cadillac Seville', 'Chevrolet C10', 'Ford F108', 'Dodge D100',\n",
       "       'Honda Accord CVCC', 'Buick Opel Isuzu Deluxe', 'Renault 5 GTL',\n",
       "       'Plymouth Arrow GS', 'Datsun F-10 Hatchback',\n",
       "       'Oldsmobile Cutlass Supreme', 'Dodge Monaco Brougham',\n",
       "       'Mercury Cougar Brougham', 'Chevrolet Concours', 'Buick Skylark',\n",
       "       'Plymouth Volare Custom', 'Ford Grenada', 'Pontiac Grand Prix LJ',\n",
       "       'Chevrolet Monte Carlo Landau', 'Chrysler Cordoba',\n",
       "       'Ford Thunderbird', 'Volkswagen Rabbit Custom',\n",
       "       'Pontiac Sunbird Coupe', 'Toyota Corolla Liftback',\n",
       "       'Ford Mustang II 2+2', 'Dodge Colt m/m', 'Subaru DL', 'Datsun 810',\n",
       "       'BMW 320i', 'Mazda RX-4', 'Volkswagen Rabbit Custom Diesel',\n",
       "       'Ford Fiesta', 'Mazda GLC Deluxe', 'Datsun B210 GX',\n",
       "       'Oldsmobile Cutlass Salon Brougham', 'Dodge Diplomat',\n",
       "       'Mercury Monarch ghia', 'Pontiac Phoenix LJ',\n",
       "       'Ford Fairmont (auto)', 'Ford Fairmont (man)', 'Plymouth Volare',\n",
       "       'AMC Concord', 'Buick Century Special', 'Mercury Zephyr',\n",
       "       'Dodge Aspen', 'AMC Concord d/l',\n",
       "       'Buick Regal Sport Coupe (turbo)', 'Ford Futura',\n",
       "       'Dodge Magnum XE', 'Datsun 510', 'Dodge Omni',\n",
       "       'Toyota Celica GT Liftback', 'Plymouth Sapporo',\n",
       "       'Oldsmobile Starfire SX', 'Datsun 200-SX', 'Audi 5000',\n",
       "       'Volvo 264gl', 'Saab 99gle', 'Peugeot 604sl',\n",
       "       'Volkswagen Scirocco', 'Honda Accord LX', 'Pontiac Lemans V6',\n",
       "       'Mercury Zephyr 6', 'Ford Fairmont 4', 'AMC Concord DL 6',\n",
       "       'Dodge Aspen 6', 'Ford LTD Landau', 'Mercury Grand Marquis',\n",
       "       'Dodge St. Regis', 'Chevrolet Malibu Classic (sw)',\n",
       "       'Chrysler Lebaron Town @ Country (sw)',\n",
       "       'Dodge Colt Hatchback Custom', 'AMC Spirit DL',\n",
       "       'Mercedes Benz 300d', 'Cadillac Eldorado', 'Plymouth Horizon',\n",
       "       'Plymouth Horizon TC3', 'Datsun 210', 'Fiat Strada Custom',\n",
       "       'Buick Skylark Limited', 'Chevrolet Citation',\n",
       "       'Oldsmobile Omega Brougham', 'Pontiac Phoenix',\n",
       "       'Toyota Corolla Tercel', 'Datsun 310', 'Ford Fairmont',\n",
       "       'Audi 4000', 'Mazda 626', 'Datsun 510 Hatchback', 'Mazda GLC',\n",
       "       'Volkswagen Rabbit C (Diesel)', 'Volkswagen Dasher (diesel)',\n",
       "       'Audi 5000s (diesel)', 'Mercedes-Benz 240d', 'Honda Civic 1500 gl',\n",
       "       'Renault Lecar Deluxe', 'Datsun 280-ZX', 'Mazda RX-7 GS',\n",
       "       'Triumph TR7 Coupe', 'Ford Mustang Cobra', 'Honda Accord',\n",
       "       'Plymouth Reliant', 'Dodge Aries Wagon (sw)', 'Toyota Starlet',\n",
       "       'Plymouth Champ', 'Honda Civic 1300', 'Datsun 210 MPG',\n",
       "       'Toyota Tercel', 'Mazda GLC 4', 'Plymouth Horizon 4',\n",
       "       'Ford Escort 4W', 'Ford Escort 2H', 'Volkswagen Jetta',\n",
       "       'Renault 18i', 'Honda Prelude', 'Datsun 200SX',\n",
       "       'Peugeot 505s Turbo Diesel', 'Saab 900s', 'Volvo Diesel',\n",
       "       'Toyota Cressida', 'Datsun 810 Maxima', 'Oldsmobile Cutlass LS',\n",
       "       'Ford Grenada gl', 'Chrysler Lebaron Salon', 'Chevrolet Cavalier',\n",
       "       'Chevrolet Cavalier Wagon', 'Chevrolet Cavalier 2-door',\n",
       "       'Pontiac J2000 SE Hatchback', 'Dodge Aries SE',\n",
       "       'Ford Fairmont Futura', 'AMC Concord DL', 'Volkswagen Rabbit l',\n",
       "       'Mazda GLC Custom l', 'Mazda GLC Custom', 'Plymouth Horizon Miser',\n",
       "       'Mercury Lynx l', 'Nissan Stanza XE', 'Honda Civic (auto)',\n",
       "       'Datsun 310 GX', 'Buick Century Limited',\n",
       "       'Oldsmobile Cutlass Ciera (diesel)', 'Chrysler Lebaron Medallion',\n",
       "       'Ford Grenada l', 'Toyota Celica GT', 'Dodge Charger 2.2',\n",
       "       'Chevrolet Camaro', 'Ford Mustang GL', 'Volkswagen Pickup',\n",
       "       'Dodge Rampage', 'Ford Ranger', 'Chevy S-10'], dtype=object)"
      ]
     },
     "execution_count": 9,
     "metadata": {},
     "output_type": "execute_result"
    }
   ],
   "source": [
    "data['Car'].unique()"
   ]
  },
  {
   "cell_type": "code",
   "execution_count": 10,
   "id": "1ca8b398",
   "metadata": {},
   "outputs": [
    {
     "data": {
      "text/plain": [
       "array([ 50,  37, 235,  14, 164, 143,  55, 227, 246,   1,  77,  49, 165,\n",
       "       236,  15, 103, 218, 154,  58,  31, 279, 223,   8, 152,  97, 286,\n",
       "       214,  17, 265,  23,   7, 135,  69, 114, 167,  66, 273, 159, 300,\n",
       "       237, 166,  10, 247, 118, 131, 255,   9,  65, 248, 153, 190, 211,\n",
       "       213, 125, 274,  78, 291, 221, 276, 107, 301,  64, 161, 226,   2,\n",
       "       195,  32, 206,  76, 185,  11, 145, 238, 303, 287, 215, 258, 160,\n",
       "        87, 278, 106, 275,  26,  56, 144, 111, 196,  45, 150, 225,  75,\n",
       "        30,   0, 240,  63, 299, 130, 222, 210, 270,  89, 186, 191, 123,\n",
       "        60, 249, 126, 212,  18, 302, 115, 267, 282, 207,  62,  94,  51,\n",
       "       239,  28, 112,  22, 288,  90, 105, 124, 171, 268, 129, 241, 197,\n",
       "        42, 228,  25,  68, 224,  35,  61, 157, 245, 293,  12, 304, 264,\n",
       "       175, 127,  41, 259, 110,  52,  67, 102, 147, 257,  13,  93, 305,\n",
       "       244, 189,  40,  43, 134, 113, 169,  33, 261, 219,  96, 205, 119,\n",
       "       192,  54,  36, 243, 146, 250,  59,  71, 163, 295, 256, 277, 158,\n",
       "       109, 269,  91,  24, 183, 296, 141, 182,  95, 204, 116, 198, 254,\n",
       "       137, 138, 242,   3,  29, 199, 100,   6,  34, 142, 117,  86, 120,\n",
       "       272, 234, 209,  79,  20, 306, 266, 217, 298, 170, 252, 200, 139,\n",
       "         5, 101, 151, 193, 122,  57,  74, 108,  16, 187,  39, 229, 232,\n",
       "        81, 128,  38,  53, 208, 253, 280,  84, 136,  19, 177,  88, 178,\n",
       "       294, 289,  21, 188, 174, 262,  83, 184, 285, 155, 168, 233,  99,\n",
       "       283, 220, 173,  82, 284, 179, 230, 133, 132, 290, 260, 176,  80,\n",
       "       216, 263, 307, 281,  92, 203, 148,  73,  46,  48,  47, 251,  98,\n",
       "       140,   4, 297, 181, 180, 231, 194, 201, 172,  85,  27, 202,  72,\n",
       "       149, 271, 104,  44, 156, 292, 121, 162,  70])"
      ]
     },
     "execution_count": 10,
     "metadata": {},
     "output_type": "execute_result"
    }
   ],
   "source": [
    "from sklearn import preprocessing\n",
    "label_encoder=preprocessing.LabelEncoder()\n",
    "data['Car']=label_encoder.fit_transform(data['Car'])\n",
    "data['Car'].unique()"
   ]
  },
  {
   "cell_type": "code",
   "execution_count": 11,
   "id": "66b15d71",
   "metadata": {},
   "outputs": [
    {
     "data": {
      "text/plain": [
       "array(['US', 'Europe', 'Japan'], dtype=object)"
      ]
     },
     "execution_count": 11,
     "metadata": {},
     "output_type": "execute_result"
    }
   ],
   "source": [
    "data['Origin'].unique()"
   ]
  },
  {
   "cell_type": "code",
   "execution_count": 12,
   "id": "ef55d61d",
   "metadata": {},
   "outputs": [
    {
     "data": {
      "text/plain": [
       "array([2, 0, 1])"
      ]
     },
     "execution_count": 12,
     "metadata": {},
     "output_type": "execute_result"
    }
   ],
   "source": [
    "from sklearn import preprocessing\n",
    "label_encoder=preprocessing.LabelEncoder()\n",
    "data['Origin']=label_encoder.fit_transform(data['Origin'])\n",
    "data['Origin'].unique()"
   ]
  },
  {
   "cell_type": "code",
   "execution_count": 13,
   "id": "885ac6c0",
   "metadata": {},
   "outputs": [
    {
     "data": {
      "text/plain": [
       "Index(['Car', 'MPG', 'Cylinders', 'Displacement', 'Horsepower', 'Weight',\n",
       "       'Acceleration', 'Model', 'Origin'],\n",
       "      dtype='object')"
      ]
     },
     "execution_count": 13,
     "metadata": {},
     "output_type": "execute_result"
    }
   ],
   "source": [
    "data.columns"
   ]
  },
  {
   "cell_type": "code",
   "execution_count": 14,
   "id": "f7540c55",
   "metadata": {},
   "outputs": [
    {
     "data": {
      "text/plain": [
       "Origin\n",
       "0    26.745205\n",
       "1    30.450633\n",
       "2    19.688189\n",
       "Name: MPG, dtype: float64"
      ]
     },
     "execution_count": 14,
     "metadata": {},
     "output_type": "execute_result"
    }
   ],
   "source": [
    "data.groupby('Origin')['MPG'].mean()"
   ]
  },
  {
   "cell_type": "code",
   "execution_count": 15,
   "id": "ccb3fd65",
   "metadata": {},
   "outputs": [
    {
     "data": {
      "text/plain": [
       "3"
      ]
     },
     "execution_count": 15,
     "metadata": {},
     "output_type": "execute_result"
    }
   ],
   "source": [
    "data.Origin.nunique()"
   ]
  },
  {
   "cell_type": "code",
   "execution_count": 16,
   "id": "af5b497b",
   "metadata": {},
   "outputs": [
    {
     "data": {
      "text/html": [
       "<div>\n",
       "<style scoped>\n",
       "    .dataframe tbody tr th:only-of-type {\n",
       "        vertical-align: middle;\n",
       "    }\n",
       "\n",
       "    .dataframe tbody tr th {\n",
       "        vertical-align: top;\n",
       "    }\n",
       "\n",
       "    .dataframe thead th {\n",
       "        text-align: right;\n",
       "    }\n",
       "</style>\n",
       "<table border=\"1\" class=\"dataframe\">\n",
       "  <thead>\n",
       "    <tr style=\"text-align: right;\">\n",
       "      <th></th>\n",
       "      <th>Car</th>\n",
       "      <th>MPG</th>\n",
       "      <th>Cylinders</th>\n",
       "      <th>Displacement</th>\n",
       "      <th>Horsepower</th>\n",
       "      <th>Weight</th>\n",
       "      <th>Acceleration</th>\n",
       "      <th>Model</th>\n",
       "      <th>Origin</th>\n",
       "    </tr>\n",
       "  </thead>\n",
       "  <tbody>\n",
       "    <tr>\n",
       "      <th>0</th>\n",
       "      <td>50</td>\n",
       "      <td>18.0</td>\n",
       "      <td>8</td>\n",
       "      <td>307.0</td>\n",
       "      <td>130.0</td>\n",
       "      <td>3504.0</td>\n",
       "      <td>12.0</td>\n",
       "      <td>70</td>\n",
       "      <td>2</td>\n",
       "    </tr>\n",
       "    <tr>\n",
       "      <th>1</th>\n",
       "      <td>37</td>\n",
       "      <td>15.0</td>\n",
       "      <td>8</td>\n",
       "      <td>350.0</td>\n",
       "      <td>165.0</td>\n",
       "      <td>3693.0</td>\n",
       "      <td>11.5</td>\n",
       "      <td>70</td>\n",
       "      <td>2</td>\n",
       "    </tr>\n",
       "    <tr>\n",
       "      <th>2</th>\n",
       "      <td>235</td>\n",
       "      <td>18.0</td>\n",
       "      <td>8</td>\n",
       "      <td>318.0</td>\n",
       "      <td>150.0</td>\n",
       "      <td>3436.0</td>\n",
       "      <td>11.0</td>\n",
       "      <td>70</td>\n",
       "      <td>2</td>\n",
       "    </tr>\n",
       "    <tr>\n",
       "      <th>3</th>\n",
       "      <td>14</td>\n",
       "      <td>16.0</td>\n",
       "      <td>8</td>\n",
       "      <td>304.0</td>\n",
       "      <td>150.0</td>\n",
       "      <td>3433.0</td>\n",
       "      <td>12.0</td>\n",
       "      <td>70</td>\n",
       "      <td>2</td>\n",
       "    </tr>\n",
       "    <tr>\n",
       "      <th>4</th>\n",
       "      <td>164</td>\n",
       "      <td>17.0</td>\n",
       "      <td>8</td>\n",
       "      <td>302.0</td>\n",
       "      <td>140.0</td>\n",
       "      <td>3449.0</td>\n",
       "      <td>10.5</td>\n",
       "      <td>70</td>\n",
       "      <td>2</td>\n",
       "    </tr>\n",
       "  </tbody>\n",
       "</table>\n",
       "</div>"
      ],
      "text/plain": [
       "   Car   MPG  Cylinders  Displacement  Horsepower  Weight  Acceleration  \\\n",
       "0   50  18.0          8         307.0       130.0  3504.0          12.0   \n",
       "1   37  15.0          8         350.0       165.0  3693.0          11.5   \n",
       "2  235  18.0          8         318.0       150.0  3436.0          11.0   \n",
       "3   14  16.0          8         304.0       150.0  3433.0          12.0   \n",
       "4  164  17.0          8         302.0       140.0  3449.0          10.5   \n",
       "\n",
       "   Model  Origin  \n",
       "0     70       2  \n",
       "1     70       2  \n",
       "2     70       2  \n",
       "3     70       2  \n",
       "4     70       2  "
      ]
     },
     "execution_count": 16,
     "metadata": {},
     "output_type": "execute_result"
    }
   ],
   "source": [
    "data.head()"
   ]
  },
  {
   "cell_type": "code",
   "execution_count": 17,
   "id": "416ca204",
   "metadata": {},
   "outputs": [
    {
     "data": {
      "text/plain": [
       "Text(0.5, 1.0, 'Box plot of MPG')"
      ]
     },
     "execution_count": 17,
     "metadata": {},
     "output_type": "execute_result"
    },
    {
     "data": {
      "image/png": "[encoded data removed]",
      "text/plain": [
       "<Figure size 640x480 with 1 Axes>"
      ]
     },
     "metadata": {},
     "output_type": "display_data"
    }
   ],
   "source": [
    "plt.boxplot(data['MPG'])\n",
    "plt.title('Box plot of MPG')"
   ]
  },
  {
   "cell_type": "code",
   "execution_count": 18,
   "id": "d490a581",
   "metadata": {},
   "outputs": [
    {
     "data": {
      "text/plain": [
       "Text(0.5, 1.0, 'Box plot of Cylinders')"
      ]
     },
     "execution_count": 18,
     "metadata": {},
     "output_type": "execute_result"
    },
    {
     "data": {
      "image/png": "[encoded data removed]",
      "text/plain": [
       "<Figure size 640x480 with 1 Axes>"
      ]
     },
     "metadata": {},
     "output_type": "display_data"
    }
   ],
   "source": [
    "plt.boxplot(data['Cylinders'])\n",
    "plt.title('Box plot of Cylinders')"
   ]
  },
  {
   "cell_type": "code",
   "execution_count": 19,
   "id": "4fe65f4d",
   "metadata": {},
   "outputs": [
    {
     "data": {
      "text/plain": [
       "Text(0.5, 1.0, 'Box plot of Displacement')"
      ]
     },
     "execution_count": 19,
     "metadata": {},
     "output_type": "execute_result"
    },
    {
     "data": {
      "image/png": "[encoded data removed]",
      "text/plain": [
       "<Figure size 640x480 with 1 Axes>"
      ]
     },
     "metadata": {},
     "output_type": "display_data"
    }
   ],
   "source": [
    "plt.boxplot(data['Displacement'])\n",
    "plt.title('Box plot of Displacement')"
   ]
  },
  {
   "cell_type": "code",
   "execution_count": 20,
   "id": "9efed751",
   "metadata": {},
   "outputs": [
    {
     "data": {
      "text/plain": [
       "Text(0.5, 1.0, 'Box plot of Horsepower')"
      ]
     },
     "execution_count": 20,
     "metadata": {},
     "output_type": "execute_result"
    },
    {
     "data": {
      "image/png": "[encoded data removed]",
      "text/plain": [
       "<Figure size 640x480 with 1 Axes>"
      ]
     },
     "metadata": {},
     "output_type": "display_data"
    }
   ],
   "source": [
    "plt.boxplot(data['Horsepower'])\n",
    "plt.title('Box plot of Horsepower')"
   ]
  },
  {
   "cell_type": "code",
   "execution_count": 21,
   "id": "fc527df3",
   "metadata": {},
   "outputs": [
    {
     "data": {
      "text/plain": [
       "Text(0.5, 1.0, 'Box plot of Weight')"
      ]
     },
     "execution_count": 21,
     "metadata": {},
     "output_type": "execute_result"
    },
    {
     "data": {
      "image/png": "[encoded data removed]",
      "text/plain": [
       "<Figure size 640x480 with 1 Axes>"
      ]
     },
     "metadata": {},
     "output_type": "display_data"
    }
   ],
   "source": [
    "plt.boxplot(data['Weight'])\n",
    "plt.title('Box plot of Weight')"
   ]
  },
  {
   "cell_type": "code",
   "execution_count": 22,
   "id": "b42558bd",
   "metadata": {},
   "outputs": [
    {
     "data": {
      "text/plain": [
       "Text(0.5, 1.0, 'Box plot of Acceleration')"
      ]
     },
     "execution_count": 22,
     "metadata": {},
     "output_type": "execute_result"
    },
    {
     "data": {
      "image/png": "[encoded data removed]",
      "text/plain": [
       "<Figure size 640x480 with 1 Axes>"
      ]
     },
     "metadata": {},
     "output_type": "display_data"
    }
   ],
   "source": [
    "plt.boxplot(data['Acceleration'])\n",
    "plt.title('Box plot of Acceleration')"
   ]
  },
  {
   "cell_type": "code",
   "execution_count": 23,
   "id": "0462c86d",
   "metadata": {},
   "outputs": [
    {
     "data": {
      "text/plain": [
       "Text(0.5, 1.0, 'Box plot of Model')"
      ]
     },
     "execution_count": 23,
     "metadata": {},
     "output_type": "execute_result"
    },
    {
     "data": {
      "image/png": "[encoded data removed]",
      "text/plain": [
       "<Figure size 640x480 with 1 Axes>"
      ]
     },
     "metadata": {},
     "output_type": "display_data"
    }
   ],
   "source": [
    "plt.boxplot(data['Model'])\n",
    "plt.title('Box plot of Model')"
   ]
  },
  {
   "cell_type": "code",
   "execution_count": 24,
   "id": "f4abe098",
   "metadata": {},
   "outputs": [
    {
     "name": "stdout",
     "output_type": "stream",
     "text": [
      "73.0\n",
      "76.0\n",
      "79.0\n"
     ]
    },
    {
     "name": "stderr",
     "output_type": "stream",
     "text": [
      "C:\\Users\\ATHUL AKSHAY\\AppData\\Local\\Temp\\ipykernel_20716\\2345522425.py:1: DeprecationWarning: the `interpolation=` argument to percentile was renamed to `method=`, which has additional options.\n",
      "Users of the modes 'nearest', 'lower', 'higher', or 'midpoint' are encouraged to review the method they used. (Deprecated NumPy 1.22)\n",
      "  q1 = np.percentile(data['Model'],25,\n",
      "C:\\Users\\ATHUL AKSHAY\\AppData\\Local\\Temp\\ipykernel_20716\\2345522425.py:3: DeprecationWarning: the `interpolation=` argument to percentile was renamed to `method=`, which has additional options.\n",
      "Users of the modes 'nearest', 'lower', 'higher', or 'midpoint' are encouraged to review the method they used. (Deprecated NumPy 1.22)\n",
      "  q2 = np.percentile(data['Model'],50,\n",
      "C:\\Users\\ATHUL AKSHAY\\AppData\\Local\\Temp\\ipykernel_20716\\2345522425.py:5: DeprecationWarning: the `interpolation=` argument to percentile was renamed to `method=`, which has additional options.\n",
      "Users of the modes 'nearest', 'lower', 'higher', or 'midpoint' are encouraged to review the method they used. (Deprecated NumPy 1.22)\n",
      "  q3 = np.percentile(data['Model'],75,\n"
     ]
    }
   ],
   "source": [
    "q1 = np.percentile(data['Model'],25,\n",
    "                   interpolation='midpoint')\n",
    "q2 = np.percentile(data['Model'],50,\n",
    "                   interpolation='midpoint')\n",
    "q3 = np.percentile(data['Model'],75,\n",
    "                   interpolation='midpoint')\n",
    "print(q1)\n",
    "print(q2)\n",
    "print(q3)"
   ]
  },
  {
   "cell_type": "code",
   "execution_count": 25,
   "id": "ffa12a35",
   "metadata": {},
   "outputs": [
    {
     "data": {
      "text/plain": [
       "76.0"
      ]
     },
     "execution_count": 25,
     "metadata": {},
     "output_type": "execute_result"
    }
   ],
   "source": [
    "data['Model'].median()"
   ]
  },
  {
   "cell_type": "code",
   "execution_count": 26,
   "id": "7e2eaaad",
   "metadata": {},
   "outputs": [
    {
     "name": "stdout",
     "output_type": "stream",
     "text": [
      "64.0\n",
      "88.0\n"
     ]
    }
   ],
   "source": [
    "iqr=q3-q1\n",
    "# for that\n",
    "low_limit = q1-1.5*iqr\n",
    "up_limit = q3+1.5*iqr\n",
    "print(low_limit)\n",
    "print(up_limit)"
   ]
  },
  {
   "cell_type": "code",
   "execution_count": 27,
   "id": "c682c9a0",
   "metadata": {},
   "outputs": [
    {
     "data": {
      "text/plain": [
       "[]"
      ]
     },
     "execution_count": 27,
     "metadata": {},
     "output_type": "execute_result"
    }
   ],
   "source": [
    "outlier = []\n",
    "for x in data['Model']:\n",
    "  if((x>up_limit) or (x<low_limit)):\n",
    "    outlier.append(x)\n",
    "outlier"
   ]
  },
  {
   "cell_type": "code",
   "execution_count": 28,
   "id": "4569d97a",
   "metadata": {},
   "outputs": [
    {
     "name": "stdout",
     "output_type": "stream",
     "text": [
      "13.7\n",
      "15.5\n",
      "17.15\n"
     ]
    },
    {
     "name": "stderr",
     "output_type": "stream",
     "text": [
      "C:\\Users\\ATHUL AKSHAY\\AppData\\Local\\Temp\\ipykernel_20716\\296627395.py:1: DeprecationWarning: the `interpolation=` argument to percentile was renamed to `method=`, which has additional options.\n",
      "Users of the modes 'nearest', 'lower', 'higher', or 'midpoint' are encouraged to review the method they used. (Deprecated NumPy 1.22)\n",
      "  q1 = np.percentile(data['Acceleration'],25,\n",
      "C:\\Users\\ATHUL AKSHAY\\AppData\\Local\\Temp\\ipykernel_20716\\296627395.py:3: DeprecationWarning: the `interpolation=` argument to percentile was renamed to `method=`, which has additional options.\n",
      "Users of the modes 'nearest', 'lower', 'higher', or 'midpoint' are encouraged to review the method they used. (Deprecated NumPy 1.22)\n",
      "  q2 = np.percentile(data['Acceleration'],50,\n",
      "C:\\Users\\ATHUL AKSHAY\\AppData\\Local\\Temp\\ipykernel_20716\\296627395.py:5: DeprecationWarning: the `interpolation=` argument to percentile was renamed to `method=`, which has additional options.\n",
      "Users of the modes 'nearest', 'lower', 'higher', or 'midpoint' are encouraged to review the method they used. (Deprecated NumPy 1.22)\n",
      "  q3 = np.percentile(data['Acceleration'],75,\n"
     ]
    }
   ],
   "source": [
    "q1 = np.percentile(data['Acceleration'],25,\n",
    "                   interpolation='midpoint')\n",
    "q2 = np.percentile(data['Acceleration'],50,\n",
    "                   interpolation='midpoint')\n",
    "q3 = np.percentile(data['Acceleration'],75,\n",
    "                   interpolation='midpoint')\n",
    "print(q1)\n",
    "print(q2)\n",
    "print(q3)"
   ]
  },
  {
   "cell_type": "code",
   "execution_count": 29,
   "id": "67d60885",
   "metadata": {},
   "outputs": [
    {
     "data": {
      "text/plain": [
       "15.5"
      ]
     },
     "execution_count": 29,
     "metadata": {},
     "output_type": "execute_result"
    }
   ],
   "source": [
    "data['Acceleration'].median()"
   ]
  },
  {
   "cell_type": "code",
   "execution_count": 30,
   "id": "dd1fb2ff",
   "metadata": {},
   "outputs": [
    {
     "name": "stdout",
     "output_type": "stream",
     "text": [
      "8.525\n",
      "22.324999999999996\n"
     ]
    }
   ],
   "source": [
    "iqr=q3-q1\n",
    "low_limit = q1-1.5*iqr\n",
    "up_limit = q3+1.5*iqr\n",
    "print(low_limit)\n",
    "print(up_limit)"
   ]
  },
  {
   "cell_type": "code",
   "execution_count": 31,
   "id": "db179176",
   "metadata": {},
   "outputs": [
    {
     "data": {
      "text/plain": [
       "[8.5, 8.5, 8.0, 8.0, 23.5, 24.8, 23.7, 24.6]"
      ]
     },
     "execution_count": 31,
     "metadata": {},
     "output_type": "execute_result"
    }
   ],
   "source": [
    "outlier = []\n",
    "for x in data['Acceleration']:\n",
    "  if((x>up_limit) or (x<low_limit)):\n",
    "    outlier.append(x)\n",
    "outlier"
   ]
  },
  {
   "cell_type": "code",
   "execution_count": 32,
   "id": "48862a85",
   "metadata": {},
   "outputs": [
    {
     "data": {
      "text/plain": [
       "Int64Index([66, 306, 333, 402], dtype='int64')"
      ]
     },
     "execution_count": 32,
     "metadata": {},
     "output_type": "execute_result"
    }
   ],
   "source": [
    "ind1 = data['Acceleration']>up_limit\n",
    "data.loc[ind1].index\n"
   ]
  },
  {
   "cell_type": "code",
   "execution_count": 33,
   "id": "0e9f7708",
   "metadata": {},
   "outputs": [],
   "source": [
    "data.drop([66,306,333,402], inplace = True)"
   ]
  },
  {
   "cell_type": "code",
   "execution_count": 34,
   "id": "0db0c555",
   "metadata": {},
   "outputs": [
    {
     "data": {
      "text/plain": [
       "Text(0.5, 1.0, 'Box plot of Acceleration')"
      ]
     },
     "execution_count": 34,
     "metadata": {},
     "output_type": "execute_result"
    },
    {
     "data": {
      "image/png": "[encoded data removed]",
      "text/plain": [
       "<Figure size 640x480 with 1 Axes>"
      ]
     },
     "metadata": {},
     "output_type": "display_data"
    }
   ],
   "source": [
    "plt.boxplot(data['Acceleration'])\n",
    "plt.title('Box plot of Acceleration')"
   ]
  },
  {
   "cell_type": "code",
   "execution_count": 35,
   "id": "2a3616ad",
   "metadata": {},
   "outputs": [
    {
     "name": "stdout",
     "output_type": "stream",
     "text": [
      "105.0\n",
      "151.0\n",
      "302.0\n"
     ]
    },
    {
     "name": "stderr",
     "output_type": "stream",
     "text": [
      "C:\\Users\\ATHUL AKSHAY\\AppData\\Local\\Temp\\ipykernel_20716\\2927652652.py:1: DeprecationWarning: the `interpolation=` argument to percentile was renamed to `method=`, which has additional options.\n",
      "Users of the modes 'nearest', 'lower', 'higher', or 'midpoint' are encouraged to review the method they used. (Deprecated NumPy 1.22)\n",
      "  q1 = np.percentile(data['Displacement'],25,\n",
      "C:\\Users\\ATHUL AKSHAY\\AppData\\Local\\Temp\\ipykernel_20716\\2927652652.py:3: DeprecationWarning: the `interpolation=` argument to percentile was renamed to `method=`, which has additional options.\n",
      "Users of the modes 'nearest', 'lower', 'higher', or 'midpoint' are encouraged to review the method they used. (Deprecated NumPy 1.22)\n",
      "  q2 = np.percentile(data['Displacement'],50,\n",
      "C:\\Users\\ATHUL AKSHAY\\AppData\\Local\\Temp\\ipykernel_20716\\2927652652.py:5: DeprecationWarning: the `interpolation=` argument to percentile was renamed to `method=`, which has additional options.\n",
      "Users of the modes 'nearest', 'lower', 'higher', or 'midpoint' are encouraged to review the method they used. (Deprecated NumPy 1.22)\n",
      "  q3 = np.percentile(data['Displacement'],75,\n"
     ]
    }
   ],
   "source": [
    "q1 = np.percentile(data['Displacement'],25,\n",
    "                   interpolation='midpoint')\n",
    "q2 = np.percentile(data['Displacement'],50,\n",
    "                   interpolation='midpoint')\n",
    "q3 = np.percentile(data['Displacement'],75,\n",
    "                   interpolation='midpoint')\n",
    "print(q1)\n",
    "print(q2)\n",
    "print(q3)"
   ]
  },
  {
   "cell_type": "code",
   "execution_count": 36,
   "id": "bce7a3fb",
   "metadata": {},
   "outputs": [
    {
     "data": {
      "text/plain": [
       "151.0"
      ]
     },
     "execution_count": 36,
     "metadata": {},
     "output_type": "execute_result"
    }
   ],
   "source": [
    "data['Displacement'].median()"
   ]
  },
  {
   "cell_type": "code",
   "execution_count": 37,
   "id": "30893af2",
   "metadata": {},
   "outputs": [
    {
     "name": "stdout",
     "output_type": "stream",
     "text": [
      "-190.5\n",
      "597.5\n"
     ]
    }
   ],
   "source": [
    "iqr=q3-q1\n",
    "low_limit = q1-1.5*iqr\n",
    "up_limit = q3+1.5*iqr\n",
    "print(low_limit)\n",
    "print(up_limit)"
   ]
  },
  {
   "cell_type": "code",
   "execution_count": 38,
   "id": "c90839aa",
   "metadata": {},
   "outputs": [
    {
     "data": {
      "text/plain": [
       "[]"
      ]
     },
     "execution_count": 38,
     "metadata": {},
     "output_type": "execute_result"
    }
   ],
   "source": [
    "outlier = []\n",
    "for x in data['Displacement']:\n",
    "  if((x>up_limit) or (x<low_limit)):\n",
    "    outlier.append(x)\n",
    "outlier"
   ]
  },
  {
   "cell_type": "code",
   "execution_count": 39,
   "id": "c2deea04",
   "metadata": {},
   "outputs": [
    {
     "name": "stdout",
     "output_type": "stream",
     "text": [
      "75.0\n",
      "95.0\n",
      "129.5\n"
     ]
    },
    {
     "name": "stderr",
     "output_type": "stream",
     "text": [
      "C:\\Users\\ATHUL AKSHAY\\AppData\\Local\\Temp\\ipykernel_20716\\1373312855.py:1: DeprecationWarning: the `interpolation=` argument to percentile was renamed to `method=`, which has additional options.\n",
      "Users of the modes 'nearest', 'lower', 'higher', or 'midpoint' are encouraged to review the method they used. (Deprecated NumPy 1.22)\n",
      "  q1 = np.percentile(data['Horsepower'],25,\n",
      "C:\\Users\\ATHUL AKSHAY\\AppData\\Local\\Temp\\ipykernel_20716\\1373312855.py:3: DeprecationWarning: the `interpolation=` argument to percentile was renamed to `method=`, which has additional options.\n",
      "Users of the modes 'nearest', 'lower', 'higher', or 'midpoint' are encouraged to review the method they used. (Deprecated NumPy 1.22)\n",
      "  q2 = np.percentile(data['Horsepower'],50,\n",
      "C:\\Users\\ATHUL AKSHAY\\AppData\\Local\\Temp\\ipykernel_20716\\1373312855.py:5: DeprecationWarning: the `interpolation=` argument to percentile was renamed to `method=`, which has additional options.\n",
      "Users of the modes 'nearest', 'lower', 'higher', or 'midpoint' are encouraged to review the method they used. (Deprecated NumPy 1.22)\n",
      "  q3 = np.percentile(data['Horsepower'],75,\n"
     ]
    }
   ],
   "source": [
    "q1 = np.percentile(data['Horsepower'],25,\n",
    "                   interpolation='midpoint')\n",
    "q2 = np.percentile(data['Horsepower'],50,\n",
    "                   interpolation='midpoint')\n",
    "q3 = np.percentile(data['Horsepower'],75,\n",
    "                   interpolation='midpoint')\n",
    "print(q1)\n",
    "print(q2)\n",
    "print(q3)"
   ]
  },
  {
   "cell_type": "code",
   "execution_count": 40,
   "id": "794a8073",
   "metadata": {},
   "outputs": [
    {
     "data": {
      "text/plain": [
       "95.0"
      ]
     },
     "execution_count": 40,
     "metadata": {},
     "output_type": "execute_result"
    }
   ],
   "source": [
    "data['Horsepower'].median()"
   ]
  },
  {
   "cell_type": "code",
   "execution_count": 41,
   "id": "42524e88",
   "metadata": {},
   "outputs": [
    {
     "name": "stdout",
     "output_type": "stream",
     "text": [
      "-6.75\n",
      "211.25\n"
     ]
    }
   ],
   "source": [
    "iqr=q3-q1\n",
    "low_limit = q1-1.5*iqr\n",
    "up_limit = q3+1.5*iqr\n",
    "print(low_limit)\n",
    "print(up_limit)"
   ]
  },
  {
   "cell_type": "code",
   "execution_count": 42,
   "id": "db072988",
   "metadata": {},
   "outputs": [
    {
     "data": {
      "text/plain": [
       "[220.0, 215.0, 225.0, 225.0, 215.0, 215.0, 225.0, 230.0]"
      ]
     },
     "execution_count": 42,
     "metadata": {},
     "output_type": "execute_result"
    }
   ],
   "source": [
    "outlier = []\n",
    "for x in data['Horsepower']:\n",
    "  if((x>up_limit) or (x<low_limit)):\n",
    "    outlier.append(x)\n",
    "outlier"
   ]
  },
  {
   "cell_type": "code",
   "execution_count": 43,
   "id": "ed970581",
   "metadata": {},
   "outputs": [
    {
     "name": "stdout",
     "output_type": "stream",
     "text": [
      "2227.0\n",
      "2831.5\n",
      "3625.0\n"
     ]
    },
    {
     "name": "stderr",
     "output_type": "stream",
     "text": [
      "C:\\Users\\ATHUL AKSHAY\\AppData\\Local\\Temp\\ipykernel_20716\\2225231516.py:1: DeprecationWarning: the `interpolation=` argument to percentile was renamed to `method=`, which has additional options.\n",
      "Users of the modes 'nearest', 'lower', 'higher', or 'midpoint' are encouraged to review the method they used. (Deprecated NumPy 1.22)\n",
      "  q1 = np.percentile(data['Weight'],25,\n",
      "C:\\Users\\ATHUL AKSHAY\\AppData\\Local\\Temp\\ipykernel_20716\\2225231516.py:3: DeprecationWarning: the `interpolation=` argument to percentile was renamed to `method=`, which has additional options.\n",
      "Users of the modes 'nearest', 'lower', 'higher', or 'midpoint' are encouraged to review the method they used. (Deprecated NumPy 1.22)\n",
      "  q2 = np.percentile(data['Weight'],50,\n",
      "C:\\Users\\ATHUL AKSHAY\\AppData\\Local\\Temp\\ipykernel_20716\\2225231516.py:5: DeprecationWarning: the `interpolation=` argument to percentile was renamed to `method=`, which has additional options.\n",
      "Users of the modes 'nearest', 'lower', 'higher', or 'midpoint' are encouraged to review the method they used. (Deprecated NumPy 1.22)\n",
      "  q3 = np.percentile(data['Weight'],75,\n"
     ]
    }
   ],
   "source": [
    "q1 = np.percentile(data['Weight'],25,\n",
    "                   interpolation='midpoint')\n",
    "q2 = np.percentile(data['Weight'],50,\n",
    "                   interpolation='midpoint')\n",
    "q3 = np.percentile(data['Weight'],75,\n",
    "                   interpolation='midpoint')\n",
    "print(q1)\n",
    "print(q2)\n",
    "print(q3)"
   ]
  },
  {
   "cell_type": "code",
   "execution_count": 44,
   "id": "f7410f67",
   "metadata": {},
   "outputs": [
    {
     "data": {
      "text/plain": [
       "2831.5"
      ]
     },
     "execution_count": 44,
     "metadata": {},
     "output_type": "execute_result"
    }
   ],
   "source": [
    "data['Weight'].median()"
   ]
  },
  {
   "cell_type": "code",
   "execution_count": 45,
   "id": "5fba1524",
   "metadata": {},
   "outputs": [
    {
     "name": "stdout",
     "output_type": "stream",
     "text": [
      "130.0\n",
      "5722.0\n"
     ]
    }
   ],
   "source": [
    "iqr=q3-q1\n",
    "low_limit = q1-1.5*iqr\n",
    "up_limit = q3+1.5*iqr\n",
    "print(low_limit)\n",
    "print(up_limit)"
   ]
  },
  {
   "cell_type": "code",
   "execution_count": 46,
   "id": "a36c4f82",
   "metadata": {},
   "outputs": [
    {
     "data": {
      "text/plain": [
       "[]"
      ]
     },
     "execution_count": 46,
     "metadata": {},
     "output_type": "execute_result"
    }
   ],
   "source": [
    "outlier = []\n",
    "for x in data['Weight']:\n",
    "  if((x>up_limit) or (x<low_limit)):\n",
    "    outlier.append(x)\n",
    "outlier"
   ]
  },
  {
   "cell_type": "code",
   "execution_count": 47,
   "id": "b6028d6f",
   "metadata": {},
   "outputs": [
    {
     "data": {
      "text/plain": [
       "Int64Index([], dtype='int64')"
      ]
     },
     "execution_count": 47,
     "metadata": {},
     "output_type": "execute_result"
    }
   ],
   "source": [
    "ind1 = data['Weight']>up_limit\n",
    "data.loc[ind1].index"
   ]
  },
  {
   "cell_type": "code",
   "execution_count": 48,
   "id": "fb889adf",
   "metadata": {},
   "outputs": [],
   "source": [
    "data.drop([218], inplace = True)"
   ]
  },
  {
   "cell_type": "code",
   "execution_count": 49,
   "id": "715965ac",
   "metadata": {},
   "outputs": [
    {
     "data": {
      "text/plain": [
       "Text(0.5, 1.0, 'Box plot of Weight')"
      ]
     },
     "execution_count": 49,
     "metadata": {},
     "output_type": "execute_result"
    },
    {
     "data": {
      "image/png": "[encoded data removed]",
      "text/plain": [
       "<Figure size 640x480 with 1 Axes>"
      ]
     },
     "metadata": {},
     "output_type": "display_data"
    }
   ],
   "source": [
    "plt.boxplot(data['Weight'])\n",
    "plt.title('Box plot of Weight')"
   ]
  },
  {
   "cell_type": "code",
   "execution_count": 50,
   "id": "7e528345",
   "metadata": {},
   "outputs": [
    {
     "name": "stdout",
     "output_type": "stream",
     "text": [
      "4.0\n",
      "4.0\n",
      "8.0\n"
     ]
    },
    {
     "name": "stderr",
     "output_type": "stream",
     "text": [
      "C:\\Users\\ATHUL AKSHAY\\AppData\\Local\\Temp\\ipykernel_20716\\1413218794.py:1: DeprecationWarning: the `interpolation=` argument to percentile was renamed to `method=`, which has additional options.\n",
      "Users of the modes 'nearest', 'lower', 'higher', or 'midpoint' are encouraged to review the method they used. (Deprecated NumPy 1.22)\n",
      "  q1 = np.percentile(data['Cylinders'],25,\n",
      "C:\\Users\\ATHUL AKSHAY\\AppData\\Local\\Temp\\ipykernel_20716\\1413218794.py:3: DeprecationWarning: the `interpolation=` argument to percentile was renamed to `method=`, which has additional options.\n",
      "Users of the modes 'nearest', 'lower', 'higher', or 'midpoint' are encouraged to review the method they used. (Deprecated NumPy 1.22)\n",
      "  q2 = np.percentile(data['Cylinders'],50,\n",
      "C:\\Users\\ATHUL AKSHAY\\AppData\\Local\\Temp\\ipykernel_20716\\1413218794.py:5: DeprecationWarning: the `interpolation=` argument to percentile was renamed to `method=`, which has additional options.\n",
      "Users of the modes 'nearest', 'lower', 'higher', or 'midpoint' are encouraged to review the method they used. (Deprecated NumPy 1.22)\n",
      "  q3 = np.percentile(data['Cylinders'],75,\n"
     ]
    }
   ],
   "source": [
    "q1 = np.percentile(data['Cylinders'],25,\n",
    "                   interpolation='midpoint')\n",
    "q2 = np.percentile(data['Cylinders'],50,\n",
    "                   interpolation='midpoint')\n",
    "q3 = np.percentile(data['Cylinders'],75,\n",
    "                   interpolation='midpoint')\n",
    "print(q1)\n",
    "print(q2)\n",
    "print(q3)"
   ]
  },
  {
   "cell_type": "code",
   "execution_count": 51,
   "id": "e6da3290",
   "metadata": {},
   "outputs": [
    {
     "data": {
      "text/plain": [
       "4.0"
      ]
     },
     "execution_count": 51,
     "metadata": {},
     "output_type": "execute_result"
    }
   ],
   "source": [
    "data['Cylinders'].median()"
   ]
  },
  {
   "cell_type": "code",
   "execution_count": 52,
   "id": "281e26aa",
   "metadata": {},
   "outputs": [
    {
     "name": "stdout",
     "output_type": "stream",
     "text": [
      "-2.0\n",
      "14.0\n"
     ]
    }
   ],
   "source": [
    "iqr=q3-q1\n",
    "low_limit = q1-1.5*iqr\n",
    "up_limit = q3+1.5*iqr\n",
    "print(low_limit)\n",
    "print(up_limit)"
   ]
  },
  {
   "cell_type": "code",
   "execution_count": 53,
   "id": "dac95470",
   "metadata": {},
   "outputs": [
    {
     "data": {
      "text/plain": [
       "[]"
      ]
     },
     "execution_count": 53,
     "metadata": {},
     "output_type": "execute_result"
    }
   ],
   "source": [
    "outlier = []\n",
    "for x in data['Cylinders']:\n",
    "  if((x>up_limit) or (x<low_limit)):\n",
    "    outlier.append(x)\n",
    "outlier"
   ]
  },
  {
   "cell_type": "code",
   "execution_count": 54,
   "id": "c25e4446",
   "metadata": {},
   "outputs": [
    {
     "data": {
      "text/plain": [
       "Int64Index([], dtype='int64')"
      ]
     },
     "execution_count": 54,
     "metadata": {},
     "output_type": "execute_result"
    }
   ],
   "source": [
    "ind1 = data['Cylinders']>up_limit\n",
    "data.loc[ind1].index"
   ]
  },
  {
   "cell_type": "code",
   "execution_count": 55,
   "id": "479211c7",
   "metadata": {},
   "outputs": [],
   "source": [
    "data.drop([21,  22,  23,  30, 108, 120, 130, 132, 133, 181, 200, 217, 248,\n",
    "            260, 261, 266, 281, 282, 284, 288, 304, 313, 314, 334, 340, 348,\n",
    "            368, 369, 370, 373, 394], inplace = True)"
   ]
  },
  {
   "cell_type": "code",
   "execution_count": 56,
   "id": "2b19b155",
   "metadata": {},
   "outputs": [
    {
     "data": {
      "text/plain": [
       "Text(0.5, 1.0, 'Box plot of Cylinders')"
      ]
     },
     "execution_count": 56,
     "metadata": {},
     "output_type": "execute_result"
    },
    {
     "data": {
      "image/png": "[encoded data removed]",
      "text/plain": [
       "<Figure size 640x480 with 1 Axes>"
      ]
     },
     "metadata": {},
     "output_type": "display_data"
    }
   ],
   "source": [
    "plt.boxplot(data['Cylinders'])\n",
    "plt.title('Box plot of Cylinders')"
   ]
  },
  {
   "cell_type": "code",
   "execution_count": 57,
   "id": "14dd3ee7",
   "metadata": {},
   "outputs": [
    {
     "name": "stdout",
     "output_type": "stream",
     "text": [
      "16.0\n",
      "22.75\n",
      "29.0\n"
     ]
    },
    {
     "name": "stderr",
     "output_type": "stream",
     "text": [
      "C:\\Users\\ATHUL AKSHAY\\AppData\\Local\\Temp\\ipykernel_20716\\2246907021.py:1: DeprecationWarning: the `interpolation=` argument to percentile was renamed to `method=`, which has additional options.\n",
      "Users of the modes 'nearest', 'lower', 'higher', or 'midpoint' are encouraged to review the method they used. (Deprecated NumPy 1.22)\n",
      "  q1 = np.percentile(data['MPG'],25,\n",
      "C:\\Users\\ATHUL AKSHAY\\AppData\\Local\\Temp\\ipykernel_20716\\2246907021.py:3: DeprecationWarning: the `interpolation=` argument to percentile was renamed to `method=`, which has additional options.\n",
      "Users of the modes 'nearest', 'lower', 'higher', or 'midpoint' are encouraged to review the method they used. (Deprecated NumPy 1.22)\n",
      "  q2 = np.percentile(data['MPG'],50,\n",
      "C:\\Users\\ATHUL AKSHAY\\AppData\\Local\\Temp\\ipykernel_20716\\2246907021.py:5: DeprecationWarning: the `interpolation=` argument to percentile was renamed to `method=`, which has additional options.\n",
      "Users of the modes 'nearest', 'lower', 'higher', or 'midpoint' are encouraged to review the method they used. (Deprecated NumPy 1.22)\n",
      "  q3 = np.percentile(data['MPG'],75,\n"
     ]
    }
   ],
   "source": [
    "q1 = np.percentile(data['MPG'],25,\n",
    "                   interpolation='midpoint')\n",
    "q2 = np.percentile(data['MPG'],50,\n",
    "                   interpolation='midpoint')\n",
    "q3 = np.percentile(data['MPG'],75,\n",
    "                   interpolation='midpoint')\n",
    "print(q1)\n",
    "print(q2)\n",
    "print(q3)"
   ]
  },
  {
   "cell_type": "code",
   "execution_count": 58,
   "id": "201be55f",
   "metadata": {},
   "outputs": [
    {
     "data": {
      "text/plain": [
       "22.75"
      ]
     },
     "execution_count": 58,
     "metadata": {},
     "output_type": "execute_result"
    }
   ],
   "source": [
    "data['MPG'].median()"
   ]
  },
  {
   "cell_type": "code",
   "execution_count": 59,
   "id": "d787983f",
   "metadata": {},
   "outputs": [
    {
     "name": "stdout",
     "output_type": "stream",
     "text": [
      "-3.5\n",
      "48.5\n"
     ]
    }
   ],
   "source": [
    "iqr=q3-q1\n",
    "low_limit = q1-1.5*iqr\n",
    "up_limit = q3+1.5*iqr\n",
    "print(low_limit)\n",
    "print(up_limit)"
   ]
  },
  {
   "cell_type": "code",
   "execution_count": 60,
   "id": "bff128fe",
   "metadata": {},
   "outputs": [
    {
     "data": {
      "text/plain": [
       "[]"
      ]
     },
     "execution_count": 60,
     "metadata": {},
     "output_type": "execute_result"
    }
   ],
   "source": [
    "outlier = []\n",
    "for x in data['MPG']:\n",
    "  if((x>up_limit) or (x<low_limit)):\n",
    "    outlier.append(x)\n",
    "outlier"
   ]
  },
  {
   "cell_type": "code",
   "execution_count": 61,
   "id": "830be087",
   "metadata": {},
   "outputs": [
    {
     "data": {
      "text/plain": [
       "Int64Index([], dtype='int64')"
      ]
     },
     "execution_count": 61,
     "metadata": {},
     "output_type": "execute_result"
    }
   ],
   "source": [
    "ind1 = data['MPG']>up_limit\n",
    "data.loc[ind1].index"
   ]
  },
  {
   "cell_type": "code",
   "execution_count": 62,
   "id": "fc99c97b",
   "metadata": {},
   "outputs": [],
   "source": [
    "data.drop([329,332,336], inplace = True)"
   ]
  },
  {
   "cell_type": "code",
   "execution_count": 63,
   "id": "d045f25d",
   "metadata": {},
   "outputs": [
    {
     "data": {
      "text/plain": [
       "Text(0.5, 1.0, 'Box plot of MPG')"
      ]
     },
     "execution_count": 63,
     "metadata": {},
     "output_type": "execute_result"
    },
    {
     "data": {
      "image/png": "[encoded data removed]",
      "text/plain": [
       "<Figure size 640x480 with 1 Axes>"
      ]
     },
     "metadata": {},
     "output_type": "display_data"
    }
   ],
   "source": [
    "plt.boxplot(data['MPG'])\n",
    "plt.title('Box plot of MPG')"
   ]
  },
  {
   "cell_type": "code",
   "execution_count": 64,
   "id": "8118eb2e",
   "metadata": {},
   "outputs": [
    {
     "data": {
      "text/plain": [
       "(367, 9)"
      ]
     },
     "execution_count": 64,
     "metadata": {},
     "output_type": "execute_result"
    }
   ],
   "source": [
    "data.shape"
   ]
  },
  {
   "cell_type": "code",
   "execution_count": 65,
   "id": "5276c546",
   "metadata": {},
   "outputs": [
    {
     "data": {
      "text/plain": [
       "13"
      ]
     },
     "execution_count": 65,
     "metadata": {},
     "output_type": "execute_result"
    }
   ],
   "source": [
    "data.Model.nunique()"
   ]
  },
  {
   "cell_type": "code",
   "execution_count": 66,
   "id": "ffc02a08",
   "metadata": {},
   "outputs": [],
   "source": [
    "data.columns\n",
    "y=data['Model']\n",
    "x=data.drop('Model', axis=1)"
   ]
  },
  {
   "cell_type": "code",
   "execution_count": 67,
   "id": "bed3944f",
   "metadata": {},
   "outputs": [],
   "source": [
    "from sklearn.model_selection import train_test_split\n",
    "x_train,x_test,y_train,y_test = train_test_split(x,y, random_state=42,\n",
    "                                                 test_size=0.2)"
   ]
  },
  {
   "cell_type": "code",
   "execution_count": 68,
   "id": "0ec0616e",
   "metadata": {},
   "outputs": [],
   "source": [
    "from sklearn import linear_model\n",
    "lr=linear_model.LinearRegression()\n",
    "model = lr.fit(x_train,y_train)\n",
    "prediction = model.predict(x_test)"
   ]
  },
  {
   "cell_type": "code",
   "execution_count": 69,
   "id": "fe802389",
   "metadata": {},
   "outputs": [
    {
     "name": "stdout",
     "output_type": "stream",
     "text": [
      "MSE IS: 7.574420592019471\n"
     ]
    }
   ],
   "source": [
    "from sklearn.metrics import mean_squared_error\n",
    "print('MSE IS:', mean_squared_error(y_test,prediction))"
   ]
  },
  {
   "cell_type": "code",
   "execution_count": 70,
   "id": "0f4d2bec",
   "metadata": {},
   "outputs": [
    {
     "name": "stdout",
     "output_type": "stream",
     "text": [
      "R squared value is : 0.5521800977974907\n"
     ]
    }
   ],
   "source": [
    "from sklearn.metrics import r2_score\n",
    "print('R squared value is :', r2_score(y_test,prediction))"
   ]
  },
  {
   "cell_type": "code",
   "execution_count": 71,
   "id": "f3dccd5b",
   "metadata": {},
   "outputs": [
    {
     "data": {
      "text/html": [
       "<div>\n",
       "<style scoped>\n",
       "    .dataframe tbody tr th:only-of-type {\n",
       "        vertical-align: middle;\n",
       "    }\n",
       "\n",
       "    .dataframe tbody tr th {\n",
       "        vertical-align: top;\n",
       "    }\n",
       "\n",
       "    .dataframe thead th {\n",
       "        text-align: right;\n",
       "    }\n",
       "</style>\n",
       "<table border=\"1\" class=\"dataframe\">\n",
       "  <thead>\n",
       "    <tr style=\"text-align: right;\">\n",
       "      <th></th>\n",
       "      <th>Car</th>\n",
       "      <th>MPG</th>\n",
       "      <th>Cylinders</th>\n",
       "      <th>Displacement</th>\n",
       "      <th>Horsepower</th>\n",
       "      <th>Weight</th>\n",
       "      <th>Acceleration</th>\n",
       "      <th>Origin</th>\n",
       "    </tr>\n",
       "  </thead>\n",
       "  <tbody>\n",
       "    <tr>\n",
       "      <th>count</th>\n",
       "      <td>367.000000</td>\n",
       "      <td>367.000000</td>\n",
       "      <td>367.00000</td>\n",
       "      <td>367.000000</td>\n",
       "      <td>367.000000</td>\n",
       "      <td>367.000000</td>\n",
       "      <td>367.000000</td>\n",
       "      <td>367.000000</td>\n",
       "    </tr>\n",
       "    <tr>\n",
       "      <th>mean</th>\n",
       "      <td>149.204360</td>\n",
       "      <td>22.793733</td>\n",
       "      <td>5.46594</td>\n",
       "      <td>198.246594</td>\n",
       "      <td>104.910082</td>\n",
       "      <td>2994.986376</td>\n",
       "      <td>15.398638</td>\n",
       "      <td>1.474114</td>\n",
       "    </tr>\n",
       "    <tr>\n",
       "      <th>std</th>\n",
       "      <td>90.652819</td>\n",
       "      <td>8.355541</td>\n",
       "      <td>1.78283</td>\n",
       "      <td>109.137640</td>\n",
       "      <td>41.466625</td>\n",
       "      <td>880.296021</td>\n",
       "      <td>2.701896</td>\n",
       "      <td>0.763770</td>\n",
       "    </tr>\n",
       "    <tr>\n",
       "      <th>min</th>\n",
       "      <td>0.000000</td>\n",
       "      <td>0.000000</td>\n",
       "      <td>3.00000</td>\n",
       "      <td>68.000000</td>\n",
       "      <td>0.000000</td>\n",
       "      <td>1613.000000</td>\n",
       "      <td>8.000000</td>\n",
       "      <td>0.000000</td>\n",
       "    </tr>\n",
       "    <tr>\n",
       "      <th>25%</th>\n",
       "      <td>64.500000</td>\n",
       "      <td>16.000000</td>\n",
       "      <td>4.00000</td>\n",
       "      <td>99.000000</td>\n",
       "      <td>75.000000</td>\n",
       "      <td>2212.500000</td>\n",
       "      <td>13.500000</td>\n",
       "      <td>1.000000</td>\n",
       "    </tr>\n",
       "    <tr>\n",
       "      <th>50%</th>\n",
       "      <td>147.000000</td>\n",
       "      <td>22.400000</td>\n",
       "      <td>4.00000</td>\n",
       "      <td>140.000000</td>\n",
       "      <td>92.000000</td>\n",
       "      <td>2789.000000</td>\n",
       "      <td>15.400000</td>\n",
       "      <td>2.000000</td>\n",
       "    </tr>\n",
       "    <tr>\n",
       "      <th>75%</th>\n",
       "      <td>231.500000</td>\n",
       "      <td>29.000000</td>\n",
       "      <td>8.00000</td>\n",
       "      <td>302.000000</td>\n",
       "      <td>137.500000</td>\n",
       "      <td>3709.000000</td>\n",
       "      <td>17.000000</td>\n",
       "      <td>2.000000</td>\n",
       "    </tr>\n",
       "    <tr>\n",
       "      <th>max</th>\n",
       "      <td>305.000000</td>\n",
       "      <td>43.100000</td>\n",
       "      <td>8.00000</td>\n",
       "      <td>455.000000</td>\n",
       "      <td>230.000000</td>\n",
       "      <td>5140.000000</td>\n",
       "      <td>22.200000</td>\n",
       "      <td>2.000000</td>\n",
       "    </tr>\n",
       "  </tbody>\n",
       "</table>\n",
       "</div>"
      ],
      "text/plain": [
       "              Car         MPG  Cylinders  Displacement  Horsepower  \\\n",
       "count  367.000000  367.000000  367.00000    367.000000  367.000000   \n",
       "mean   149.204360   22.793733    5.46594    198.246594  104.910082   \n",
       "std     90.652819    8.355541    1.78283    109.137640   41.466625   \n",
       "min      0.000000    0.000000    3.00000     68.000000    0.000000   \n",
       "25%     64.500000   16.000000    4.00000     99.000000   75.000000   \n",
       "50%    147.000000   22.400000    4.00000    140.000000   92.000000   \n",
       "75%    231.500000   29.000000    8.00000    302.000000  137.500000   \n",
       "max    305.000000   43.100000    8.00000    455.000000  230.000000   \n",
       "\n",
       "            Weight  Acceleration      Origin  \n",
       "count   367.000000    367.000000  367.000000  \n",
       "mean   2994.986376     15.398638    1.474114  \n",
       "std     880.296021      2.701896    0.763770  \n",
       "min    1613.000000      8.000000    0.000000  \n",
       "25%    2212.500000     13.500000    1.000000  \n",
       "50%    2789.000000     15.400000    2.000000  \n",
       "75%    3709.000000     17.000000    2.000000  \n",
       "max    5140.000000     22.200000    2.000000  "
      ]
     },
     "execution_count": 71,
     "metadata": {},
     "output_type": "execute_result"
    }
   ],
   "source": [
    "x.describe()"
   ]
  },
  {
   "cell_type": "code",
   "execution_count": 72,
   "id": "47f68762",
   "metadata": {},
   "outputs": [
    {
     "data": {
      "text/plain": [
       "pandas.core.frame.DataFrame"
      ]
     },
     "execution_count": 72,
     "metadata": {},
     "output_type": "execute_result"
    }
   ],
   "source": [
    "type(x)"
   ]
  },
  {
   "cell_type": "code",
   "execution_count": 73,
   "id": "e957eda3",
   "metadata": {},
   "outputs": [
    {
     "data": {
      "text/html": [
       "<div>\n",
       "<style scoped>\n",
       "    .dataframe tbody tr th:only-of-type {\n",
       "        vertical-align: middle;\n",
       "    }\n",
       "\n",
       "    .dataframe tbody tr th {\n",
       "        vertical-align: top;\n",
       "    }\n",
       "\n",
       "    .dataframe thead th {\n",
       "        text-align: right;\n",
       "    }\n",
       "</style>\n",
       "<table border=\"1\" class=\"dataframe\">\n",
       "  <thead>\n",
       "    <tr style=\"text-align: right;\">\n",
       "      <th></th>\n",
       "      <th>Car</th>\n",
       "      <th>MPG</th>\n",
       "      <th>Cylinders</th>\n",
       "      <th>Displacement</th>\n",
       "      <th>Horsepower</th>\n",
       "      <th>Weight</th>\n",
       "      <th>Acceleration</th>\n",
       "      <th>Origin</th>\n",
       "    </tr>\n",
       "  </thead>\n",
       "  <tbody>\n",
       "    <tr>\n",
       "      <th>count</th>\n",
       "      <td>367.000000</td>\n",
       "      <td>367.000000</td>\n",
       "      <td>367.00000</td>\n",
       "      <td>367.000000</td>\n",
       "      <td>367.000000</td>\n",
       "      <td>367.000000</td>\n",
       "      <td>367.000000</td>\n",
       "      <td>367.000000</td>\n",
       "    </tr>\n",
       "    <tr>\n",
       "      <th>mean</th>\n",
       "      <td>149.204360</td>\n",
       "      <td>22.793733</td>\n",
       "      <td>5.46594</td>\n",
       "      <td>198.246594</td>\n",
       "      <td>104.910082</td>\n",
       "      <td>2994.986376</td>\n",
       "      <td>15.398638</td>\n",
       "      <td>1.474114</td>\n",
       "    </tr>\n",
       "    <tr>\n",
       "      <th>std</th>\n",
       "      <td>90.652819</td>\n",
       "      <td>8.355541</td>\n",
       "      <td>1.78283</td>\n",
       "      <td>109.137640</td>\n",
       "      <td>41.466625</td>\n",
       "      <td>880.296021</td>\n",
       "      <td>2.701896</td>\n",
       "      <td>0.763770</td>\n",
       "    </tr>\n",
       "    <tr>\n",
       "      <th>min</th>\n",
       "      <td>0.000000</td>\n",
       "      <td>0.000000</td>\n",
       "      <td>3.00000</td>\n",
       "      <td>68.000000</td>\n",
       "      <td>0.000000</td>\n",
       "      <td>1613.000000</td>\n",
       "      <td>8.000000</td>\n",
       "      <td>0.000000</td>\n",
       "    </tr>\n",
       "    <tr>\n",
       "      <th>25%</th>\n",
       "      <td>64.500000</td>\n",
       "      <td>16.000000</td>\n",
       "      <td>4.00000</td>\n",
       "      <td>99.000000</td>\n",
       "      <td>75.000000</td>\n",
       "      <td>2212.500000</td>\n",
       "      <td>13.500000</td>\n",
       "      <td>1.000000</td>\n",
       "    </tr>\n",
       "    <tr>\n",
       "      <th>50%</th>\n",
       "      <td>147.000000</td>\n",
       "      <td>22.400000</td>\n",
       "      <td>4.00000</td>\n",
       "      <td>140.000000</td>\n",
       "      <td>92.000000</td>\n",
       "      <td>2789.000000</td>\n",
       "      <td>15.400000</td>\n",
       "      <td>2.000000</td>\n",
       "    </tr>\n",
       "    <tr>\n",
       "      <th>75%</th>\n",
       "      <td>231.500000</td>\n",
       "      <td>29.000000</td>\n",
       "      <td>8.00000</td>\n",
       "      <td>302.000000</td>\n",
       "      <td>137.500000</td>\n",
       "      <td>3709.000000</td>\n",
       "      <td>17.000000</td>\n",
       "      <td>2.000000</td>\n",
       "    </tr>\n",
       "    <tr>\n",
       "      <th>max</th>\n",
       "      <td>305.000000</td>\n",
       "      <td>43.100000</td>\n",
       "      <td>8.00000</td>\n",
       "      <td>455.000000</td>\n",
       "      <td>230.000000</td>\n",
       "      <td>5140.000000</td>\n",
       "      <td>22.200000</td>\n",
       "      <td>2.000000</td>\n",
       "    </tr>\n",
       "  </tbody>\n",
       "</table>\n",
       "</div>"
      ],
      "text/plain": [
       "              Car         MPG  Cylinders  Displacement  Horsepower  \\\n",
       "count  367.000000  367.000000  367.00000    367.000000  367.000000   \n",
       "mean   149.204360   22.793733    5.46594    198.246594  104.910082   \n",
       "std     90.652819    8.355541    1.78283    109.137640   41.466625   \n",
       "min      0.000000    0.000000    3.00000     68.000000    0.000000   \n",
       "25%     64.500000   16.000000    4.00000     99.000000   75.000000   \n",
       "50%    147.000000   22.400000    4.00000    140.000000   92.000000   \n",
       "75%    231.500000   29.000000    8.00000    302.000000  137.500000   \n",
       "max    305.000000   43.100000    8.00000    455.000000  230.000000   \n",
       "\n",
       "            Weight  Acceleration      Origin  \n",
       "count   367.000000    367.000000  367.000000  \n",
       "mean   2994.986376     15.398638    1.474114  \n",
       "std     880.296021      2.701896    0.763770  \n",
       "min    1613.000000      8.000000    0.000000  \n",
       "25%    2212.500000     13.500000    1.000000  \n",
       "50%    2789.000000     15.400000    2.000000  \n",
       "75%    3709.000000     17.000000    2.000000  \n",
       "max    5140.000000     22.200000    2.000000  "
      ]
     },
     "execution_count": 73,
     "metadata": {},
     "output_type": "execute_result"
    }
   ],
   "source": [
    "x=pd.DataFrame(x)\n",
    "x.describe()"
   ]
  },
  {
   "cell_type": "code",
   "execution_count": 74,
   "id": "07532482",
   "metadata": {},
   "outputs": [
    {
     "name": "stdout",
     "output_type": "stream",
     "text": [
      "MSE Is: 7.574420592019471\n",
      " R squared value is : 0.5521800977974907\n"
     ]
    }
   ],
   "source": [
    "x_train,x_test,y_train,y_test=train_test_split(x,y,random_state=42,test_size=0.2)\n",
    "lr=linear_model.LinearRegression()\n",
    "model=lr.fit(x_train,y_train)\n",
    "prediction=model.predict(x_test)\n",
    "print('MSE Is:',mean_squared_error(y_test,prediction))\n",
    "print(' R squared value is :',r2_score(y_test,prediction))"
   ]
  },
  {
   "cell_type": "code",
   "execution_count": 75,
   "id": "3dc38768",
   "metadata": {},
   "outputs": [
    {
     "data": {
      "text/html": [
       "<div>\n",
       "<style scoped>\n",
       "    .dataframe tbody tr th:only-of-type {\n",
       "        vertical-align: middle;\n",
       "    }\n",
       "\n",
       "    .dataframe tbody tr th {\n",
       "        vertical-align: top;\n",
       "    }\n",
       "\n",
       "    .dataframe thead th {\n",
       "        text-align: right;\n",
       "    }\n",
       "</style>\n",
       "<table border=\"1\" class=\"dataframe\">\n",
       "  <thead>\n",
       "    <tr style=\"text-align: right;\">\n",
       "      <th></th>\n",
       "      <th>Car</th>\n",
       "      <th>MPG</th>\n",
       "      <th>Cylinders</th>\n",
       "      <th>Displacement</th>\n",
       "      <th>Horsepower</th>\n",
       "      <th>Weight</th>\n",
       "      <th>Acceleration</th>\n",
       "      <th>Origin</th>\n",
       "    </tr>\n",
       "  </thead>\n",
       "  <tbody>\n",
       "    <tr>\n",
       "      <th>count</th>\n",
       "      <td>367.000000</td>\n",
       "      <td>367.000000</td>\n",
       "      <td>367.00000</td>\n",
       "      <td>367.000000</td>\n",
       "      <td>367.000000</td>\n",
       "      <td>367.000000</td>\n",
       "      <td>367.000000</td>\n",
       "      <td>367.000000</td>\n",
       "    </tr>\n",
       "    <tr>\n",
       "      <th>mean</th>\n",
       "      <td>149.204360</td>\n",
       "      <td>22.793733</td>\n",
       "      <td>5.46594</td>\n",
       "      <td>198.246594</td>\n",
       "      <td>104.910082</td>\n",
       "      <td>2994.986376</td>\n",
       "      <td>15.398638</td>\n",
       "      <td>1.474114</td>\n",
       "    </tr>\n",
       "    <tr>\n",
       "      <th>std</th>\n",
       "      <td>90.652819</td>\n",
       "      <td>8.355541</td>\n",
       "      <td>1.78283</td>\n",
       "      <td>109.137640</td>\n",
       "      <td>41.466625</td>\n",
       "      <td>880.296021</td>\n",
       "      <td>2.701896</td>\n",
       "      <td>0.763770</td>\n",
       "    </tr>\n",
       "    <tr>\n",
       "      <th>min</th>\n",
       "      <td>0.000000</td>\n",
       "      <td>0.000000</td>\n",
       "      <td>3.00000</td>\n",
       "      <td>68.000000</td>\n",
       "      <td>0.000000</td>\n",
       "      <td>1613.000000</td>\n",
       "      <td>8.000000</td>\n",
       "      <td>0.000000</td>\n",
       "    </tr>\n",
       "    <tr>\n",
       "      <th>25%</th>\n",
       "      <td>64.500000</td>\n",
       "      <td>16.000000</td>\n",
       "      <td>4.00000</td>\n",
       "      <td>99.000000</td>\n",
       "      <td>75.000000</td>\n",
       "      <td>2212.500000</td>\n",
       "      <td>13.500000</td>\n",
       "      <td>1.000000</td>\n",
       "    </tr>\n",
       "    <tr>\n",
       "      <th>50%</th>\n",
       "      <td>147.000000</td>\n",
       "      <td>22.400000</td>\n",
       "      <td>4.00000</td>\n",
       "      <td>140.000000</td>\n",
       "      <td>92.000000</td>\n",
       "      <td>2789.000000</td>\n",
       "      <td>15.400000</td>\n",
       "      <td>2.000000</td>\n",
       "    </tr>\n",
       "    <tr>\n",
       "      <th>75%</th>\n",
       "      <td>231.500000</td>\n",
       "      <td>29.000000</td>\n",
       "      <td>8.00000</td>\n",
       "      <td>302.000000</td>\n",
       "      <td>137.500000</td>\n",
       "      <td>3709.000000</td>\n",
       "      <td>17.000000</td>\n",
       "      <td>2.000000</td>\n",
       "    </tr>\n",
       "    <tr>\n",
       "      <th>max</th>\n",
       "      <td>305.000000</td>\n",
       "      <td>43.100000</td>\n",
       "      <td>8.00000</td>\n",
       "      <td>455.000000</td>\n",
       "      <td>230.000000</td>\n",
       "      <td>5140.000000</td>\n",
       "      <td>22.200000</td>\n",
       "      <td>2.000000</td>\n",
       "    </tr>\n",
       "  </tbody>\n",
       "</table>\n",
       "</div>"
      ],
      "text/plain": [
       "              Car         MPG  Cylinders  Displacement  Horsepower  \\\n",
       "count  367.000000  367.000000  367.00000    367.000000  367.000000   \n",
       "mean   149.204360   22.793733    5.46594    198.246594  104.910082   \n",
       "std     90.652819    8.355541    1.78283    109.137640   41.466625   \n",
       "min      0.000000    0.000000    3.00000     68.000000    0.000000   \n",
       "25%     64.500000   16.000000    4.00000     99.000000   75.000000   \n",
       "50%    147.000000   22.400000    4.00000    140.000000   92.000000   \n",
       "75%    231.500000   29.000000    8.00000    302.000000  137.500000   \n",
       "max    305.000000   43.100000    8.00000    455.000000  230.000000   \n",
       "\n",
       "            Weight  Acceleration      Origin  \n",
       "count   367.000000    367.000000  367.000000  \n",
       "mean   2994.986376     15.398638    1.474114  \n",
       "std     880.296021      2.701896    0.763770  \n",
       "min    1613.000000      8.000000    0.000000  \n",
       "25%    2212.500000     13.500000    1.000000  \n",
       "50%    2789.000000     15.400000    2.000000  \n",
       "75%    3709.000000     17.000000    2.000000  \n",
       "max    5140.000000     22.200000    2.000000  "
      ]
     },
     "execution_count": 75,
     "metadata": {},
     "output_type": "execute_result"
    }
   ],
   "source": [
    "x=data.drop('Model',axis=1)\n",
    "x.describe()"
   ]
  },
  {
   "cell_type": "code",
   "execution_count": 76,
   "id": "5513b70e",
   "metadata": {},
   "outputs": [],
   "source": [
    "from sklearn import preprocessing"
   ]
  },
  {
   "cell_type": "code",
   "execution_count": 77,
   "id": "a67b542a",
   "metadata": {},
   "outputs": [
    {
     "data": {
      "text/html": [
       "<div>\n",
       "<style scoped>\n",
       "    .dataframe tbody tr th:only-of-type {\n",
       "        vertical-align: middle;\n",
       "    }\n",
       "\n",
       "    .dataframe tbody tr th {\n",
       "        vertical-align: top;\n",
       "    }\n",
       "\n",
       "    .dataframe thead th {\n",
       "        text-align: right;\n",
       "    }\n",
       "</style>\n",
       "<table border=\"1\" class=\"dataframe\">\n",
       "  <thead>\n",
       "    <tr style=\"text-align: right;\">\n",
       "      <th></th>\n",
       "      <th>0</th>\n",
       "      <th>1</th>\n",
       "      <th>2</th>\n",
       "      <th>3</th>\n",
       "      <th>4</th>\n",
       "      <th>5</th>\n",
       "      <th>6</th>\n",
       "      <th>7</th>\n",
       "    </tr>\n",
       "  </thead>\n",
       "  <tbody>\n",
       "    <tr>\n",
       "      <th>count</th>\n",
       "      <td>367.000000</td>\n",
       "      <td>367.000000</td>\n",
       "      <td>367.000000</td>\n",
       "      <td>367.000000</td>\n",
       "      <td>367.000000</td>\n",
       "      <td>367.000000</td>\n",
       "      <td>367.000000</td>\n",
       "      <td>367.000000</td>\n",
       "    </tr>\n",
       "    <tr>\n",
       "      <th>mean</th>\n",
       "      <td>0.489195</td>\n",
       "      <td>0.528857</td>\n",
       "      <td>0.493188</td>\n",
       "      <td>0.336555</td>\n",
       "      <td>0.456131</td>\n",
       "      <td>0.391831</td>\n",
       "      <td>0.521031</td>\n",
       "      <td>0.737057</td>\n",
       "    </tr>\n",
       "    <tr>\n",
       "      <th>std</th>\n",
       "      <td>0.297222</td>\n",
       "      <td>0.193864</td>\n",
       "      <td>0.356566</td>\n",
       "      <td>0.282009</td>\n",
       "      <td>0.180290</td>\n",
       "      <td>0.249588</td>\n",
       "      <td>0.190274</td>\n",
       "      <td>0.381885</td>\n",
       "    </tr>\n",
       "    <tr>\n",
       "      <th>min</th>\n",
       "      <td>0.000000</td>\n",
       "      <td>0.000000</td>\n",
       "      <td>0.000000</td>\n",
       "      <td>0.000000</td>\n",
       "      <td>0.000000</td>\n",
       "      <td>0.000000</td>\n",
       "      <td>0.000000</td>\n",
       "      <td>0.000000</td>\n",
       "    </tr>\n",
       "    <tr>\n",
       "      <th>25%</th>\n",
       "      <td>0.211475</td>\n",
       "      <td>0.371230</td>\n",
       "      <td>0.200000</td>\n",
       "      <td>0.080103</td>\n",
       "      <td>0.326087</td>\n",
       "      <td>0.169974</td>\n",
       "      <td>0.387324</td>\n",
       "      <td>0.500000</td>\n",
       "    </tr>\n",
       "    <tr>\n",
       "      <th>50%</th>\n",
       "      <td>0.481967</td>\n",
       "      <td>0.519722</td>\n",
       "      <td>0.200000</td>\n",
       "      <td>0.186047</td>\n",
       "      <td>0.400000</td>\n",
       "      <td>0.333428</td>\n",
       "      <td>0.521127</td>\n",
       "      <td>1.000000</td>\n",
       "    </tr>\n",
       "    <tr>\n",
       "      <th>75%</th>\n",
       "      <td>0.759016</td>\n",
       "      <td>0.672854</td>\n",
       "      <td>1.000000</td>\n",
       "      <td>0.604651</td>\n",
       "      <td>0.597826</td>\n",
       "      <td>0.594273</td>\n",
       "      <td>0.633803</td>\n",
       "      <td>1.000000</td>\n",
       "    </tr>\n",
       "    <tr>\n",
       "      <th>max</th>\n",
       "      <td>1.000000</td>\n",
       "      <td>1.000000</td>\n",
       "      <td>1.000000</td>\n",
       "      <td>1.000000</td>\n",
       "      <td>1.000000</td>\n",
       "      <td>1.000000</td>\n",
       "      <td>1.000000</td>\n",
       "      <td>1.000000</td>\n",
       "    </tr>\n",
       "  </tbody>\n",
       "</table>\n",
       "</div>"
      ],
      "text/plain": [
       "                0           1           2           3           4           5  \\\n",
       "count  367.000000  367.000000  367.000000  367.000000  367.000000  367.000000   \n",
       "mean     0.489195    0.528857    0.493188    0.336555    0.456131    0.391831   \n",
       "std      0.297222    0.193864    0.356566    0.282009    0.180290    0.249588   \n",
       "min      0.000000    0.000000    0.000000    0.000000    0.000000    0.000000   \n",
       "25%      0.211475    0.371230    0.200000    0.080103    0.326087    0.169974   \n",
       "50%      0.481967    0.519722    0.200000    0.186047    0.400000    0.333428   \n",
       "75%      0.759016    0.672854    1.000000    0.604651    0.597826    0.594273   \n",
       "max      1.000000    1.000000    1.000000    1.000000    1.000000    1.000000   \n",
       "\n",
       "                6           7  \n",
       "count  367.000000  367.000000  \n",
       "mean     0.521031    0.737057  \n",
       "std      0.190274    0.381885  \n",
       "min      0.000000    0.000000  \n",
       "25%      0.387324    0.500000  \n",
       "50%      0.521127    1.000000  \n",
       "75%      0.633803    1.000000  \n",
       "max      1.000000    1.000000  "
      ]
     },
     "execution_count": 77,
     "metadata": {},
     "output_type": "execute_result"
    }
   ],
   "source": [
    "min_max = preprocessing.MinMaxScaler(feature_range=(0,1))\n",
    "x= min_max.fit_transform(x)\n",
    "x= pd.DataFrame(x)\n",
    "x.describe()"
   ]
  },
  {
   "cell_type": "code",
   "execution_count": 78,
   "id": "1cbddd20",
   "metadata": {},
   "outputs": [
    {
     "name": "stdout",
     "output_type": "stream",
     "text": [
      "MSE Is: 7.574420592019418\n",
      "R squared value is : 0.5521800977974938\n"
     ]
    }
   ],
   "source": [
    "x_train,x_test,y_train,y_test = train_test_split(x,y,random_state=42,test_size=0.2)\n",
    "\n",
    "lr=linear_model.LinearRegression()\n",
    "model=lr.fit(x_train,y_train)\n",
    "prediction=model.predict(x_test)\n",
    "print('MSE Is:',mean_squared_error(y_test,prediction))\n",
    "print('R squared value is :',r2_score(y_test,prediction))"
   ]
  },
  {
   "cell_type": "code",
   "execution_count": 79,
   "id": "e0f6f46b",
   "metadata": {},
   "outputs": [
    {
     "data": {
      "text/html": [
       "<div>\n",
       "<style scoped>\n",
       "    .dataframe tbody tr th:only-of-type {\n",
       "        vertical-align: middle;\n",
       "    }\n",
       "\n",
       "    .dataframe tbody tr th {\n",
       "        vertical-align: top;\n",
       "    }\n",
       "\n",
       "    .dataframe thead th {\n",
       "        text-align: right;\n",
       "    }\n",
       "</style>\n",
       "<table border=\"1\" class=\"dataframe\">\n",
       "  <thead>\n",
       "    <tr style=\"text-align: right;\">\n",
       "      <th></th>\n",
       "      <th>Car</th>\n",
       "      <th>MPG</th>\n",
       "      <th>Cylinders</th>\n",
       "      <th>Displacement</th>\n",
       "      <th>Horsepower</th>\n",
       "      <th>Weight</th>\n",
       "      <th>Acceleration</th>\n",
       "      <th>Origin</th>\n",
       "    </tr>\n",
       "  </thead>\n",
       "  <tbody>\n",
       "    <tr>\n",
       "      <th>count</th>\n",
       "      <td>367.000000</td>\n",
       "      <td>367.000000</td>\n",
       "      <td>367.00000</td>\n",
       "      <td>367.000000</td>\n",
       "      <td>367.000000</td>\n",
       "      <td>367.000000</td>\n",
       "      <td>367.000000</td>\n",
       "      <td>367.000000</td>\n",
       "    </tr>\n",
       "    <tr>\n",
       "      <th>mean</th>\n",
       "      <td>149.204360</td>\n",
       "      <td>22.793733</td>\n",
       "      <td>5.46594</td>\n",
       "      <td>198.246594</td>\n",
       "      <td>104.910082</td>\n",
       "      <td>2994.986376</td>\n",
       "      <td>15.398638</td>\n",
       "      <td>1.474114</td>\n",
       "    </tr>\n",
       "    <tr>\n",
       "      <th>std</th>\n",
       "      <td>90.652819</td>\n",
       "      <td>8.355541</td>\n",
       "      <td>1.78283</td>\n",
       "      <td>109.137640</td>\n",
       "      <td>41.466625</td>\n",
       "      <td>880.296021</td>\n",
       "      <td>2.701896</td>\n",
       "      <td>0.763770</td>\n",
       "    </tr>\n",
       "    <tr>\n",
       "      <th>min</th>\n",
       "      <td>0.000000</td>\n",
       "      <td>0.000000</td>\n",
       "      <td>3.00000</td>\n",
       "      <td>68.000000</td>\n",
       "      <td>0.000000</td>\n",
       "      <td>1613.000000</td>\n",
       "      <td>8.000000</td>\n",
       "      <td>0.000000</td>\n",
       "    </tr>\n",
       "    <tr>\n",
       "      <th>25%</th>\n",
       "      <td>64.500000</td>\n",
       "      <td>16.000000</td>\n",
       "      <td>4.00000</td>\n",
       "      <td>99.000000</td>\n",
       "      <td>75.000000</td>\n",
       "      <td>2212.500000</td>\n",
       "      <td>13.500000</td>\n",
       "      <td>1.000000</td>\n",
       "    </tr>\n",
       "    <tr>\n",
       "      <th>50%</th>\n",
       "      <td>147.000000</td>\n",
       "      <td>22.400000</td>\n",
       "      <td>4.00000</td>\n",
       "      <td>140.000000</td>\n",
       "      <td>92.000000</td>\n",
       "      <td>2789.000000</td>\n",
       "      <td>15.400000</td>\n",
       "      <td>2.000000</td>\n",
       "    </tr>\n",
       "    <tr>\n",
       "      <th>75%</th>\n",
       "      <td>231.500000</td>\n",
       "      <td>29.000000</td>\n",
       "      <td>8.00000</td>\n",
       "      <td>302.000000</td>\n",
       "      <td>137.500000</td>\n",
       "      <td>3709.000000</td>\n",
       "      <td>17.000000</td>\n",
       "      <td>2.000000</td>\n",
       "    </tr>\n",
       "    <tr>\n",
       "      <th>max</th>\n",
       "      <td>305.000000</td>\n",
       "      <td>43.100000</td>\n",
       "      <td>8.00000</td>\n",
       "      <td>455.000000</td>\n",
       "      <td>230.000000</td>\n",
       "      <td>5140.000000</td>\n",
       "      <td>22.200000</td>\n",
       "      <td>2.000000</td>\n",
       "    </tr>\n",
       "  </tbody>\n",
       "</table>\n",
       "</div>"
      ],
      "text/plain": [
       "              Car         MPG  Cylinders  Displacement  Horsepower  \\\n",
       "count  367.000000  367.000000  367.00000    367.000000  367.000000   \n",
       "mean   149.204360   22.793733    5.46594    198.246594  104.910082   \n",
       "std     90.652819    8.355541    1.78283    109.137640   41.466625   \n",
       "min      0.000000    0.000000    3.00000     68.000000    0.000000   \n",
       "25%     64.500000   16.000000    4.00000     99.000000   75.000000   \n",
       "50%    147.000000   22.400000    4.00000    140.000000   92.000000   \n",
       "75%    231.500000   29.000000    8.00000    302.000000  137.500000   \n",
       "max    305.000000   43.100000    8.00000    455.000000  230.000000   \n",
       "\n",
       "            Weight  Acceleration      Origin  \n",
       "count   367.000000    367.000000  367.000000  \n",
       "mean   2994.986376     15.398638    1.474114  \n",
       "std     880.296021      2.701896    0.763770  \n",
       "min    1613.000000      8.000000    0.000000  \n",
       "25%    2212.500000     13.500000    1.000000  \n",
       "50%    2789.000000     15.400000    2.000000  \n",
       "75%    3709.000000     17.000000    2.000000  \n",
       "max    5140.000000     22.200000    2.000000  "
      ]
     },
     "execution_count": 79,
     "metadata": {},
     "output_type": "execute_result"
    }
   ],
   "source": [
    "X=data.drop('Model',axis=1)\n",
    "X.describe()\n"
   ]
  },
  {
   "cell_type": "code",
   "execution_count": 80,
   "id": "681b0ff8",
   "metadata": {},
   "outputs": [],
   "source": [
    "x=preprocessing.normalize(x)"
   ]
  },
  {
   "cell_type": "code",
   "execution_count": 81,
   "id": "a6f8e3c9",
   "metadata": {},
   "outputs": [
    {
     "data": {
      "text/html": [
       "<div>\n",
       "<style scoped>\n",
       "    .dataframe tbody tr th:only-of-type {\n",
       "        vertical-align: middle;\n",
       "    }\n",
       "\n",
       "    .dataframe tbody tr th {\n",
       "        vertical-align: top;\n",
       "    }\n",
       "\n",
       "    .dataframe thead th {\n",
       "        text-align: right;\n",
       "    }\n",
       "</style>\n",
       "<table border=\"1\" class=\"dataframe\">\n",
       "  <thead>\n",
       "    <tr style=\"text-align: right;\">\n",
       "      <th></th>\n",
       "      <th>0</th>\n",
       "      <th>1</th>\n",
       "      <th>2</th>\n",
       "      <th>3</th>\n",
       "      <th>4</th>\n",
       "      <th>5</th>\n",
       "      <th>6</th>\n",
       "      <th>7</th>\n",
       "    </tr>\n",
       "  </thead>\n",
       "  <tbody>\n",
       "    <tr>\n",
       "      <th>count</th>\n",
       "      <td>367.000000</td>\n",
       "      <td>367.000000</td>\n",
       "      <td>367.000000</td>\n",
       "      <td>367.000000</td>\n",
       "      <td>367.000000</td>\n",
       "      <td>367.000000</td>\n",
       "      <td>367.000000</td>\n",
       "      <td>367.000000</td>\n",
       "    </tr>\n",
       "    <tr>\n",
       "      <th>mean</th>\n",
       "      <td>0.320149</td>\n",
       "      <td>0.358405</td>\n",
       "      <td>0.282554</td>\n",
       "      <td>0.188481</td>\n",
       "      <td>0.281638</td>\n",
       "      <td>0.229494</td>\n",
       "      <td>0.346549</td>\n",
       "      <td>0.441722</td>\n",
       "    </tr>\n",
       "    <tr>\n",
       "      <th>std</th>\n",
       "      <td>0.209126</td>\n",
       "      <td>0.172477</td>\n",
       "      <td>0.162591</td>\n",
       "      <td>0.132668</td>\n",
       "      <td>0.079377</td>\n",
       "      <td>0.113328</td>\n",
       "      <td>0.146776</td>\n",
       "      <td>0.221005</td>\n",
       "    </tr>\n",
       "    <tr>\n",
       "      <th>min</th>\n",
       "      <td>0.000000</td>\n",
       "      <td>0.000000</td>\n",
       "      <td>0.000000</td>\n",
       "      <td>0.000000</td>\n",
       "      <td>0.000000</td>\n",
       "      <td>0.000000</td>\n",
       "      <td>0.000000</td>\n",
       "      <td>0.000000</td>\n",
       "    </tr>\n",
       "    <tr>\n",
       "      <th>25%</th>\n",
       "      <td>0.126576</td>\n",
       "      <td>0.204693</td>\n",
       "      <td>0.140677</td>\n",
       "      <td>0.066467</td>\n",
       "      <td>0.232790</td>\n",
       "      <td>0.129050</td>\n",
       "      <td>0.225868</td>\n",
       "      <td>0.369775</td>\n",
       "    </tr>\n",
       "    <tr>\n",
       "      <th>50%</th>\n",
       "      <td>0.294449</td>\n",
       "      <td>0.359817</td>\n",
       "      <td>0.178332</td>\n",
       "      <td>0.131239</td>\n",
       "      <td>0.276739</td>\n",
       "      <td>0.234637</td>\n",
       "      <td>0.356655</td>\n",
       "      <td>0.502132</td>\n",
       "    </tr>\n",
       "    <tr>\n",
       "      <th>75%</th>\n",
       "      <td>0.460436</td>\n",
       "      <td>0.503315</td>\n",
       "      <td>0.467114</td>\n",
       "      <td>0.314753</td>\n",
       "      <td>0.333698</td>\n",
       "      <td>0.325597</td>\n",
       "      <td>0.444774</td>\n",
       "      <td>0.610256</td>\n",
       "    </tr>\n",
       "    <tr>\n",
       "      <th>max</th>\n",
       "      <td>0.753985</td>\n",
       "      <td>0.758234</td>\n",
       "      <td>0.568583</td>\n",
       "      <td>0.484099</td>\n",
       "      <td>0.557818</td>\n",
       "      <td>0.459599</td>\n",
       "      <td>0.691949</td>\n",
       "      <td>0.725632</td>\n",
       "    </tr>\n",
       "  </tbody>\n",
       "</table>\n",
       "</div>"
      ],
      "text/plain": [
       "                0           1           2           3           4           5  \\\n",
       "count  367.000000  367.000000  367.000000  367.000000  367.000000  367.000000   \n",
       "mean     0.320149    0.358405    0.282554    0.188481    0.281638    0.229494   \n",
       "std      0.209126    0.172477    0.162591    0.132668    0.079377    0.113328   \n",
       "min      0.000000    0.000000    0.000000    0.000000    0.000000    0.000000   \n",
       "25%      0.126576    0.204693    0.140677    0.066467    0.232790    0.129050   \n",
       "50%      0.294449    0.359817    0.178332    0.131239    0.276739    0.234637   \n",
       "75%      0.460436    0.503315    0.467114    0.314753    0.333698    0.325597   \n",
       "max      0.753985    0.758234    0.568583    0.484099    0.557818    0.459599   \n",
       "\n",
       "                6           7  \n",
       "count  367.000000  367.000000  \n",
       "mean     0.346549    0.441722  \n",
       "std      0.146776    0.221005  \n",
       "min      0.000000    0.000000  \n",
       "25%      0.225868    0.369775  \n",
       "50%      0.356655    0.502132  \n",
       "75%      0.444774    0.610256  \n",
       "max      0.691949    0.725632  "
      ]
     },
     "execution_count": 81,
     "metadata": {},
     "output_type": "execute_result"
    }
   ],
   "source": [
    "x=pd.DataFrame(x)\n",
    "x.describe()"
   ]
  },
  {
   "cell_type": "code",
   "execution_count": 82,
   "id": "dc9c658b",
   "metadata": {},
   "outputs": [
    {
     "name": "stdout",
     "output_type": "stream",
     "text": [
      "MSE Is: 8.45988173749692\n",
      "R squared value is : 0.49982927851639347\n"
     ]
    }
   ],
   "source": [
    "x_train,x_test,y_train,y_test=train_test_split(x,y,random_state=42,test_size=0.2)\n",
    "model=lr.fit(x_train,y_train)\n",
    "prediction=model.predict(x_test)\n",
    "print('MSE Is:',mean_squared_error(y_test,prediction))\n",
    "print('R squared value is :',r2_score(y_test,prediction))"
   ]
  },
  {
   "cell_type": "code",
   "execution_count": 83,
   "id": "906a93b9",
   "metadata": {},
   "outputs": [
    {
     "data": {
      "text/plain": [
       "<Axes: >"
      ]
     },
     "execution_count": 83,
     "metadata": {},
     "output_type": "execute_result"
    },
    {
     "data": {
      "image/png": "[encoded data removed]",
      "text/plain": [
       "<Figure size 2000x800 with 2 Axes>"
      ]
     },
     "metadata": {},
     "output_type": "display_data"
    }
   ],
   "source": [
    "corrmatrix =data.corr()\n",
    "plt.subplots(figsize=(20,8))\n",
    "sns.heatmap(corrmatrix,vmin=0.4,vmax=0.9,annot=True,linewidth=0.2,cmap='YlGnBu')"
   ]
  },
  {
   "cell_type": "code",
   "execution_count": null,
   "id": "be135528",
   "metadata": {},
   "outputs": [],
   "source": []
  },
  {
   "cell_type": "code",
   "execution_count": null,
   "id": "d22cc942",
   "metadata": {},
   "outputs": [],
   "source": []
  }
 ],
 "metadata": {
  "kernelspec": {
   "display_name": "Python 3 (ipykernel)",
   "language": "python",
   "name": "python3"
  },
  "language_info": {
   "codemirror_mode": {
    "name": "ipython",
    "version": 3
   },
   "file_extension": ".py",
   "mimetype": "text/x-python",
   "name": "python",
   "nbconvert_exporter": "python",
   "pygments_lexer": "ipython3",
   "version": "3.11.4"
  }
 },
 "nbformat": 4,
 "nbformat_minor": 5
}
